{
 "cells": [
  {
   "cell_type": "markdown",
   "metadata": {},
   "source": [
    "### Topic Extraction Steps:\n",
    "\n",
    "1. **Loading Data**: Import the tokenized sentences from a CSV file.\n",
    "2. **Document Concatenation**: Combine sentences based on their `paper_id` to form single-document entries.\n",
    "3. **Topic Model Loading**: Initialize and load a BERTopic model for extracting topics from the concatenated documents.\n",
    "4. **Topic Extraction**: Apply the BERTopic model to documents, identifying and extracting topics (approximately 10 minutes for processing).\n",
    "5. **Topic Visualization**: Visualize the distribution, hierarchy, and frequency of topics using various BERTopic visualization methods.\n",
    "6. **Model Saving**: Save the trained BERTopic model for future use, including its configuration and associated data.\n",
    "7. **Topic Labeling**: Generate descriptive labels for each identified topic for easier interpretation and analysis.\n",
    "8. **Topic Exploration**: Investigate the topics, including their labels, frequency, and representative documents.\n",
    "9. **Representative Document Identification**: Determine the most representative documents for each topic based on their topic probabilities.\n"
   ]
  },
  {
   "cell_type": "markdown",
   "metadata": {},
   "source": [
    "Load in the sentences"
   ]
  },
  {
   "cell_type": "code",
   "execution_count": 103,
   "metadata": {},
   "outputs": [],
   "source": [
    "import pandas as pd\n",
    "from tqdm import tqdm\n",
    "\n",
    "# Load the original CSV file\n",
    "df = pd.read_csv('../clean.csv')"
   ]
  },
  {
   "cell_type": "markdown",
   "metadata": {},
   "source": [
    "Concatenate them based on the paper_id so that each entry represents a single document."
   ]
  },
  {
   "cell_type": "code",
   "execution_count": 104,
   "metadata": {},
   "outputs": [],
   "source": [
    "# Concatenate sentences based on 'paper_id'\n",
    "concatenated_df = df.groupby('paper_id')['text'].apply(lambda x: ' '.join(x)).reset_index()"
   ]
  },
  {
   "cell_type": "code",
   "execution_count": 105,
   "metadata": {},
   "outputs": [],
   "source": [
    "concatenated_df.to_csv('../concatenated.csv', index=False)"
   ]
  },
  {
   "cell_type": "code",
   "execution_count": 106,
   "metadata": {},
   "outputs": [],
   "source": [
    "concatenated_df = pd.read_csv('../concatenated.csv')"
   ]
  },
  {
   "cell_type": "code",
   "execution_count": 107,
   "metadata": {},
   "outputs": [
    {
     "data": {
      "text/html": [
       "<div>\n",
       "<style scoped>\n",
       "    .dataframe tbody tr th:only-of-type {\n",
       "        vertical-align: middle;\n",
       "    }\n",
       "\n",
       "    .dataframe tbody tr th {\n",
       "        vertical-align: top;\n",
       "    }\n",
       "\n",
       "    .dataframe thead th {\n",
       "        text-align: right;\n",
       "    }\n",
       "</style>\n",
       "<table border=\"1\" class=\"dataframe\">\n",
       "  <thead>\n",
       "    <tr style=\"text-align: right;\">\n",
       "      <th></th>\n",
       "      <th>paper_id</th>\n",
       "      <th>text</th>\n",
       "    </tr>\n",
       "  </thead>\n",
       "  <tbody>\n",
       "    <tr>\n",
       "      <th>0</th>\n",
       "      <td>0000028b5cc154f68b8a269f6578f21e31f62977</td>\n",
       "      <td>according to current live statistics at the ti...</td>\n",
       "    </tr>\n",
       "    <tr>\n",
       "      <th>1</th>\n",
       "      <td>001c31c3d9313733a48cc15afcbceeba87c6a990</td>\n",
       "      <td>targeted therapy of pulmonary arterial hyperte...</td>\n",
       "    </tr>\n",
       "    <tr>\n",
       "      <th>2</th>\n",
       "      <td>002d57a50a1c54ef56b30a15c8a38070daf3ed36</td>\n",
       "      <td>the pandemic from the new coronavirus reveals ...</td>\n",
       "    </tr>\n",
       "    <tr>\n",
       "      <th>3</th>\n",
       "      <td>0044751d1601a255ad9cfc03b865d7a63dfc4e29</td>\n",
       "      <td>the next biggest disruption in medical imaging...</td>\n",
       "    </tr>\n",
       "    <tr>\n",
       "      <th>4</th>\n",
       "      <td>0044e5404a906a0e00ff53c36e56dc21a4d4c37c</td>\n",
       "      <td>cOVID-19 is not just a name now. it has become...</td>\n",
       "    </tr>\n",
       "    <tr>\n",
       "      <th>...</th>\n",
       "      <td>...</td>\n",
       "      <td>...</td>\n",
       "    </tr>\n",
       "    <tr>\n",
       "      <th>9856</th>\n",
       "      <td>ffb2e3383d60dcee77b5ce6ef69061050df90f7f</td>\n",
       "      <td>comprehensively exploring what factors might i...</td>\n",
       "    </tr>\n",
       "    <tr>\n",
       "      <th>9857</th>\n",
       "      <td>ffce83247a944b8059d28c3b80af95fb09e02638</td>\n",
       "      <td>enteroviruses of the Piconaviridae family are ...</td>\n",
       "    </tr>\n",
       "    <tr>\n",
       "      <th>9858</th>\n",
       "      <td>ffea7ba3e851069566953f62c666856312ef5e10</td>\n",
       "      <td>background CD4 T cells are crucial for the gen...</td>\n",
       "    </tr>\n",
       "    <tr>\n",
       "      <th>9859</th>\n",
       "      <td>ffeb5183a5edb2e7477d21b217cd72ccb07c51b5</td>\n",
       "      <td>impaired sleep may be a causal factor in the p...</td>\n",
       "    </tr>\n",
       "    <tr>\n",
       "      <th>9860</th>\n",
       "      <td>fff3fadff34f3feb54be088472b2a65ca8d9fddc</td>\n",
       "      <td>because of the rapid global spread of COVID-19...</td>\n",
       "    </tr>\n",
       "  </tbody>\n",
       "</table>\n",
       "<p>9861 rows × 2 columns</p>\n",
       "</div>"
      ],
      "text/plain": [
       "                                      paper_id  \\\n",
       "0     0000028b5cc154f68b8a269f6578f21e31f62977   \n",
       "1     001c31c3d9313733a48cc15afcbceeba87c6a990   \n",
       "2     002d57a50a1c54ef56b30a15c8a38070daf3ed36   \n",
       "3     0044751d1601a255ad9cfc03b865d7a63dfc4e29   \n",
       "4     0044e5404a906a0e00ff53c36e56dc21a4d4c37c   \n",
       "...                                        ...   \n",
       "9856  ffb2e3383d60dcee77b5ce6ef69061050df90f7f   \n",
       "9857  ffce83247a944b8059d28c3b80af95fb09e02638   \n",
       "9858  ffea7ba3e851069566953f62c666856312ef5e10   \n",
       "9859  ffeb5183a5edb2e7477d21b217cd72ccb07c51b5   \n",
       "9860  fff3fadff34f3feb54be088472b2a65ca8d9fddc   \n",
       "\n",
       "                                                   text  \n",
       "0     according to current live statistics at the ti...  \n",
       "1     targeted therapy of pulmonary arterial hyperte...  \n",
       "2     the pandemic from the new coronavirus reveals ...  \n",
       "3     the next biggest disruption in medical imaging...  \n",
       "4     cOVID-19 is not just a name now. it has become...  \n",
       "...                                                 ...  \n",
       "9856  comprehensively exploring what factors might i...  \n",
       "9857  enteroviruses of the Piconaviridae family are ...  \n",
       "9858  background CD4 T cells are crucial for the gen...  \n",
       "9859  impaired sleep may be a causal factor in the p...  \n",
       "9860  because of the rapid global spread of COVID-19...  \n",
       "\n",
       "[9861 rows x 2 columns]"
      ]
     },
     "execution_count": 107,
     "metadata": {},
     "output_type": "execute_result"
    }
   ],
   "source": [
    "concatenated_df"
   ]
  },
  {
   "cell_type": "markdown",
   "metadata": {},
   "source": [
    "Load BERTopic model for topic extraction"
   ]
  },
  {
   "cell_type": "code",
   "execution_count": 108,
   "metadata": {},
   "outputs": [],
   "source": [
    "from bertopic import BERTopic\n",
    "from bertopic.representation import KeyBERTInspired"
   ]
  },
  {
   "cell_type": "code",
   "execution_count": 109,
   "metadata": {},
   "outputs": [],
   "source": [
    "# Each entry in the concatenated df is a paper\n",
    "documents = concatenated_df['text'].tolist()"
   ]
  },
  {
   "cell_type": "code",
   "execution_count": 110,
   "metadata": {},
   "outputs": [],
   "source": [
    "# Initialize BERTopic with KeyBERTInspired representation model\n",
    "model = BERTopic(representation_model=KeyBERTInspired(), calculate_probabilities=True, nr_topics=35, n_gram_range=(1, 3))"
   ]
  },
  {
   "cell_type": "markdown",
   "metadata": {},
   "source": [
    "Extract the topics from the documents (this takes about 20 min)"
   ]
  },
  {
   "cell_type": "code",
   "execution_count": 111,
   "metadata": {},
   "outputs": [],
   "source": [
    "# Fit the model and transform data into topics\n",
    "topics, probabilities = model.fit_transform(documents)"
   ]
  },
  {
   "cell_type": "code",
   "execution_count": 112,
   "metadata": {},
   "outputs": [
    {
     "name": "stdout",
     "output_type": "stream",
     "text": [
      "    Topic  Count\n",
      "6      -1   3572\n",
      "0       0   2445\n",
      "1       1   1343\n",
      "5       2    359\n",
      "21      3    240\n",
      "3       4    180\n",
      "8       5    179\n",
      "18      6    175\n",
      "9       7    131\n",
      "14      8    117\n",
      "11      9    110\n",
      "16     10    104\n",
      "10     11     99\n",
      "34     12     83\n",
      "25     13     76\n",
      "23     14     62\n",
      "4      15     61\n",
      "2      16     61\n",
      "7      17     55\n",
      "29     18     50\n",
      "19     19     46\n",
      "24     20     40\n",
      "28     21     39\n",
      "30     22     30\n",
      "27     23     30\n",
      "20     24     28\n",
      "15     25     24\n",
      "22     26     21\n",
      "32     27     20\n",
      "33     28     15\n",
      "17     29     15\n",
      "31     30     14\n",
      "26     31     14\n",
      "12     32     12\n",
      "13     33     11\n"
     ]
    }
   ],
   "source": [
    "# Get the most frequent topics\n",
    "most_frequent_topics = model.get_topic_freq()\n",
    "print(most_frequent_topics)"
   ]
  },
  {
   "cell_type": "code",
   "execution_count": 113,
   "metadata": {},
   "outputs": [
    {
     "data": {
      "application/vnd.plotly.v1+json": {
       "config": {
        "plotlyServerURL": "https://plot.ly"
       },
       "data": [
        {
         "customdata": [
          [
           0,
           "vaccine | infection | virus | viral | disease",
           2445
          ],
          [
           1,
           "health | healthcare | medical | patients | cancer",
           1343
          ],
          [
           2,
           "viruses | viral | virus | rna | infected",
           359
          ],
          [
           3,
           "cells | cell | proteins | cellular | immune",
           240
          ],
          [
           4,
           "education | digital | learning | teaching | technology",
           180
          ],
          [
           5,
           "antimicrobial | antibiotic | antibiotics | bacterial | infections",
           179
          ],
          [
           6,
           "diabetes | hypertension | glucose | mortality | sepsis",
           175
          ],
          [
           7,
           "climate change | pollution | climate | environmental | emissions",
           131
          ],
          [
           8,
           "molecular | molecules | ligand | nanoparticles | compounds",
           117
          ],
          [
           9,
           "dementia | elderly | older adults | health | wellbeing",
           110
          ],
          [
           10,
           "vitamin | of vitamin | psoriasis | inflammatory | psoriatic",
           104
          ],
          [
           11,
           "dietary | nutrition | foods | food waste | diet",
           99
          ],
          [
           12,
           "authors declare no | no conflicts of | declare no conflicts | no conflicts | are no conflicts",
           83
          ],
          [
           13,
           "chemotherapy | breast cancer | cancer | tumors | tumor",
           76
          ],
          [
           14,
           "editors | the authors declare | manuscript | the manuscript | publication",
           62
          ],
          [
           15,
           "benzotriazole | compounds | metabolites | herbal | flavonoids",
           61
          ],
          [
           16,
           "machine learning | classification | datasets | algorithms | learning",
           61
          ],
          [
           17,
           "banks | financial | bank | markets | monetary",
           55
          ],
          [
           18,
           "medications | medication | prescription | drug | pharmacy",
           50
          ],
          [
           19,
           "muscle mass | sarcopenia | muscle | athlete | physical activity",
           46
          ],
          [
           20,
           "retinal | cataract | lenses | ocular | corneal",
           40
          ],
          [
           21,
           "tobacco use | tobacco | of tobacco | nicotine | smoking",
           39
          ],
          [
           22,
           "innovation | technology | knowledge | research | behaviors",
           30
          ],
          [
           23,
           "multiple sclerosis | patients with ms | living with ms | sclerosis | demyelination",
           30
          ],
          [
           24,
           "tb infection | tuberculosis | active tb | tb cases | of tb",
           28
          ],
          [
           25,
           "wearables | wearable | smartwatch | devices | sensing",
           24
          ],
          [
           26,
           "and documentclass12ptminimal usepackageamsmath | documentclass12ptminimal usepackageamsmath usepackagewasysym | usepackageupgreek setlengthoddsidemargin69pt begindocumentmathcal | begindocumentmathcal | setlengthoddsidemargin69pt begindocumentmathcal",
           21
          ],
          [
           27,
           "sleep quality | insomnia | of sleep | sleep | circadian",
           20
          ],
          [
           28,
           "iot | cloud | security | blockchain | authentication",
           15
          ],
          [
           29,
           "interaction | foraging | recognition | emotion | robot",
           15
          ],
          [
           30,
           "to | we | for | the | and",
           14
          ],
          [
           31,
           "autism | of autism | autistic people | autistic | children with",
           14
          ],
          [
           32,
           "acute cholecystitis | appendicitis | cholecystectomy | laparoscopic cholecystectomy | cholecystitis",
           12
          ],
          [
           33,
           "plastics | microplastics | bioplastics | microplastic | of plastic",
           11
          ]
         ],
         "hovertemplate": "<b>Topic %{customdata[0]}</b><br>%{customdata[1]}<br>Size: %{customdata[2]}",
         "legendgroup": "",
         "marker": {
          "color": "#B0BEC5",
          "line": {
           "color": "DarkSlateGrey",
           "width": 2
          },
          "size": [
           2445,
           1343,
           359,
           240,
           180,
           179,
           175,
           131,
           117,
           110,
           104,
           99,
           83,
           76,
           62,
           61,
           61,
           55,
           50,
           46,
           40,
           39,
           30,
           30,
           28,
           24,
           21,
           20,
           15,
           15,
           14,
           14,
           12,
           11
          ],
          "sizemode": "area",
          "sizeref": 1.528125,
          "symbol": "circle"
         },
         "mode": "markers",
         "name": "",
         "orientation": "v",
         "showlegend": false,
         "type": "scatter",
         "x": [
          -3.4876368045806885,
          -2.0265138149261475,
          -3.321650266647339,
          9.542765617370605,
          -1.8193403482437134,
          -4.310917377471924,
          -5.098810195922852,
          7.73567533493042,
          9.570151329040527,
          -1.4541592597961426,
          -5.131022930145264,
          7.539772987365723,
          -2.381152629852295,
          9.695024490356445,
          -2.5433807373046875,
          -4.373717308044434,
          -11.139796257019043,
          8.000347137451172,
          -2.264004707336426,
          -1.6365865468978882,
          -5.3677215576171875,
          -2.270836353302002,
          -1.5461701154708862,
          -3.704225540161133,
          -4.293595790863037,
          -11.271413803100586,
          -10.874717712402344,
          -1.1154601573944092,
          -11.355023384094238,
          -1.3994961977005005,
          -2.764824390411377,
          -1.4196151494979858,
          -3.9649548530578613,
          7.6041131019592285
         ],
         "xaxis": "x",
         "y": [
          -3.71429443359375,
          -4.117746829986572,
          -3.9012768268585205,
          10.131671905517578,
          -4.782230377197266,
          -2.997093677520752,
          -18.041683197021484,
          2.920656204223633,
          10.15903091430664,
          -3.6815083026885986,
          -18.009572982788086,
          2.724839210510254,
          14.337181091308594,
          10.283952713012695,
          14.499472618103027,
          -2.8898584842681885,
          1.002869725227356,
          3.185779094696045,
          -4.505502223968506,
          -3.5634653568267822,
          -17.772701263427734,
          -4.282686233520508,
          -4.799370288848877,
          -3.5575435161590576,
          -3.3562581539154053,
          1.1398574113845825,
          0.7363415360450745,
          -3.4825620651245117,
          1.2255277633666992,
          -4.86837911605835,
          14.72091007232666,
          -3.2415401935577393,
          -3.0716536045074463,
          2.7891197204589844
         ],
         "yaxis": "y"
        }
       ],
       "layout": {
        "annotations": [
         {
          "showarrow": false,
          "text": "D1",
          "x": -13.058276891708374,
          "y": -1.9094445466995236,
          "yshift": 10
         },
         {
          "showarrow": false,
          "text": "D2",
          "x": -0.954499363899231,
          "xshift": 10,
          "y": 16.92904658317566
         }
        ],
        "height": 650,
        "hoverlabel": {
         "bgcolor": "white",
         "font": {
          "family": "Rockwell",
          "size": 16
         }
        },
        "legend": {
         "itemsizing": "constant",
         "tracegroupgap": 0
        },
        "margin": {
         "t": 60
        },
        "shapes": [
         {
          "line": {
           "color": "#CFD8DC",
           "width": 2
          },
          "type": "line",
          "x0": -0.954499363899231,
          "x1": -0.954499363899231,
          "y0": -20.747935676574706,
          "y1": 16.92904658317566
         },
         {
          "line": {
           "color": "#9E9E9E",
           "width": 2
          },
          "type": "line",
          "x0": -13.058276891708374,
          "x1": 11.149278163909912,
          "y0": -1.9094445466995236,
          "y1": -1.9094445466995236
         }
        ],
        "sliders": [
         {
          "active": 0,
          "pad": {
           "t": 50
          },
          "steps": [
           {
            "args": [
             {
              "marker.color": [
               [
                "red",
                "#B0BEC5",
                "#B0BEC5",
                "#B0BEC5",
                "#B0BEC5",
                "#B0BEC5",
                "#B0BEC5",
                "#B0BEC5",
                "#B0BEC5",
                "#B0BEC5",
                "#B0BEC5",
                "#B0BEC5",
                "#B0BEC5",
                "#B0BEC5",
                "#B0BEC5",
                "#B0BEC5",
                "#B0BEC5",
                "#B0BEC5",
                "#B0BEC5",
                "#B0BEC5",
                "#B0BEC5",
                "#B0BEC5",
                "#B0BEC5",
                "#B0BEC5",
                "#B0BEC5",
                "#B0BEC5",
                "#B0BEC5",
                "#B0BEC5",
                "#B0BEC5",
                "#B0BEC5",
                "#B0BEC5",
                "#B0BEC5",
                "#B0BEC5",
                "#B0BEC5"
               ]
              ]
             }
            ],
            "label": "Topic 0",
            "method": "update"
           },
           {
            "args": [
             {
              "marker.color": [
               [
                "#B0BEC5",
                "red",
                "#B0BEC5",
                "#B0BEC5",
                "#B0BEC5",
                "#B0BEC5",
                "#B0BEC5",
                "#B0BEC5",
                "#B0BEC5",
                "#B0BEC5",
                "#B0BEC5",
                "#B0BEC5",
                "#B0BEC5",
                "#B0BEC5",
                "#B0BEC5",
                "#B0BEC5",
                "#B0BEC5",
                "#B0BEC5",
                "#B0BEC5",
                "#B0BEC5",
                "#B0BEC5",
                "#B0BEC5",
                "#B0BEC5",
                "#B0BEC5",
                "#B0BEC5",
                "#B0BEC5",
                "#B0BEC5",
                "#B0BEC5",
                "#B0BEC5",
                "#B0BEC5",
                "#B0BEC5",
                "#B0BEC5",
                "#B0BEC5",
                "#B0BEC5"
               ]
              ]
             }
            ],
            "label": "Topic 1",
            "method": "update"
           },
           {
            "args": [
             {
              "marker.color": [
               [
                "#B0BEC5",
                "#B0BEC5",
                "red",
                "#B0BEC5",
                "#B0BEC5",
                "#B0BEC5",
                "#B0BEC5",
                "#B0BEC5",
                "#B0BEC5",
                "#B0BEC5",
                "#B0BEC5",
                "#B0BEC5",
                "#B0BEC5",
                "#B0BEC5",
                "#B0BEC5",
                "#B0BEC5",
                "#B0BEC5",
                "#B0BEC5",
                "#B0BEC5",
                "#B0BEC5",
                "#B0BEC5",
                "#B0BEC5",
                "#B0BEC5",
                "#B0BEC5",
                "#B0BEC5",
                "#B0BEC5",
                "#B0BEC5",
                "#B0BEC5",
                "#B0BEC5",
                "#B0BEC5",
                "#B0BEC5",
                "#B0BEC5",
                "#B0BEC5",
                "#B0BEC5"
               ]
              ]
             }
            ],
            "label": "Topic 2",
            "method": "update"
           },
           {
            "args": [
             {
              "marker.color": [
               [
                "#B0BEC5",
                "#B0BEC5",
                "#B0BEC5",
                "red",
                "#B0BEC5",
                "#B0BEC5",
                "#B0BEC5",
                "#B0BEC5",
                "#B0BEC5",
                "#B0BEC5",
                "#B0BEC5",
                "#B0BEC5",
                "#B0BEC5",
                "#B0BEC5",
                "#B0BEC5",
                "#B0BEC5",
                "#B0BEC5",
                "#B0BEC5",
                "#B0BEC5",
                "#B0BEC5",
                "#B0BEC5",
                "#B0BEC5",
                "#B0BEC5",
                "#B0BEC5",
                "#B0BEC5",
                "#B0BEC5",
                "#B0BEC5",
                "#B0BEC5",
                "#B0BEC5",
                "#B0BEC5",
                "#B0BEC5",
                "#B0BEC5",
                "#B0BEC5",
                "#B0BEC5"
               ]
              ]
             }
            ],
            "label": "Topic 3",
            "method": "update"
           },
           {
            "args": [
             {
              "marker.color": [
               [
                "#B0BEC5",
                "#B0BEC5",
                "#B0BEC5",
                "#B0BEC5",
                "red",
                "#B0BEC5",
                "#B0BEC5",
                "#B0BEC5",
                "#B0BEC5",
                "#B0BEC5",
                "#B0BEC5",
                "#B0BEC5",
                "#B0BEC5",
                "#B0BEC5",
                "#B0BEC5",
                "#B0BEC5",
                "#B0BEC5",
                "#B0BEC5",
                "#B0BEC5",
                "#B0BEC5",
                "#B0BEC5",
                "#B0BEC5",
                "#B0BEC5",
                "#B0BEC5",
                "#B0BEC5",
                "#B0BEC5",
                "#B0BEC5",
                "#B0BEC5",
                "#B0BEC5",
                "#B0BEC5",
                "#B0BEC5",
                "#B0BEC5",
                "#B0BEC5",
                "#B0BEC5"
               ]
              ]
             }
            ],
            "label": "Topic 4",
            "method": "update"
           },
           {
            "args": [
             {
              "marker.color": [
               [
                "#B0BEC5",
                "#B0BEC5",
                "#B0BEC5",
                "#B0BEC5",
                "#B0BEC5",
                "red",
                "#B0BEC5",
                "#B0BEC5",
                "#B0BEC5",
                "#B0BEC5",
                "#B0BEC5",
                "#B0BEC5",
                "#B0BEC5",
                "#B0BEC5",
                "#B0BEC5",
                "#B0BEC5",
                "#B0BEC5",
                "#B0BEC5",
                "#B0BEC5",
                "#B0BEC5",
                "#B0BEC5",
                "#B0BEC5",
                "#B0BEC5",
                "#B0BEC5",
                "#B0BEC5",
                "#B0BEC5",
                "#B0BEC5",
                "#B0BEC5",
                "#B0BEC5",
                "#B0BEC5",
                "#B0BEC5",
                "#B0BEC5",
                "#B0BEC5",
                "#B0BEC5"
               ]
              ]
             }
            ],
            "label": "Topic 5",
            "method": "update"
           },
           {
            "args": [
             {
              "marker.color": [
               [
                "#B0BEC5",
                "#B0BEC5",
                "#B0BEC5",
                "#B0BEC5",
                "#B0BEC5",
                "#B0BEC5",
                "red",
                "#B0BEC5",
                "#B0BEC5",
                "#B0BEC5",
                "#B0BEC5",
                "#B0BEC5",
                "#B0BEC5",
                "#B0BEC5",
                "#B0BEC5",
                "#B0BEC5",
                "#B0BEC5",
                "#B0BEC5",
                "#B0BEC5",
                "#B0BEC5",
                "#B0BEC5",
                "#B0BEC5",
                "#B0BEC5",
                "#B0BEC5",
                "#B0BEC5",
                "#B0BEC5",
                "#B0BEC5",
                "#B0BEC5",
                "#B0BEC5",
                "#B0BEC5",
                "#B0BEC5",
                "#B0BEC5",
                "#B0BEC5",
                "#B0BEC5"
               ]
              ]
             }
            ],
            "label": "Topic 6",
            "method": "update"
           },
           {
            "args": [
             {
              "marker.color": [
               [
                "#B0BEC5",
                "#B0BEC5",
                "#B0BEC5",
                "#B0BEC5",
                "#B0BEC5",
                "#B0BEC5",
                "#B0BEC5",
                "red",
                "#B0BEC5",
                "#B0BEC5",
                "#B0BEC5",
                "#B0BEC5",
                "#B0BEC5",
                "#B0BEC5",
                "#B0BEC5",
                "#B0BEC5",
                "#B0BEC5",
                "#B0BEC5",
                "#B0BEC5",
                "#B0BEC5",
                "#B0BEC5",
                "#B0BEC5",
                "#B0BEC5",
                "#B0BEC5",
                "#B0BEC5",
                "#B0BEC5",
                "#B0BEC5",
                "#B0BEC5",
                "#B0BEC5",
                "#B0BEC5",
                "#B0BEC5",
                "#B0BEC5",
                "#B0BEC5",
                "#B0BEC5"
               ]
              ]
             }
            ],
            "label": "Topic 7",
            "method": "update"
           },
           {
            "args": [
             {
              "marker.color": [
               [
                "#B0BEC5",
                "#B0BEC5",
                "#B0BEC5",
                "#B0BEC5",
                "#B0BEC5",
                "#B0BEC5",
                "#B0BEC5",
                "#B0BEC5",
                "red",
                "#B0BEC5",
                "#B0BEC5",
                "#B0BEC5",
                "#B0BEC5",
                "#B0BEC5",
                "#B0BEC5",
                "#B0BEC5",
                "#B0BEC5",
                "#B0BEC5",
                "#B0BEC5",
                "#B0BEC5",
                "#B0BEC5",
                "#B0BEC5",
                "#B0BEC5",
                "#B0BEC5",
                "#B0BEC5",
                "#B0BEC5",
                "#B0BEC5",
                "#B0BEC5",
                "#B0BEC5",
                "#B0BEC5",
                "#B0BEC5",
                "#B0BEC5",
                "#B0BEC5",
                "#B0BEC5"
               ]
              ]
             }
            ],
            "label": "Topic 8",
            "method": "update"
           },
           {
            "args": [
             {
              "marker.color": [
               [
                "#B0BEC5",
                "#B0BEC5",
                "#B0BEC5",
                "#B0BEC5",
                "#B0BEC5",
                "#B0BEC5",
                "#B0BEC5",
                "#B0BEC5",
                "#B0BEC5",
                "red",
                "#B0BEC5",
                "#B0BEC5",
                "#B0BEC5",
                "#B0BEC5",
                "#B0BEC5",
                "#B0BEC5",
                "#B0BEC5",
                "#B0BEC5",
                "#B0BEC5",
                "#B0BEC5",
                "#B0BEC5",
                "#B0BEC5",
                "#B0BEC5",
                "#B0BEC5",
                "#B0BEC5",
                "#B0BEC5",
                "#B0BEC5",
                "#B0BEC5",
                "#B0BEC5",
                "#B0BEC5",
                "#B0BEC5",
                "#B0BEC5",
                "#B0BEC5",
                "#B0BEC5"
               ]
              ]
             }
            ],
            "label": "Topic 9",
            "method": "update"
           },
           {
            "args": [
             {
              "marker.color": [
               [
                "#B0BEC5",
                "#B0BEC5",
                "#B0BEC5",
                "#B0BEC5",
                "#B0BEC5",
                "#B0BEC5",
                "#B0BEC5",
                "#B0BEC5",
                "#B0BEC5",
                "#B0BEC5",
                "red",
                "#B0BEC5",
                "#B0BEC5",
                "#B0BEC5",
                "#B0BEC5",
                "#B0BEC5",
                "#B0BEC5",
                "#B0BEC5",
                "#B0BEC5",
                "#B0BEC5",
                "#B0BEC5",
                "#B0BEC5",
                "#B0BEC5",
                "#B0BEC5",
                "#B0BEC5",
                "#B0BEC5",
                "#B0BEC5",
                "#B0BEC5",
                "#B0BEC5",
                "#B0BEC5",
                "#B0BEC5",
                "#B0BEC5",
                "#B0BEC5",
                "#B0BEC5"
               ]
              ]
             }
            ],
            "label": "Topic 10",
            "method": "update"
           },
           {
            "args": [
             {
              "marker.color": [
               [
                "#B0BEC5",
                "#B0BEC5",
                "#B0BEC5",
                "#B0BEC5",
                "#B0BEC5",
                "#B0BEC5",
                "#B0BEC5",
                "#B0BEC5",
                "#B0BEC5",
                "#B0BEC5",
                "#B0BEC5",
                "red",
                "#B0BEC5",
                "#B0BEC5",
                "#B0BEC5",
                "#B0BEC5",
                "#B0BEC5",
                "#B0BEC5",
                "#B0BEC5",
                "#B0BEC5",
                "#B0BEC5",
                "#B0BEC5",
                "#B0BEC5",
                "#B0BEC5",
                "#B0BEC5",
                "#B0BEC5",
                "#B0BEC5",
                "#B0BEC5",
                "#B0BEC5",
                "#B0BEC5",
                "#B0BEC5",
                "#B0BEC5",
                "#B0BEC5",
                "#B0BEC5"
               ]
              ]
             }
            ],
            "label": "Topic 11",
            "method": "update"
           },
           {
            "args": [
             {
              "marker.color": [
               [
                "#B0BEC5",
                "#B0BEC5",
                "#B0BEC5",
                "#B0BEC5",
                "#B0BEC5",
                "#B0BEC5",
                "#B0BEC5",
                "#B0BEC5",
                "#B0BEC5",
                "#B0BEC5",
                "#B0BEC5",
                "#B0BEC5",
                "red",
                "#B0BEC5",
                "#B0BEC5",
                "#B0BEC5",
                "#B0BEC5",
                "#B0BEC5",
                "#B0BEC5",
                "#B0BEC5",
                "#B0BEC5",
                "#B0BEC5",
                "#B0BEC5",
                "#B0BEC5",
                "#B0BEC5",
                "#B0BEC5",
                "#B0BEC5",
                "#B0BEC5",
                "#B0BEC5",
                "#B0BEC5",
                "#B0BEC5",
                "#B0BEC5",
                "#B0BEC5",
                "#B0BEC5"
               ]
              ]
             }
            ],
            "label": "Topic 12",
            "method": "update"
           },
           {
            "args": [
             {
              "marker.color": [
               [
                "#B0BEC5",
                "#B0BEC5",
                "#B0BEC5",
                "#B0BEC5",
                "#B0BEC5",
                "#B0BEC5",
                "#B0BEC5",
                "#B0BEC5",
                "#B0BEC5",
                "#B0BEC5",
                "#B0BEC5",
                "#B0BEC5",
                "#B0BEC5",
                "red",
                "#B0BEC5",
                "#B0BEC5",
                "#B0BEC5",
                "#B0BEC5",
                "#B0BEC5",
                "#B0BEC5",
                "#B0BEC5",
                "#B0BEC5",
                "#B0BEC5",
                "#B0BEC5",
                "#B0BEC5",
                "#B0BEC5",
                "#B0BEC5",
                "#B0BEC5",
                "#B0BEC5",
                "#B0BEC5",
                "#B0BEC5",
                "#B0BEC5",
                "#B0BEC5",
                "#B0BEC5"
               ]
              ]
             }
            ],
            "label": "Topic 13",
            "method": "update"
           },
           {
            "args": [
             {
              "marker.color": [
               [
                "#B0BEC5",
                "#B0BEC5",
                "#B0BEC5",
                "#B0BEC5",
                "#B0BEC5",
                "#B0BEC5",
                "#B0BEC5",
                "#B0BEC5",
                "#B0BEC5",
                "#B0BEC5",
                "#B0BEC5",
                "#B0BEC5",
                "#B0BEC5",
                "#B0BEC5",
                "red",
                "#B0BEC5",
                "#B0BEC5",
                "#B0BEC5",
                "#B0BEC5",
                "#B0BEC5",
                "#B0BEC5",
                "#B0BEC5",
                "#B0BEC5",
                "#B0BEC5",
                "#B0BEC5",
                "#B0BEC5",
                "#B0BEC5",
                "#B0BEC5",
                "#B0BEC5",
                "#B0BEC5",
                "#B0BEC5",
                "#B0BEC5",
                "#B0BEC5",
                "#B0BEC5"
               ]
              ]
             }
            ],
            "label": "Topic 14",
            "method": "update"
           },
           {
            "args": [
             {
              "marker.color": [
               [
                "#B0BEC5",
                "#B0BEC5",
                "#B0BEC5",
                "#B0BEC5",
                "#B0BEC5",
                "#B0BEC5",
                "#B0BEC5",
                "#B0BEC5",
                "#B0BEC5",
                "#B0BEC5",
                "#B0BEC5",
                "#B0BEC5",
                "#B0BEC5",
                "#B0BEC5",
                "#B0BEC5",
                "red",
                "#B0BEC5",
                "#B0BEC5",
                "#B0BEC5",
                "#B0BEC5",
                "#B0BEC5",
                "#B0BEC5",
                "#B0BEC5",
                "#B0BEC5",
                "#B0BEC5",
                "#B0BEC5",
                "#B0BEC5",
                "#B0BEC5",
                "#B0BEC5",
                "#B0BEC5",
                "#B0BEC5",
                "#B0BEC5",
                "#B0BEC5",
                "#B0BEC5"
               ]
              ]
             }
            ],
            "label": "Topic 15",
            "method": "update"
           },
           {
            "args": [
             {
              "marker.color": [
               [
                "#B0BEC5",
                "#B0BEC5",
                "#B0BEC5",
                "#B0BEC5",
                "#B0BEC5",
                "#B0BEC5",
                "#B0BEC5",
                "#B0BEC5",
                "#B0BEC5",
                "#B0BEC5",
                "#B0BEC5",
                "#B0BEC5",
                "#B0BEC5",
                "#B0BEC5",
                "#B0BEC5",
                "#B0BEC5",
                "red",
                "#B0BEC5",
                "#B0BEC5",
                "#B0BEC5",
                "#B0BEC5",
                "#B0BEC5",
                "#B0BEC5",
                "#B0BEC5",
                "#B0BEC5",
                "#B0BEC5",
                "#B0BEC5",
                "#B0BEC5",
                "#B0BEC5",
                "#B0BEC5",
                "#B0BEC5",
                "#B0BEC5",
                "#B0BEC5",
                "#B0BEC5"
               ]
              ]
             }
            ],
            "label": "Topic 16",
            "method": "update"
           },
           {
            "args": [
             {
              "marker.color": [
               [
                "#B0BEC5",
                "#B0BEC5",
                "#B0BEC5",
                "#B0BEC5",
                "#B0BEC5",
                "#B0BEC5",
                "#B0BEC5",
                "#B0BEC5",
                "#B0BEC5",
                "#B0BEC5",
                "#B0BEC5",
                "#B0BEC5",
                "#B0BEC5",
                "#B0BEC5",
                "#B0BEC5",
                "#B0BEC5",
                "#B0BEC5",
                "red",
                "#B0BEC5",
                "#B0BEC5",
                "#B0BEC5",
                "#B0BEC5",
                "#B0BEC5",
                "#B0BEC5",
                "#B0BEC5",
                "#B0BEC5",
                "#B0BEC5",
                "#B0BEC5",
                "#B0BEC5",
                "#B0BEC5",
                "#B0BEC5",
                "#B0BEC5",
                "#B0BEC5",
                "#B0BEC5"
               ]
              ]
             }
            ],
            "label": "Topic 17",
            "method": "update"
           },
           {
            "args": [
             {
              "marker.color": [
               [
                "#B0BEC5",
                "#B0BEC5",
                "#B0BEC5",
                "#B0BEC5",
                "#B0BEC5",
                "#B0BEC5",
                "#B0BEC5",
                "#B0BEC5",
                "#B0BEC5",
                "#B0BEC5",
                "#B0BEC5",
                "#B0BEC5",
                "#B0BEC5",
                "#B0BEC5",
                "#B0BEC5",
                "#B0BEC5",
                "#B0BEC5",
                "#B0BEC5",
                "red",
                "#B0BEC5",
                "#B0BEC5",
                "#B0BEC5",
                "#B0BEC5",
                "#B0BEC5",
                "#B0BEC5",
                "#B0BEC5",
                "#B0BEC5",
                "#B0BEC5",
                "#B0BEC5",
                "#B0BEC5",
                "#B0BEC5",
                "#B0BEC5",
                "#B0BEC5",
                "#B0BEC5"
               ]
              ]
             }
            ],
            "label": "Topic 18",
            "method": "update"
           },
           {
            "args": [
             {
              "marker.color": [
               [
                "#B0BEC5",
                "#B0BEC5",
                "#B0BEC5",
                "#B0BEC5",
                "#B0BEC5",
                "#B0BEC5",
                "#B0BEC5",
                "#B0BEC5",
                "#B0BEC5",
                "#B0BEC5",
                "#B0BEC5",
                "#B0BEC5",
                "#B0BEC5",
                "#B0BEC5",
                "#B0BEC5",
                "#B0BEC5",
                "#B0BEC5",
                "#B0BEC5",
                "#B0BEC5",
                "red",
                "#B0BEC5",
                "#B0BEC5",
                "#B0BEC5",
                "#B0BEC5",
                "#B0BEC5",
                "#B0BEC5",
                "#B0BEC5",
                "#B0BEC5",
                "#B0BEC5",
                "#B0BEC5",
                "#B0BEC5",
                "#B0BEC5",
                "#B0BEC5",
                "#B0BEC5"
               ]
              ]
             }
            ],
            "label": "Topic 19",
            "method": "update"
           },
           {
            "args": [
             {
              "marker.color": [
               [
                "#B0BEC5",
                "#B0BEC5",
                "#B0BEC5",
                "#B0BEC5",
                "#B0BEC5",
                "#B0BEC5",
                "#B0BEC5",
                "#B0BEC5",
                "#B0BEC5",
                "#B0BEC5",
                "#B0BEC5",
                "#B0BEC5",
                "#B0BEC5",
                "#B0BEC5",
                "#B0BEC5",
                "#B0BEC5",
                "#B0BEC5",
                "#B0BEC5",
                "#B0BEC5",
                "#B0BEC5",
                "red",
                "#B0BEC5",
                "#B0BEC5",
                "#B0BEC5",
                "#B0BEC5",
                "#B0BEC5",
                "#B0BEC5",
                "#B0BEC5",
                "#B0BEC5",
                "#B0BEC5",
                "#B0BEC5",
                "#B0BEC5",
                "#B0BEC5",
                "#B0BEC5"
               ]
              ]
             }
            ],
            "label": "Topic 20",
            "method": "update"
           },
           {
            "args": [
             {
              "marker.color": [
               [
                "#B0BEC5",
                "#B0BEC5",
                "#B0BEC5",
                "#B0BEC5",
                "#B0BEC5",
                "#B0BEC5",
                "#B0BEC5",
                "#B0BEC5",
                "#B0BEC5",
                "#B0BEC5",
                "#B0BEC5",
                "#B0BEC5",
                "#B0BEC5",
                "#B0BEC5",
                "#B0BEC5",
                "#B0BEC5",
                "#B0BEC5",
                "#B0BEC5",
                "#B0BEC5",
                "#B0BEC5",
                "#B0BEC5",
                "red",
                "#B0BEC5",
                "#B0BEC5",
                "#B0BEC5",
                "#B0BEC5",
                "#B0BEC5",
                "#B0BEC5",
                "#B0BEC5",
                "#B0BEC5",
                "#B0BEC5",
                "#B0BEC5",
                "#B0BEC5",
                "#B0BEC5"
               ]
              ]
             }
            ],
            "label": "Topic 21",
            "method": "update"
           },
           {
            "args": [
             {
              "marker.color": [
               [
                "#B0BEC5",
                "#B0BEC5",
                "#B0BEC5",
                "#B0BEC5",
                "#B0BEC5",
                "#B0BEC5",
                "#B0BEC5",
                "#B0BEC5",
                "#B0BEC5",
                "#B0BEC5",
                "#B0BEC5",
                "#B0BEC5",
                "#B0BEC5",
                "#B0BEC5",
                "#B0BEC5",
                "#B0BEC5",
                "#B0BEC5",
                "#B0BEC5",
                "#B0BEC5",
                "#B0BEC5",
                "#B0BEC5",
                "#B0BEC5",
                "red",
                "#B0BEC5",
                "#B0BEC5",
                "#B0BEC5",
                "#B0BEC5",
                "#B0BEC5",
                "#B0BEC5",
                "#B0BEC5",
                "#B0BEC5",
                "#B0BEC5",
                "#B0BEC5",
                "#B0BEC5"
               ]
              ]
             }
            ],
            "label": "Topic 22",
            "method": "update"
           },
           {
            "args": [
             {
              "marker.color": [
               [
                "#B0BEC5",
                "#B0BEC5",
                "#B0BEC5",
                "#B0BEC5",
                "#B0BEC5",
                "#B0BEC5",
                "#B0BEC5",
                "#B0BEC5",
                "#B0BEC5",
                "#B0BEC5",
                "#B0BEC5",
                "#B0BEC5",
                "#B0BEC5",
                "#B0BEC5",
                "#B0BEC5",
                "#B0BEC5",
                "#B0BEC5",
                "#B0BEC5",
                "#B0BEC5",
                "#B0BEC5",
                "#B0BEC5",
                "#B0BEC5",
                "#B0BEC5",
                "red",
                "#B0BEC5",
                "#B0BEC5",
                "#B0BEC5",
                "#B0BEC5",
                "#B0BEC5",
                "#B0BEC5",
                "#B0BEC5",
                "#B0BEC5",
                "#B0BEC5",
                "#B0BEC5"
               ]
              ]
             }
            ],
            "label": "Topic 23",
            "method": "update"
           },
           {
            "args": [
             {
              "marker.color": [
               [
                "#B0BEC5",
                "#B0BEC5",
                "#B0BEC5",
                "#B0BEC5",
                "#B0BEC5",
                "#B0BEC5",
                "#B0BEC5",
                "#B0BEC5",
                "#B0BEC5",
                "#B0BEC5",
                "#B0BEC5",
                "#B0BEC5",
                "#B0BEC5",
                "#B0BEC5",
                "#B0BEC5",
                "#B0BEC5",
                "#B0BEC5",
                "#B0BEC5",
                "#B0BEC5",
                "#B0BEC5",
                "#B0BEC5",
                "#B0BEC5",
                "#B0BEC5",
                "#B0BEC5",
                "red",
                "#B0BEC5",
                "#B0BEC5",
                "#B0BEC5",
                "#B0BEC5",
                "#B0BEC5",
                "#B0BEC5",
                "#B0BEC5",
                "#B0BEC5",
                "#B0BEC5"
               ]
              ]
             }
            ],
            "label": "Topic 24",
            "method": "update"
           },
           {
            "args": [
             {
              "marker.color": [
               [
                "#B0BEC5",
                "#B0BEC5",
                "#B0BEC5",
                "#B0BEC5",
                "#B0BEC5",
                "#B0BEC5",
                "#B0BEC5",
                "#B0BEC5",
                "#B0BEC5",
                "#B0BEC5",
                "#B0BEC5",
                "#B0BEC5",
                "#B0BEC5",
                "#B0BEC5",
                "#B0BEC5",
                "#B0BEC5",
                "#B0BEC5",
                "#B0BEC5",
                "#B0BEC5",
                "#B0BEC5",
                "#B0BEC5",
                "#B0BEC5",
                "#B0BEC5",
                "#B0BEC5",
                "#B0BEC5",
                "red",
                "#B0BEC5",
                "#B0BEC5",
                "#B0BEC5",
                "#B0BEC5",
                "#B0BEC5",
                "#B0BEC5",
                "#B0BEC5",
                "#B0BEC5"
               ]
              ]
             }
            ],
            "label": "Topic 25",
            "method": "update"
           },
           {
            "args": [
             {
              "marker.color": [
               [
                "#B0BEC5",
                "#B0BEC5",
                "#B0BEC5",
                "#B0BEC5",
                "#B0BEC5",
                "#B0BEC5",
                "#B0BEC5",
                "#B0BEC5",
                "#B0BEC5",
                "#B0BEC5",
                "#B0BEC5",
                "#B0BEC5",
                "#B0BEC5",
                "#B0BEC5",
                "#B0BEC5",
                "#B0BEC5",
                "#B0BEC5",
                "#B0BEC5",
                "#B0BEC5",
                "#B0BEC5",
                "#B0BEC5",
                "#B0BEC5",
                "#B0BEC5",
                "#B0BEC5",
                "#B0BEC5",
                "#B0BEC5",
                "red",
                "#B0BEC5",
                "#B0BEC5",
                "#B0BEC5",
                "#B0BEC5",
                "#B0BEC5",
                "#B0BEC5",
                "#B0BEC5"
               ]
              ]
             }
            ],
            "label": "Topic 26",
            "method": "update"
           },
           {
            "args": [
             {
              "marker.color": [
               [
                "#B0BEC5",
                "#B0BEC5",
                "#B0BEC5",
                "#B0BEC5",
                "#B0BEC5",
                "#B0BEC5",
                "#B0BEC5",
                "#B0BEC5",
                "#B0BEC5",
                "#B0BEC5",
                "#B0BEC5",
                "#B0BEC5",
                "#B0BEC5",
                "#B0BEC5",
                "#B0BEC5",
                "#B0BEC5",
                "#B0BEC5",
                "#B0BEC5",
                "#B0BEC5",
                "#B0BEC5",
                "#B0BEC5",
                "#B0BEC5",
                "#B0BEC5",
                "#B0BEC5",
                "#B0BEC5",
                "#B0BEC5",
                "#B0BEC5",
                "red",
                "#B0BEC5",
                "#B0BEC5",
                "#B0BEC5",
                "#B0BEC5",
                "#B0BEC5",
                "#B0BEC5"
               ]
              ]
             }
            ],
            "label": "Topic 27",
            "method": "update"
           },
           {
            "args": [
             {
              "marker.color": [
               [
                "#B0BEC5",
                "#B0BEC5",
                "#B0BEC5",
                "#B0BEC5",
                "#B0BEC5",
                "#B0BEC5",
                "#B0BEC5",
                "#B0BEC5",
                "#B0BEC5",
                "#B0BEC5",
                "#B0BEC5",
                "#B0BEC5",
                "#B0BEC5",
                "#B0BEC5",
                "#B0BEC5",
                "#B0BEC5",
                "#B0BEC5",
                "#B0BEC5",
                "#B0BEC5",
                "#B0BEC5",
                "#B0BEC5",
                "#B0BEC5",
                "#B0BEC5",
                "#B0BEC5",
                "#B0BEC5",
                "#B0BEC5",
                "#B0BEC5",
                "#B0BEC5",
                "red",
                "#B0BEC5",
                "#B0BEC5",
                "#B0BEC5",
                "#B0BEC5",
                "#B0BEC5"
               ]
              ]
             }
            ],
            "label": "Topic 28",
            "method": "update"
           },
           {
            "args": [
             {
              "marker.color": [
               [
                "#B0BEC5",
                "#B0BEC5",
                "#B0BEC5",
                "#B0BEC5",
                "#B0BEC5",
                "#B0BEC5",
                "#B0BEC5",
                "#B0BEC5",
                "#B0BEC5",
                "#B0BEC5",
                "#B0BEC5",
                "#B0BEC5",
                "#B0BEC5",
                "#B0BEC5",
                "#B0BEC5",
                "#B0BEC5",
                "#B0BEC5",
                "#B0BEC5",
                "#B0BEC5",
                "#B0BEC5",
                "#B0BEC5",
                "#B0BEC5",
                "#B0BEC5",
                "#B0BEC5",
                "#B0BEC5",
                "#B0BEC5",
                "#B0BEC5",
                "#B0BEC5",
                "#B0BEC5",
                "red",
                "#B0BEC5",
                "#B0BEC5",
                "#B0BEC5",
                "#B0BEC5"
               ]
              ]
             }
            ],
            "label": "Topic 29",
            "method": "update"
           },
           {
            "args": [
             {
              "marker.color": [
               [
                "#B0BEC5",
                "#B0BEC5",
                "#B0BEC5",
                "#B0BEC5",
                "#B0BEC5",
                "#B0BEC5",
                "#B0BEC5",
                "#B0BEC5",
                "#B0BEC5",
                "#B0BEC5",
                "#B0BEC5",
                "#B0BEC5",
                "#B0BEC5",
                "#B0BEC5",
                "#B0BEC5",
                "#B0BEC5",
                "#B0BEC5",
                "#B0BEC5",
                "#B0BEC5",
                "#B0BEC5",
                "#B0BEC5",
                "#B0BEC5",
                "#B0BEC5",
                "#B0BEC5",
                "#B0BEC5",
                "#B0BEC5",
                "#B0BEC5",
                "#B0BEC5",
                "#B0BEC5",
                "#B0BEC5",
                "red",
                "#B0BEC5",
                "#B0BEC5",
                "#B0BEC5"
               ]
              ]
             }
            ],
            "label": "Topic 30",
            "method": "update"
           },
           {
            "args": [
             {
              "marker.color": [
               [
                "#B0BEC5",
                "#B0BEC5",
                "#B0BEC5",
                "#B0BEC5",
                "#B0BEC5",
                "#B0BEC5",
                "#B0BEC5",
                "#B0BEC5",
                "#B0BEC5",
                "#B0BEC5",
                "#B0BEC5",
                "#B0BEC5",
                "#B0BEC5",
                "#B0BEC5",
                "#B0BEC5",
                "#B0BEC5",
                "#B0BEC5",
                "#B0BEC5",
                "#B0BEC5",
                "#B0BEC5",
                "#B0BEC5",
                "#B0BEC5",
                "#B0BEC5",
                "#B0BEC5",
                "#B0BEC5",
                "#B0BEC5",
                "#B0BEC5",
                "#B0BEC5",
                "#B0BEC5",
                "#B0BEC5",
                "#B0BEC5",
                "red",
                "#B0BEC5",
                "#B0BEC5"
               ]
              ]
             }
            ],
            "label": "Topic 31",
            "method": "update"
           },
           {
            "args": [
             {
              "marker.color": [
               [
                "#B0BEC5",
                "#B0BEC5",
                "#B0BEC5",
                "#B0BEC5",
                "#B0BEC5",
                "#B0BEC5",
                "#B0BEC5",
                "#B0BEC5",
                "#B0BEC5",
                "#B0BEC5",
                "#B0BEC5",
                "#B0BEC5",
                "#B0BEC5",
                "#B0BEC5",
                "#B0BEC5",
                "#B0BEC5",
                "#B0BEC5",
                "#B0BEC5",
                "#B0BEC5",
                "#B0BEC5",
                "#B0BEC5",
                "#B0BEC5",
                "#B0BEC5",
                "#B0BEC5",
                "#B0BEC5",
                "#B0BEC5",
                "#B0BEC5",
                "#B0BEC5",
                "#B0BEC5",
                "#B0BEC5",
                "#B0BEC5",
                "#B0BEC5",
                "red",
                "#B0BEC5"
               ]
              ]
             }
            ],
            "label": "Topic 32",
            "method": "update"
           },
           {
            "args": [
             {
              "marker.color": [
               [
                "#B0BEC5",
                "#B0BEC5",
                "#B0BEC5",
                "#B0BEC5",
                "#B0BEC5",
                "#B0BEC5",
                "#B0BEC5",
                "#B0BEC5",
                "#B0BEC5",
                "#B0BEC5",
                "#B0BEC5",
                "#B0BEC5",
                "#B0BEC5",
                "#B0BEC5",
                "#B0BEC5",
                "#B0BEC5",
                "#B0BEC5",
                "#B0BEC5",
                "#B0BEC5",
                "#B0BEC5",
                "#B0BEC5",
                "#B0BEC5",
                "#B0BEC5",
                "#B0BEC5",
                "#B0BEC5",
                "#B0BEC5",
                "#B0BEC5",
                "#B0BEC5",
                "#B0BEC5",
                "#B0BEC5",
                "#B0BEC5",
                "#B0BEC5",
                "#B0BEC5",
                "red"
               ]
              ]
             }
            ],
            "label": "Topic 33",
            "method": "update"
           }
          ]
         }
        ],
        "template": {
         "data": {
          "bar": [
           {
            "error_x": {
             "color": "rgb(36,36,36)"
            },
            "error_y": {
             "color": "rgb(36,36,36)"
            },
            "marker": {
             "line": {
              "color": "white",
              "width": 0.5
             },
             "pattern": {
              "fillmode": "overlay",
              "size": 10,
              "solidity": 0.2
             }
            },
            "type": "bar"
           }
          ],
          "barpolar": [
           {
            "marker": {
             "line": {
              "color": "white",
              "width": 0.5
             },
             "pattern": {
              "fillmode": "overlay",
              "size": 10,
              "solidity": 0.2
             }
            },
            "type": "barpolar"
           }
          ],
          "carpet": [
           {
            "aaxis": {
             "endlinecolor": "rgb(36,36,36)",
             "gridcolor": "white",
             "linecolor": "white",
             "minorgridcolor": "white",
             "startlinecolor": "rgb(36,36,36)"
            },
            "baxis": {
             "endlinecolor": "rgb(36,36,36)",
             "gridcolor": "white",
             "linecolor": "white",
             "minorgridcolor": "white",
             "startlinecolor": "rgb(36,36,36)"
            },
            "type": "carpet"
           }
          ],
          "choropleth": [
           {
            "colorbar": {
             "outlinewidth": 1,
             "tickcolor": "rgb(36,36,36)",
             "ticks": "outside"
            },
            "type": "choropleth"
           }
          ],
          "contour": [
           {
            "colorbar": {
             "outlinewidth": 1,
             "tickcolor": "rgb(36,36,36)",
             "ticks": "outside"
            },
            "colorscale": [
             [
              0,
              "#440154"
             ],
             [
              0.1111111111111111,
              "#482878"
             ],
             [
              0.2222222222222222,
              "#3e4989"
             ],
             [
              0.3333333333333333,
              "#31688e"
             ],
             [
              0.4444444444444444,
              "#26828e"
             ],
             [
              0.5555555555555556,
              "#1f9e89"
             ],
             [
              0.6666666666666666,
              "#35b779"
             ],
             [
              0.7777777777777778,
              "#6ece58"
             ],
             [
              0.8888888888888888,
              "#b5de2b"
             ],
             [
              1,
              "#fde725"
             ]
            ],
            "type": "contour"
           }
          ],
          "contourcarpet": [
           {
            "colorbar": {
             "outlinewidth": 1,
             "tickcolor": "rgb(36,36,36)",
             "ticks": "outside"
            },
            "type": "contourcarpet"
           }
          ],
          "heatmap": [
           {
            "colorbar": {
             "outlinewidth": 1,
             "tickcolor": "rgb(36,36,36)",
             "ticks": "outside"
            },
            "colorscale": [
             [
              0,
              "#440154"
             ],
             [
              0.1111111111111111,
              "#482878"
             ],
             [
              0.2222222222222222,
              "#3e4989"
             ],
             [
              0.3333333333333333,
              "#31688e"
             ],
             [
              0.4444444444444444,
              "#26828e"
             ],
             [
              0.5555555555555556,
              "#1f9e89"
             ],
             [
              0.6666666666666666,
              "#35b779"
             ],
             [
              0.7777777777777778,
              "#6ece58"
             ],
             [
              0.8888888888888888,
              "#b5de2b"
             ],
             [
              1,
              "#fde725"
             ]
            ],
            "type": "heatmap"
           }
          ],
          "heatmapgl": [
           {
            "colorbar": {
             "outlinewidth": 1,
             "tickcolor": "rgb(36,36,36)",
             "ticks": "outside"
            },
            "colorscale": [
             [
              0,
              "#440154"
             ],
             [
              0.1111111111111111,
              "#482878"
             ],
             [
              0.2222222222222222,
              "#3e4989"
             ],
             [
              0.3333333333333333,
              "#31688e"
             ],
             [
              0.4444444444444444,
              "#26828e"
             ],
             [
              0.5555555555555556,
              "#1f9e89"
             ],
             [
              0.6666666666666666,
              "#35b779"
             ],
             [
              0.7777777777777778,
              "#6ece58"
             ],
             [
              0.8888888888888888,
              "#b5de2b"
             ],
             [
              1,
              "#fde725"
             ]
            ],
            "type": "heatmapgl"
           }
          ],
          "histogram": [
           {
            "marker": {
             "line": {
              "color": "white",
              "width": 0.6
             }
            },
            "type": "histogram"
           }
          ],
          "histogram2d": [
           {
            "colorbar": {
             "outlinewidth": 1,
             "tickcolor": "rgb(36,36,36)",
             "ticks": "outside"
            },
            "colorscale": [
             [
              0,
              "#440154"
             ],
             [
              0.1111111111111111,
              "#482878"
             ],
             [
              0.2222222222222222,
              "#3e4989"
             ],
             [
              0.3333333333333333,
              "#31688e"
             ],
             [
              0.4444444444444444,
              "#26828e"
             ],
             [
              0.5555555555555556,
              "#1f9e89"
             ],
             [
              0.6666666666666666,
              "#35b779"
             ],
             [
              0.7777777777777778,
              "#6ece58"
             ],
             [
              0.8888888888888888,
              "#b5de2b"
             ],
             [
              1,
              "#fde725"
             ]
            ],
            "type": "histogram2d"
           }
          ],
          "histogram2dcontour": [
           {
            "colorbar": {
             "outlinewidth": 1,
             "tickcolor": "rgb(36,36,36)",
             "ticks": "outside"
            },
            "colorscale": [
             [
              0,
              "#440154"
             ],
             [
              0.1111111111111111,
              "#482878"
             ],
             [
              0.2222222222222222,
              "#3e4989"
             ],
             [
              0.3333333333333333,
              "#31688e"
             ],
             [
              0.4444444444444444,
              "#26828e"
             ],
             [
              0.5555555555555556,
              "#1f9e89"
             ],
             [
              0.6666666666666666,
              "#35b779"
             ],
             [
              0.7777777777777778,
              "#6ece58"
             ],
             [
              0.8888888888888888,
              "#b5de2b"
             ],
             [
              1,
              "#fde725"
             ]
            ],
            "type": "histogram2dcontour"
           }
          ],
          "mesh3d": [
           {
            "colorbar": {
             "outlinewidth": 1,
             "tickcolor": "rgb(36,36,36)",
             "ticks": "outside"
            },
            "type": "mesh3d"
           }
          ],
          "parcoords": [
           {
            "line": {
             "colorbar": {
              "outlinewidth": 1,
              "tickcolor": "rgb(36,36,36)",
              "ticks": "outside"
             }
            },
            "type": "parcoords"
           }
          ],
          "pie": [
           {
            "automargin": true,
            "type": "pie"
           }
          ],
          "scatter": [
           {
            "fillpattern": {
             "fillmode": "overlay",
             "size": 10,
             "solidity": 0.2
            },
            "type": "scatter"
           }
          ],
          "scatter3d": [
           {
            "line": {
             "colorbar": {
              "outlinewidth": 1,
              "tickcolor": "rgb(36,36,36)",
              "ticks": "outside"
             }
            },
            "marker": {
             "colorbar": {
              "outlinewidth": 1,
              "tickcolor": "rgb(36,36,36)",
              "ticks": "outside"
             }
            },
            "type": "scatter3d"
           }
          ],
          "scattercarpet": [
           {
            "marker": {
             "colorbar": {
              "outlinewidth": 1,
              "tickcolor": "rgb(36,36,36)",
              "ticks": "outside"
             }
            },
            "type": "scattercarpet"
           }
          ],
          "scattergeo": [
           {
            "marker": {
             "colorbar": {
              "outlinewidth": 1,
              "tickcolor": "rgb(36,36,36)",
              "ticks": "outside"
             }
            },
            "type": "scattergeo"
           }
          ],
          "scattergl": [
           {
            "marker": {
             "colorbar": {
              "outlinewidth": 1,
              "tickcolor": "rgb(36,36,36)",
              "ticks": "outside"
             }
            },
            "type": "scattergl"
           }
          ],
          "scattermapbox": [
           {
            "marker": {
             "colorbar": {
              "outlinewidth": 1,
              "tickcolor": "rgb(36,36,36)",
              "ticks": "outside"
             }
            },
            "type": "scattermapbox"
           }
          ],
          "scatterpolar": [
           {
            "marker": {
             "colorbar": {
              "outlinewidth": 1,
              "tickcolor": "rgb(36,36,36)",
              "ticks": "outside"
             }
            },
            "type": "scatterpolar"
           }
          ],
          "scatterpolargl": [
           {
            "marker": {
             "colorbar": {
              "outlinewidth": 1,
              "tickcolor": "rgb(36,36,36)",
              "ticks": "outside"
             }
            },
            "type": "scatterpolargl"
           }
          ],
          "scatterternary": [
           {
            "marker": {
             "colorbar": {
              "outlinewidth": 1,
              "tickcolor": "rgb(36,36,36)",
              "ticks": "outside"
             }
            },
            "type": "scatterternary"
           }
          ],
          "surface": [
           {
            "colorbar": {
             "outlinewidth": 1,
             "tickcolor": "rgb(36,36,36)",
             "ticks": "outside"
            },
            "colorscale": [
             [
              0,
              "#440154"
             ],
             [
              0.1111111111111111,
              "#482878"
             ],
             [
              0.2222222222222222,
              "#3e4989"
             ],
             [
              0.3333333333333333,
              "#31688e"
             ],
             [
              0.4444444444444444,
              "#26828e"
             ],
             [
              0.5555555555555556,
              "#1f9e89"
             ],
             [
              0.6666666666666666,
              "#35b779"
             ],
             [
              0.7777777777777778,
              "#6ece58"
             ],
             [
              0.8888888888888888,
              "#b5de2b"
             ],
             [
              1,
              "#fde725"
             ]
            ],
            "type": "surface"
           }
          ],
          "table": [
           {
            "cells": {
             "fill": {
              "color": "rgb(237,237,237)"
             },
             "line": {
              "color": "white"
             }
            },
            "header": {
             "fill": {
              "color": "rgb(217,217,217)"
             },
             "line": {
              "color": "white"
             }
            },
            "type": "table"
           }
          ]
         },
         "layout": {
          "annotationdefaults": {
           "arrowhead": 0,
           "arrowwidth": 1
          },
          "autotypenumbers": "strict",
          "coloraxis": {
           "colorbar": {
            "outlinewidth": 1,
            "tickcolor": "rgb(36,36,36)",
            "ticks": "outside"
           }
          },
          "colorscale": {
           "diverging": [
            [
             0,
             "rgb(103,0,31)"
            ],
            [
             0.1,
             "rgb(178,24,43)"
            ],
            [
             0.2,
             "rgb(214,96,77)"
            ],
            [
             0.3,
             "rgb(244,165,130)"
            ],
            [
             0.4,
             "rgb(253,219,199)"
            ],
            [
             0.5,
             "rgb(247,247,247)"
            ],
            [
             0.6,
             "rgb(209,229,240)"
            ],
            [
             0.7,
             "rgb(146,197,222)"
            ],
            [
             0.8,
             "rgb(67,147,195)"
            ],
            [
             0.9,
             "rgb(33,102,172)"
            ],
            [
             1,
             "rgb(5,48,97)"
            ]
           ],
           "sequential": [
            [
             0,
             "#440154"
            ],
            [
             0.1111111111111111,
             "#482878"
            ],
            [
             0.2222222222222222,
             "#3e4989"
            ],
            [
             0.3333333333333333,
             "#31688e"
            ],
            [
             0.4444444444444444,
             "#26828e"
            ],
            [
             0.5555555555555556,
             "#1f9e89"
            ],
            [
             0.6666666666666666,
             "#35b779"
            ],
            [
             0.7777777777777778,
             "#6ece58"
            ],
            [
             0.8888888888888888,
             "#b5de2b"
            ],
            [
             1,
             "#fde725"
            ]
           ],
           "sequentialminus": [
            [
             0,
             "#440154"
            ],
            [
             0.1111111111111111,
             "#482878"
            ],
            [
             0.2222222222222222,
             "#3e4989"
            ],
            [
             0.3333333333333333,
             "#31688e"
            ],
            [
             0.4444444444444444,
             "#26828e"
            ],
            [
             0.5555555555555556,
             "#1f9e89"
            ],
            [
             0.6666666666666666,
             "#35b779"
            ],
            [
             0.7777777777777778,
             "#6ece58"
            ],
            [
             0.8888888888888888,
             "#b5de2b"
            ],
            [
             1,
             "#fde725"
            ]
           ]
          },
          "colorway": [
           "#1F77B4",
           "#FF7F0E",
           "#2CA02C",
           "#D62728",
           "#9467BD",
           "#8C564B",
           "#E377C2",
           "#7F7F7F",
           "#BCBD22",
           "#17BECF"
          ],
          "font": {
           "color": "rgb(36,36,36)"
          },
          "geo": {
           "bgcolor": "white",
           "lakecolor": "white",
           "landcolor": "white",
           "showlakes": true,
           "showland": true,
           "subunitcolor": "white"
          },
          "hoverlabel": {
           "align": "left"
          },
          "hovermode": "closest",
          "mapbox": {
           "style": "light"
          },
          "paper_bgcolor": "white",
          "plot_bgcolor": "white",
          "polar": {
           "angularaxis": {
            "gridcolor": "rgb(232,232,232)",
            "linecolor": "rgb(36,36,36)",
            "showgrid": false,
            "showline": true,
            "ticks": "outside"
           },
           "bgcolor": "white",
           "radialaxis": {
            "gridcolor": "rgb(232,232,232)",
            "linecolor": "rgb(36,36,36)",
            "showgrid": false,
            "showline": true,
            "ticks": "outside"
           }
          },
          "scene": {
           "xaxis": {
            "backgroundcolor": "white",
            "gridcolor": "rgb(232,232,232)",
            "gridwidth": 2,
            "linecolor": "rgb(36,36,36)",
            "showbackground": true,
            "showgrid": false,
            "showline": true,
            "ticks": "outside",
            "zeroline": false,
            "zerolinecolor": "rgb(36,36,36)"
           },
           "yaxis": {
            "backgroundcolor": "white",
            "gridcolor": "rgb(232,232,232)",
            "gridwidth": 2,
            "linecolor": "rgb(36,36,36)",
            "showbackground": true,
            "showgrid": false,
            "showline": true,
            "ticks": "outside",
            "zeroline": false,
            "zerolinecolor": "rgb(36,36,36)"
           },
           "zaxis": {
            "backgroundcolor": "white",
            "gridcolor": "rgb(232,232,232)",
            "gridwidth": 2,
            "linecolor": "rgb(36,36,36)",
            "showbackground": true,
            "showgrid": false,
            "showline": true,
            "ticks": "outside",
            "zeroline": false,
            "zerolinecolor": "rgb(36,36,36)"
           }
          },
          "shapedefaults": {
           "fillcolor": "black",
           "line": {
            "width": 0
           },
           "opacity": 0.3
          },
          "ternary": {
           "aaxis": {
            "gridcolor": "rgb(232,232,232)",
            "linecolor": "rgb(36,36,36)",
            "showgrid": false,
            "showline": true,
            "ticks": "outside"
           },
           "baxis": {
            "gridcolor": "rgb(232,232,232)",
            "linecolor": "rgb(36,36,36)",
            "showgrid": false,
            "showline": true,
            "ticks": "outside"
           },
           "bgcolor": "white",
           "caxis": {
            "gridcolor": "rgb(232,232,232)",
            "linecolor": "rgb(36,36,36)",
            "showgrid": false,
            "showline": true,
            "ticks": "outside"
           }
          },
          "title": {
           "x": 0.05
          },
          "xaxis": {
           "automargin": true,
           "gridcolor": "rgb(232,232,232)",
           "linecolor": "rgb(36,36,36)",
           "showgrid": false,
           "showline": true,
           "ticks": "outside",
           "title": {
            "standoff": 15
           },
           "zeroline": false,
           "zerolinecolor": "rgb(36,36,36)"
          },
          "yaxis": {
           "automargin": true,
           "gridcolor": "rgb(232,232,232)",
           "linecolor": "rgb(36,36,36)",
           "showgrid": false,
           "showline": true,
           "ticks": "outside",
           "title": {
            "standoff": 15
           },
           "zeroline": false,
           "zerolinecolor": "rgb(36,36,36)"
          }
         }
        },
        "title": {
         "font": {
          "color": "Black",
          "size": 22
         },
         "text": "<b>Intertopic Distance Map</b>",
         "x": 0.5,
         "xanchor": "center",
         "y": 0.95,
         "yanchor": "top"
        },
        "width": 650,
        "xaxis": {
         "anchor": "y",
         "domain": [
          0,
          1
         ],
         "range": [
          -13.058276891708374,
          11.149278163909912
         ],
         "title": {
          "text": ""
         },
         "visible": false
        },
        "yaxis": {
         "anchor": "x",
         "domain": [
          0,
          1
         ],
         "range": [
          -20.747935676574706,
          16.92904658317566
         ],
         "title": {
          "text": ""
         },
         "visible": false
        }
       }
      }
     },
     "metadata": {},
     "output_type": "display_data"
    }
   ],
   "source": [
    "# Visualize the topics\n",
    "model.visualize_topics()"
   ]
  },
  {
   "cell_type": "code",
   "execution_count": 114,
   "metadata": {},
   "outputs": [
    {
     "data": {
      "application/vnd.plotly.v1+json": {
       "config": {
        "plotlyServerURL": "https://plot.ly"
       },
       "data": [
        {
         "hovertext": "<b>Topic -1</b>:data_pandemic_analysis_research_co",
         "line": {
          "color": "black",
          "width": 1.5
         },
         "mode": "lines+lines",
         "name": "",
         "opacity": 0.1,
         "type": "scatter",
         "x": [
          1,
          2,
          3,
          4,
          5,
          6,
          7,
          8,
          9,
          10
         ],
         "y": [
          0.33069825172424316,
          0.3087623417377472,
          0.25256139039993286,
          0.23513367772102356,
          0.2290804386138916,
          0.22214123606681824,
          0.20370495319366455,
          0.18178194761276245,
          0.17441287636756897,
          0.17413687705993652
         ]
        },
        {
         "hovertext": "<b>Topic 0</b>:vaccine_infection_virus_viral_disea",
         "line": {
          "color": "black",
          "width": 1.5
         },
         "mode": "lines+lines",
         "name": "",
         "opacity": 0.1,
         "type": "scatter",
         "x": [
          1,
          2,
          3,
          4,
          5,
          6,
          7,
          8,
          9,
          10
         ],
         "y": [
          0.5330634117126465,
          0.45629286766052246,
          0.4545660614967346,
          0.4526919722557068,
          0.4140316843986511,
          0.3130788207054138,
          0.21692711114883423,
          0.21592333912849426,
          0.20849952101707458,
          0.20655903220176697
         ]
        },
        {
         "hovertext": "<b>Topic 1</b>:health_healthcare_medical_patients_",
         "line": {
          "color": "black",
          "width": 1.5
         },
         "mode": "lines+lines",
         "name": "",
         "opacity": 0.1,
         "type": "scatter",
         "x": [
          1,
          2,
          3,
          4,
          5,
          6,
          7,
          8,
          9,
          10
         ],
         "y": [
          0.4344661235809326,
          0.41708508133888245,
          0.3859383463859558,
          0.3766326308250427,
          0.317584365606308,
          0.2874252200126648,
          0.2831409275531769,
          0.2723637819290161,
          0.23387226462364197,
          0.21665169298648834
         ]
        },
        {
         "hovertext": "<b>Topic 2</b>:viruses_viral_virus_rna_infected_st",
         "line": {
          "color": "black",
          "width": 1.5
         },
         "mode": "lines+lines",
         "name": "",
         "opacity": 0.1,
         "type": "scatter",
         "x": [
          1,
          2,
          3,
          4,
          5,
          6,
          7,
          8,
          9,
          10
         ],
         "y": [
          0.5475879907608032,
          0.539842963218689,
          0.5184024572372437,
          0.4218475818634033,
          0.40612632036209106,
          0.36131295561790466,
          0.3523082733154297,
          0.3380576968193054,
          0.3222821354866028,
          0.32000720500946045
         ]
        },
        {
         "hovertext": "<b>Topic 3</b>:cells_cell_proteins_cellular_immune",
         "line": {
          "color": "black",
          "width": 1.5
         },
         "mode": "lines+lines",
         "name": "",
         "opacity": 0.1,
         "type": "scatter",
         "x": [
          1,
          2,
          3,
          4,
          5,
          6,
          7,
          8,
          9,
          10
         ],
         "y": [
          0.472678005695343,
          0.41482478380203247,
          0.33314821124076843,
          0.3266383111476898,
          0.3255355954170227,
          0.3239409923553467,
          0.30125898122787476,
          0.29817038774490356,
          0.2932942509651184,
          0.2689361274242401
         ]
        },
        {
         "hovertext": "<b>Topic 4</b>:education_digital_learning_teaching",
         "line": {
          "color": "black",
          "width": 1.5
         },
         "mode": "lines+lines",
         "name": "",
         "opacity": 0.1,
         "type": "scatter",
         "x": [
          1,
          2,
          3,
          4,
          5,
          6,
          7,
          8,
          9,
          10
         ],
         "y": [
          0.3912292718887329,
          0.3559314012527466,
          0.3448215126991272,
          0.3426675796508789,
          0.3410945534706116,
          0.338245153427124,
          0.32189202308654785,
          0.31663721799850464,
          0.30703800916671753,
          0.2922087013721466
         ]
        },
        {
         "hovertext": "<b>Topic 5</b>:antimicrobial_antibiotic_antibiotic",
         "line": {
          "color": "black",
          "width": 1.5
         },
         "mode": "lines+lines",
         "name": "",
         "opacity": 0.1,
         "type": "scatter",
         "x": [
          1,
          2,
          3,
          4,
          5,
          6,
          7,
          8,
          9,
          10
         ],
         "y": [
          0.6116405129432678,
          0.596553385257721,
          0.5891560316085815,
          0.511165976524353,
          0.4905823767185211,
          0.4726349711418152,
          0.4310910403728485,
          0.369670569896698,
          0.26487165689468384,
          0.24597153067588806
         ]
        },
        {
         "hovertext": "<b>Topic 6</b>:diabetes_hypertension_glucose_morta",
         "line": {
          "color": "black",
          "width": 1.5
         },
         "mode": "lines+lines",
         "name": "",
         "opacity": 0.1,
         "type": "scatter",
         "x": [
          1,
          2,
          3,
          4,
          5,
          6,
          7,
          8,
          9,
          10
         ],
         "y": [
          0.5100868940353394,
          0.3766050338745117,
          0.320096492767334,
          0.31156015396118164,
          0.29969215393066406,
          0.29801005125045776,
          0.2934041917324066,
          0.29245635867118835,
          0.28142768144607544,
          0.27389174699783325
         ]
        },
        {
         "hovertext": "<b>Topic 7</b>:climate change_pollution_climate_en",
         "line": {
          "color": "black",
          "width": 1.5
         },
         "mode": "lines+lines",
         "name": "",
         "opacity": 0.1,
         "type": "scatter",
         "x": [
          1,
          2,
          3,
          4,
          5,
          6,
          7,
          8,
          9,
          10
         ],
         "y": [
          0.5765079259872437,
          0.4829738140106201,
          0.47890880703926086,
          0.4737130403518677,
          0.4612710475921631,
          0.3022317886352539,
          0.29395413398742676,
          0.2726016342639923,
          0.24318835139274597,
          0.21007394790649414
         ]
        },
        {
         "hovertext": "<b>Topic 8</b>:molecular_molecules_ligand_nanopart",
         "line": {
          "color": "black",
          "width": 1.5
         },
         "mode": "lines+lines",
         "name": "",
         "opacity": 0.1,
         "type": "scatter",
         "x": [
          1,
          2,
          3,
          4,
          5,
          6,
          7,
          8,
          9,
          10
         ],
         "y": [
          0.5373674035072327,
          0.4885305166244507,
          0.4467948079109192,
          0.4177803695201874,
          0.37688183784484863,
          0.3418218493461609,
          0.271790474653244,
          0.24974754452705383,
          0.2018853724002838,
          0.17699120938777924
         ]
        },
        {
         "hovertext": "<b>Topic 9</b>:dementia_elderly_older adults_healt",
         "line": {
          "color": "black",
          "width": 1.5
         },
         "mode": "lines+lines",
         "name": "",
         "opacity": 0.1,
         "type": "scatter",
         "x": [
          1,
          2,
          3,
          4,
          5,
          6,
          7,
          8,
          9,
          10
         ],
         "y": [
          0.5140815377235413,
          0.4872713088989258,
          0.4347480833530426,
          0.4184589385986328,
          0.3611624240875244,
          0.32467368245124817,
          0.31183281540870667,
          0.25065886974334717,
          0.2506459057331085,
          0.2488897144794464
         ]
        },
        {
         "hovertext": "<b>Topic 10</b>:vitamin_of vitamin_psoriasis_infla",
         "line": {
          "color": "black",
          "width": 1.5
         },
         "mode": "lines+lines",
         "name": "",
         "opacity": 0.1,
         "type": "scatter",
         "x": [
          1,
          2,
          3,
          4,
          5,
          6,
          7,
          8,
          9,
          10
         ],
         "y": [
          0.5806330442428589,
          0.5104113817214966,
          0.28036361932754517,
          0.22375896573066711,
          0.2118079960346222,
          0.1787252128124237,
          0.17625881731510162,
          0.145599827170372,
          0.13967673480510712,
          0.13913187384605408
         ]
        },
        {
         "hovertext": "<b>Topic 11</b>:dietary_nutrition_foods_food waste",
         "line": {
          "color": "black",
          "width": 1.5
         },
         "mode": "lines+lines",
         "name": "",
         "opacity": 0.1,
         "type": "scatter",
         "x": [
          1,
          2,
          3,
          4,
          5,
          6,
          7,
          8,
          9,
          10
         ],
         "y": [
          0.6397416591644287,
          0.5995789766311646,
          0.5322601199150085,
          0.4972512423992157,
          0.45821964740753174,
          0.44831421971321106,
          0.4182776212692261,
          0.4145030379295349,
          0.3959306478500366,
          0.34799259901046753
         ]
        },
        {
         "hovertext": "<b>Topic 12</b>:authors declare no_no conflicts of",
         "line": {
          "color": "black",
          "width": 1.5
         },
         "mode": "lines+lines",
         "name": "",
         "opacity": 0.1,
         "type": "scatter",
         "x": [
          1,
          2,
          3,
          4,
          5,
          6,
          7,
          8,
          9,
          10
         ],
         "y": [
          0.6155225038528442,
          0.6015501022338867,
          0.5789180397987366,
          0.5345360040664673,
          0.5206288695335388,
          0.49596232175827026,
          0.46069079637527466,
          0.4411562383174896,
          0.4298587143421173,
          0.4256979823112488
         ]
        },
        {
         "hovertext": "<b>Topic 13</b>:chemotherapy_breast cancer_cancer_",
         "line": {
          "color": "black",
          "width": 1.5
         },
         "mode": "lines+lines",
         "name": "",
         "opacity": 0.1,
         "type": "scatter",
         "x": [
          1,
          2,
          3,
          4,
          5,
          6,
          7,
          8,
          9,
          10
         ],
         "y": [
          0.42120224237442017,
          0.4099790155887604,
          0.39969778060913086,
          0.36602213978767395,
          0.3615807890892029,
          0.2619168162345886,
          0.21342551708221436,
          0.1959732472896576,
          0.18067528307437897,
          0.1387777477502823
         ]
        },
        {
         "hovertext": "<b>Topic 14</b>:editors_the authors declare_manusc",
         "line": {
          "color": "black",
          "width": 1.5
         },
         "mode": "lines+lines",
         "name": "",
         "opacity": 0.1,
         "type": "scatter",
         "x": [
          1,
          2,
          3,
          4,
          5,
          6,
          7,
          8,
          9,
          10
         ],
         "y": [
          0.5080047249794006,
          0.477597177028656,
          0.47299543023109436,
          0.470974862575531,
          0.47025132179260254,
          0.45601364970207214,
          0.4531230628490448,
          0.447041392326355,
          0.43850457668304443,
          0.421920508146286
         ]
        },
        {
         "hovertext": "<b>Topic 15</b>:benzotriazole_compounds_metabolite",
         "line": {
          "color": "black",
          "width": 1.5
         },
         "mode": "lines+lines",
         "name": "",
         "opacity": 0.1,
         "type": "scatter",
         "x": [
          1,
          2,
          3,
          4,
          5,
          6,
          7,
          8,
          9,
          10
         ],
         "y": [
          0.47182154655456543,
          0.4620181918144226,
          0.4301128387451172,
          0.3845449686050415,
          0.3712153732776642,
          0.31577107310295105,
          0.30255359411239624,
          0.28559914231300354,
          0.26296326518058777,
          0.2485864758491516
         ]
        },
        {
         "hovertext": "<b>Topic 16</b>:machine learning_classification_da",
         "line": {
          "color": "black",
          "width": 1.5
         },
         "mode": "lines+lines",
         "name": "",
         "opacity": 0.1,
         "type": "scatter",
         "x": [
          1,
          2,
          3,
          4,
          5,
          6,
          7,
          8,
          9,
          10
         ],
         "y": [
          0.4723007082939148,
          0.46286311745643616,
          0.4319238066673279,
          0.42340657114982605,
          0.4218452572822571,
          0.400995135307312,
          0.36562931537628174,
          0.3648553490638733,
          0.34923434257507324,
          0.3363191485404968
         ]
        },
        {
         "hovertext": "<b>Topic 17</b>:banks_financial_bank_markets_monet",
         "line": {
          "color": "black",
          "width": 1.5
         },
         "mode": "lines+lines",
         "name": "",
         "opacity": 0.1,
         "type": "scatter",
         "x": [
          1,
          2,
          3,
          4,
          5,
          6,
          7,
          8,
          9,
          10
         ],
         "y": [
          0.4586741328239441,
          0.4565669596195221,
          0.4381532073020935,
          0.42682409286499023,
          0.4013335704803467,
          0.37425464391708374,
          0.3740943372249603,
          0.36641013622283936,
          0.3659394383430481,
          0.35921233892440796
         ]
        },
        {
         "hovertext": "<b>Topic 18</b>:medications_medication_prescriptio",
         "line": {
          "color": "black",
          "width": 1.5
         },
         "mode": "lines+lines",
         "name": "",
         "opacity": 0.1,
         "type": "scatter",
         "x": [
          1,
          2,
          3,
          4,
          5,
          6,
          7,
          8,
          9,
          10
         ],
         "y": [
          0.5748955011367798,
          0.5528883337974548,
          0.5516563653945923,
          0.45714181661605835,
          0.43974366784095764,
          0.4203013777732849,
          0.41264230012893677,
          0.37199294567108154,
          0.3688996434211731,
          0.3625514507293701
         ]
        },
        {
         "hovertext": "<b>Topic 19</b>:muscle mass_sarcopenia_muscle_athl",
         "line": {
          "color": "black",
          "width": 1.5
         },
         "mode": "lines+lines",
         "name": "",
         "opacity": 0.1,
         "type": "scatter",
         "x": [
          1,
          2,
          3,
          4,
          5,
          6,
          7,
          8,
          9,
          10
         ],
         "y": [
          0.5157006978988647,
          0.4600059390068054,
          0.44698402285575867,
          0.37479928135871887,
          0.3493157625198364,
          0.345188707113266,
          0.310735821723938,
          0.30700886249542236,
          0.2835747003555298,
          0.2718794345855713
         ]
        },
        {
         "hovertext": "<b>Topic 20</b>:retinal_cataract_lenses_ocular_cor",
         "line": {
          "color": "black",
          "width": 1.5
         },
         "mode": "lines+lines",
         "name": "",
         "opacity": 0.1,
         "type": "scatter",
         "x": [
          1,
          2,
          3,
          4,
          5,
          6,
          7,
          8,
          9,
          10
         ],
         "y": [
          0.5379257202148438,
          0.5181323289871216,
          0.5082871913909912,
          0.48957502841949463,
          0.43671494722366333,
          0.4259044826030731,
          0.4156119227409363,
          0.3993111252784729,
          0.3909173905849457,
          0.38711023330688477
         ]
        },
        {
         "hovertext": "<b>Topic 21</b>:tobacco use_tobacco_of tobacco_nic",
         "line": {
          "color": "black",
          "width": 1.5
         },
         "mode": "lines+lines",
         "name": "",
         "opacity": 0.1,
         "type": "scatter",
         "x": [
          1,
          2,
          3,
          4,
          5,
          6,
          7,
          8,
          9,
          10
         ],
         "y": [
          0.598402738571167,
          0.5403207540512085,
          0.4941200017929077,
          0.48186665773391724,
          0.4759659171104431,
          0.47079598903656006,
          0.4386431574821472,
          0.43663036823272705,
          0.41913631558418274,
          0.400607168674469
         ]
        },
        {
         "hovertext": "<b>Topic 22</b>:innovation_technology_knowledge_re",
         "line": {
          "color": "black",
          "width": 1.5
         },
         "mode": "lines+lines",
         "name": "",
         "opacity": 0.1,
         "type": "scatter",
         "x": [
          1,
          2,
          3,
          4,
          5,
          6,
          7,
          8,
          9,
          10
         ],
         "y": [
          0.3917761743068695,
          0.39019668102264404,
          0.3758683204650879,
          0.33750104904174805,
          0.22268149256706238,
          0.21519967913627625,
          0.21001474559307098,
          0.17675328254699707,
          0.17629265785217285,
          0.1744193732738495
         ]
        },
        {
         "hovertext": "<b>Topic 23</b>:multiple sclerosis_patients with m",
         "line": {
          "color": "black",
          "width": 1.5
         },
         "mode": "lines+lines",
         "name": "",
         "opacity": 0.1,
         "type": "scatter",
         "x": [
          1,
          2,
          3,
          4,
          5,
          6,
          7,
          8,
          9,
          10
         ],
         "y": [
          0.7704638242721558,
          0.692279040813446,
          0.5706644058227539,
          0.5588049292564392,
          0.5031159520149231,
          0.4827656149864197,
          0.4174192249774933,
          0.3852296471595764,
          0.35264039039611816,
          0.2953653335571289
         ]
        },
        {
         "hovertext": "<b>Topic 24</b>:tb infection_tuberculosis_active t",
         "line": {
          "color": "black",
          "width": 1.5
         },
         "mode": "lines+lines",
         "name": "",
         "opacity": 0.1,
         "type": "scatter",
         "x": [
          1,
          2,
          3,
          4,
          5,
          6,
          7,
          8,
          9,
          10
         ],
         "y": [
          0.7027908563613892,
          0.5982075929641724,
          0.53074049949646,
          0.5282140970230103,
          0.5014123320579529,
          0.501221776008606,
          0.4988901913166046,
          0.4841858744621277,
          0.45926612615585327,
          0.3506700396537781
         ]
        },
        {
         "hovertext": "<b>Topic 25</b>:wearables_wearable_smartwatch_devi",
         "line": {
          "color": "black",
          "width": 1.5
         },
         "mode": "lines+lines",
         "name": "",
         "opacity": 0.1,
         "type": "scatter",
         "x": [
          1,
          2,
          3,
          4,
          5,
          6,
          7,
          8,
          9,
          10
         ],
         "y": [
          0.6417374610900879,
          0.6122854948043823,
          0.6019963026046753,
          0.4635603427886963,
          0.4525107741355896,
          0.44148415327072144,
          0.40903353691101074,
          0.4008387327194214,
          0.29228681325912476,
          0.28114137053489685
         ]
        },
        {
         "hovertext": "<b>Topic 26</b>:and documentclass12ptminimal usepa",
         "line": {
          "color": "black",
          "width": 1.5
         },
         "mode": "lines+lines",
         "name": "",
         "opacity": 0.1,
         "type": "scatter",
         "x": [
          1,
          2,
          3,
          4,
          5,
          6,
          7,
          8,
          9,
          10
         ],
         "y": [
          0.4636291563510895,
          0.45394468307495117,
          0.4363752007484436,
          0.431681364774704,
          0.4281332492828369,
          0.4177985191345215,
          0.39576876163482666,
          0.3936392068862915,
          0.34994274377822876,
          0.3491528034210205
         ]
        },
        {
         "hovertext": "<b>Topic 27</b>:sleep quality_insomnia_of sleep_sl",
         "line": {
          "color": "black",
          "width": 1.5
         },
         "mode": "lines+lines",
         "name": "",
         "opacity": 0.1,
         "type": "scatter",
         "x": [
          1,
          2,
          3,
          4,
          5,
          6,
          7,
          8,
          9,
          10
         ],
         "y": [
          0.595287561416626,
          0.4975598454475403,
          0.4475029408931732,
          0.4394512176513672,
          0.4128487706184387,
          0.4059305489063263,
          0.38453781604766846,
          0.3181801438331604,
          0.2586670517921448,
          0.24401947855949402
         ]
        },
        {
         "hovertext": "<b>Topic 28</b>:iot_cloud_security_blockchain_auth",
         "line": {
          "color": "black",
          "width": 1.5
         },
         "mode": "lines+lines",
         "name": "",
         "opacity": 0.1,
         "type": "scatter",
         "x": [
          1,
          2,
          3,
          4,
          5,
          6,
          7,
          8,
          9,
          10
         ],
         "y": [
          0.5091322064399719,
          0.48852798342704773,
          0.3375772535800934,
          0.312955379486084,
          0.3096204996109009,
          0.3015128970146179,
          0.2881588041782379,
          0.26954329013824463,
          0.26397132873535156,
          0.2621132433414459
         ]
        },
        {
         "hovertext": "<b>Topic 29</b>:interaction_foraging_recognition_e",
         "line": {
          "color": "black",
          "width": 1.5
         },
         "mode": "lines+lines",
         "name": "",
         "opacity": 0.1,
         "type": "scatter",
         "x": [
          1,
          2,
          3,
          4,
          5,
          6,
          7,
          8,
          9,
          10
         ],
         "y": [
          0.4234611988067627,
          0.387412965297699,
          0.37507545948028564,
          0.37047863006591797,
          0.35152775049209595,
          0.3491753935813904,
          0.3420311510562897,
          0.34088969230651855,
          0.3402312397956848,
          0.32132965326309204
         ]
        },
        {
         "hovertext": "<b>Topic 30</b>:to_we_for_the_and_of_as_31 32_in_3",
         "line": {
          "color": "black",
          "width": 1.5
         },
         "mode": "lines+lines",
         "name": "",
         "opacity": 0.1,
         "type": "scatter",
         "x": [
          1,
          2,
          3,
          4,
          5,
          6,
          7,
          8,
          9,
          10
         ],
         "y": [
          0.10804097354412079,
          0.09638732671737671,
          0.09197956323623657,
          0.08616828918457031,
          0.08301050961017609,
          0.080728679895401,
          0.0760074257850647,
          0.07422210276126862,
          0.05841286480426788,
          0.05805410444736481
         ]
        },
        {
         "hovertext": "<b>Topic 31</b>:autism_of autism_autistic people_a",
         "line": {
          "color": "black",
          "width": 1.5
         },
         "mode": "lines+lines",
         "name": "",
         "opacity": 0.1,
         "type": "scatter",
         "x": [
          1,
          2,
          3,
          4,
          5,
          6,
          7,
          8,
          9,
          10
         ],
         "y": [
          0.5667952299118042,
          0.5425324440002441,
          0.4254862368106842,
          0.4137009382247925,
          0.34127289056777954,
          0.32387569546699524,
          0.3023924231529236,
          0.291439950466156,
          0.290811687707901,
          0.2752333879470825
         ]
        },
        {
         "hovertext": "<b>Topic 32</b>:acute cholecystitis_appendicitis_c",
         "line": {
          "color": "black",
          "width": 1.5
         },
         "mode": "lines+lines",
         "name": "",
         "opacity": 0.1,
         "type": "scatter",
         "x": [
          1,
          2,
          3,
          4,
          5,
          6,
          7,
          8,
          9,
          10
         ],
         "y": [
          0.6235126852989197,
          0.5706568360328674,
          0.5693102478981018,
          0.5563755035400391,
          0.5514107346534729,
          0.5438309907913208,
          0.5215986967086792,
          0.5179580450057983,
          0.48540452122688293,
          0.4738291800022125
         ]
        },
        {
         "hovertext": "<b>Topic 33</b>:plastics_microplastics_bioplastics",
         "line": {
          "color": "black",
          "width": 1.5
         },
         "mode": "lines+lines",
         "name": "",
         "opacity": 0.1,
         "type": "scatter",
         "x": [
          1,
          2,
          3,
          4,
          5,
          6,
          7,
          8,
          9,
          10
         ],
         "y": [
          0.6566066741943359,
          0.638020396232605,
          0.6257452368736267,
          0.6055970191955566,
          0.5031827092170715,
          0.47671830654144287,
          0.4635551869869232,
          0.45204028487205505,
          0.4095887243747711,
          0.39366281032562256
         ]
        }
       ],
       "layout": {
        "height": 500,
        "hoverlabel": {
         "bgcolor": "white",
         "font": {
          "family": "Rockwell",
          "size": 16
         }
        },
        "showlegend": false,
        "template": {
         "data": {
          "bar": [
           {
            "error_x": {
             "color": "#2a3f5f"
            },
            "error_y": {
             "color": "#2a3f5f"
            },
            "marker": {
             "line": {
              "color": "white",
              "width": 0.5
             },
             "pattern": {
              "fillmode": "overlay",
              "size": 10,
              "solidity": 0.2
             }
            },
            "type": "bar"
           }
          ],
          "barpolar": [
           {
            "marker": {
             "line": {
              "color": "white",
              "width": 0.5
             },
             "pattern": {
              "fillmode": "overlay",
              "size": 10,
              "solidity": 0.2
             }
            },
            "type": "barpolar"
           }
          ],
          "carpet": [
           {
            "aaxis": {
             "endlinecolor": "#2a3f5f",
             "gridcolor": "#C8D4E3",
             "linecolor": "#C8D4E3",
             "minorgridcolor": "#C8D4E3",
             "startlinecolor": "#2a3f5f"
            },
            "baxis": {
             "endlinecolor": "#2a3f5f",
             "gridcolor": "#C8D4E3",
             "linecolor": "#C8D4E3",
             "minorgridcolor": "#C8D4E3",
             "startlinecolor": "#2a3f5f"
            },
            "type": "carpet"
           }
          ],
          "choropleth": [
           {
            "colorbar": {
             "outlinewidth": 0,
             "ticks": ""
            },
            "type": "choropleth"
           }
          ],
          "contour": [
           {
            "colorbar": {
             "outlinewidth": 0,
             "ticks": ""
            },
            "colorscale": [
             [
              0,
              "#0d0887"
             ],
             [
              0.1111111111111111,
              "#46039f"
             ],
             [
              0.2222222222222222,
              "#7201a8"
             ],
             [
              0.3333333333333333,
              "#9c179e"
             ],
             [
              0.4444444444444444,
              "#bd3786"
             ],
             [
              0.5555555555555556,
              "#d8576b"
             ],
             [
              0.6666666666666666,
              "#ed7953"
             ],
             [
              0.7777777777777778,
              "#fb9f3a"
             ],
             [
              0.8888888888888888,
              "#fdca26"
             ],
             [
              1,
              "#f0f921"
             ]
            ],
            "type": "contour"
           }
          ],
          "contourcarpet": [
           {
            "colorbar": {
             "outlinewidth": 0,
             "ticks": ""
            },
            "type": "contourcarpet"
           }
          ],
          "heatmap": [
           {
            "colorbar": {
             "outlinewidth": 0,
             "ticks": ""
            },
            "colorscale": [
             [
              0,
              "#0d0887"
             ],
             [
              0.1111111111111111,
              "#46039f"
             ],
             [
              0.2222222222222222,
              "#7201a8"
             ],
             [
              0.3333333333333333,
              "#9c179e"
             ],
             [
              0.4444444444444444,
              "#bd3786"
             ],
             [
              0.5555555555555556,
              "#d8576b"
             ],
             [
              0.6666666666666666,
              "#ed7953"
             ],
             [
              0.7777777777777778,
              "#fb9f3a"
             ],
             [
              0.8888888888888888,
              "#fdca26"
             ],
             [
              1,
              "#f0f921"
             ]
            ],
            "type": "heatmap"
           }
          ],
          "heatmapgl": [
           {
            "colorbar": {
             "outlinewidth": 0,
             "ticks": ""
            },
            "colorscale": [
             [
              0,
              "#0d0887"
             ],
             [
              0.1111111111111111,
              "#46039f"
             ],
             [
              0.2222222222222222,
              "#7201a8"
             ],
             [
              0.3333333333333333,
              "#9c179e"
             ],
             [
              0.4444444444444444,
              "#bd3786"
             ],
             [
              0.5555555555555556,
              "#d8576b"
             ],
             [
              0.6666666666666666,
              "#ed7953"
             ],
             [
              0.7777777777777778,
              "#fb9f3a"
             ],
             [
              0.8888888888888888,
              "#fdca26"
             ],
             [
              1,
              "#f0f921"
             ]
            ],
            "type": "heatmapgl"
           }
          ],
          "histogram": [
           {
            "marker": {
             "pattern": {
              "fillmode": "overlay",
              "size": 10,
              "solidity": 0.2
             }
            },
            "type": "histogram"
           }
          ],
          "histogram2d": [
           {
            "colorbar": {
             "outlinewidth": 0,
             "ticks": ""
            },
            "colorscale": [
             [
              0,
              "#0d0887"
             ],
             [
              0.1111111111111111,
              "#46039f"
             ],
             [
              0.2222222222222222,
              "#7201a8"
             ],
             [
              0.3333333333333333,
              "#9c179e"
             ],
             [
              0.4444444444444444,
              "#bd3786"
             ],
             [
              0.5555555555555556,
              "#d8576b"
             ],
             [
              0.6666666666666666,
              "#ed7953"
             ],
             [
              0.7777777777777778,
              "#fb9f3a"
             ],
             [
              0.8888888888888888,
              "#fdca26"
             ],
             [
              1,
              "#f0f921"
             ]
            ],
            "type": "histogram2d"
           }
          ],
          "histogram2dcontour": [
           {
            "colorbar": {
             "outlinewidth": 0,
             "ticks": ""
            },
            "colorscale": [
             [
              0,
              "#0d0887"
             ],
             [
              0.1111111111111111,
              "#46039f"
             ],
             [
              0.2222222222222222,
              "#7201a8"
             ],
             [
              0.3333333333333333,
              "#9c179e"
             ],
             [
              0.4444444444444444,
              "#bd3786"
             ],
             [
              0.5555555555555556,
              "#d8576b"
             ],
             [
              0.6666666666666666,
              "#ed7953"
             ],
             [
              0.7777777777777778,
              "#fb9f3a"
             ],
             [
              0.8888888888888888,
              "#fdca26"
             ],
             [
              1,
              "#f0f921"
             ]
            ],
            "type": "histogram2dcontour"
           }
          ],
          "mesh3d": [
           {
            "colorbar": {
             "outlinewidth": 0,
             "ticks": ""
            },
            "type": "mesh3d"
           }
          ],
          "parcoords": [
           {
            "line": {
             "colorbar": {
              "outlinewidth": 0,
              "ticks": ""
             }
            },
            "type": "parcoords"
           }
          ],
          "pie": [
           {
            "automargin": true,
            "type": "pie"
           }
          ],
          "scatter": [
           {
            "fillpattern": {
             "fillmode": "overlay",
             "size": 10,
             "solidity": 0.2
            },
            "type": "scatter"
           }
          ],
          "scatter3d": [
           {
            "line": {
             "colorbar": {
              "outlinewidth": 0,
              "ticks": ""
             }
            },
            "marker": {
             "colorbar": {
              "outlinewidth": 0,
              "ticks": ""
             }
            },
            "type": "scatter3d"
           }
          ],
          "scattercarpet": [
           {
            "marker": {
             "colorbar": {
              "outlinewidth": 0,
              "ticks": ""
             }
            },
            "type": "scattercarpet"
           }
          ],
          "scattergeo": [
           {
            "marker": {
             "colorbar": {
              "outlinewidth": 0,
              "ticks": ""
             }
            },
            "type": "scattergeo"
           }
          ],
          "scattergl": [
           {
            "marker": {
             "colorbar": {
              "outlinewidth": 0,
              "ticks": ""
             }
            },
            "type": "scattergl"
           }
          ],
          "scattermapbox": [
           {
            "marker": {
             "colorbar": {
              "outlinewidth": 0,
              "ticks": ""
             }
            },
            "type": "scattermapbox"
           }
          ],
          "scatterpolar": [
           {
            "marker": {
             "colorbar": {
              "outlinewidth": 0,
              "ticks": ""
             }
            },
            "type": "scatterpolar"
           }
          ],
          "scatterpolargl": [
           {
            "marker": {
             "colorbar": {
              "outlinewidth": 0,
              "ticks": ""
             }
            },
            "type": "scatterpolargl"
           }
          ],
          "scatterternary": [
           {
            "marker": {
             "colorbar": {
              "outlinewidth": 0,
              "ticks": ""
             }
            },
            "type": "scatterternary"
           }
          ],
          "surface": [
           {
            "colorbar": {
             "outlinewidth": 0,
             "ticks": ""
            },
            "colorscale": [
             [
              0,
              "#0d0887"
             ],
             [
              0.1111111111111111,
              "#46039f"
             ],
             [
              0.2222222222222222,
              "#7201a8"
             ],
             [
              0.3333333333333333,
              "#9c179e"
             ],
             [
              0.4444444444444444,
              "#bd3786"
             ],
             [
              0.5555555555555556,
              "#d8576b"
             ],
             [
              0.6666666666666666,
              "#ed7953"
             ],
             [
              0.7777777777777778,
              "#fb9f3a"
             ],
             [
              0.8888888888888888,
              "#fdca26"
             ],
             [
              1,
              "#f0f921"
             ]
            ],
            "type": "surface"
           }
          ],
          "table": [
           {
            "cells": {
             "fill": {
              "color": "#EBF0F8"
             },
             "line": {
              "color": "white"
             }
            },
            "header": {
             "fill": {
              "color": "#C8D4E3"
             },
             "line": {
              "color": "white"
             }
            },
            "type": "table"
           }
          ]
         },
         "layout": {
          "annotationdefaults": {
           "arrowcolor": "#2a3f5f",
           "arrowhead": 0,
           "arrowwidth": 1
          },
          "autotypenumbers": "strict",
          "coloraxis": {
           "colorbar": {
            "outlinewidth": 0,
            "ticks": ""
           }
          },
          "colorscale": {
           "diverging": [
            [
             0,
             "#8e0152"
            ],
            [
             0.1,
             "#c51b7d"
            ],
            [
             0.2,
             "#de77ae"
            ],
            [
             0.3,
             "#f1b6da"
            ],
            [
             0.4,
             "#fde0ef"
            ],
            [
             0.5,
             "#f7f7f7"
            ],
            [
             0.6,
             "#e6f5d0"
            ],
            [
             0.7,
             "#b8e186"
            ],
            [
             0.8,
             "#7fbc41"
            ],
            [
             0.9,
             "#4d9221"
            ],
            [
             1,
             "#276419"
            ]
           ],
           "sequential": [
            [
             0,
             "#0d0887"
            ],
            [
             0.1111111111111111,
             "#46039f"
            ],
            [
             0.2222222222222222,
             "#7201a8"
            ],
            [
             0.3333333333333333,
             "#9c179e"
            ],
            [
             0.4444444444444444,
             "#bd3786"
            ],
            [
             0.5555555555555556,
             "#d8576b"
            ],
            [
             0.6666666666666666,
             "#ed7953"
            ],
            [
             0.7777777777777778,
             "#fb9f3a"
            ],
            [
             0.8888888888888888,
             "#fdca26"
            ],
            [
             1,
             "#f0f921"
            ]
           ],
           "sequentialminus": [
            [
             0,
             "#0d0887"
            ],
            [
             0.1111111111111111,
             "#46039f"
            ],
            [
             0.2222222222222222,
             "#7201a8"
            ],
            [
             0.3333333333333333,
             "#9c179e"
            ],
            [
             0.4444444444444444,
             "#bd3786"
            ],
            [
             0.5555555555555556,
             "#d8576b"
            ],
            [
             0.6666666666666666,
             "#ed7953"
            ],
            [
             0.7777777777777778,
             "#fb9f3a"
            ],
            [
             0.8888888888888888,
             "#fdca26"
            ],
            [
             1,
             "#f0f921"
            ]
           ]
          },
          "colorway": [
           "#636efa",
           "#EF553B",
           "#00cc96",
           "#ab63fa",
           "#FFA15A",
           "#19d3f3",
           "#FF6692",
           "#B6E880",
           "#FF97FF",
           "#FECB52"
          ],
          "font": {
           "color": "#2a3f5f"
          },
          "geo": {
           "bgcolor": "white",
           "lakecolor": "white",
           "landcolor": "white",
           "showlakes": true,
           "showland": true,
           "subunitcolor": "#C8D4E3"
          },
          "hoverlabel": {
           "align": "left"
          },
          "hovermode": "closest",
          "mapbox": {
           "style": "light"
          },
          "paper_bgcolor": "white",
          "plot_bgcolor": "white",
          "polar": {
           "angularaxis": {
            "gridcolor": "#EBF0F8",
            "linecolor": "#EBF0F8",
            "ticks": ""
           },
           "bgcolor": "white",
           "radialaxis": {
            "gridcolor": "#EBF0F8",
            "linecolor": "#EBF0F8",
            "ticks": ""
           }
          },
          "scene": {
           "xaxis": {
            "backgroundcolor": "white",
            "gridcolor": "#DFE8F3",
            "gridwidth": 2,
            "linecolor": "#EBF0F8",
            "showbackground": true,
            "ticks": "",
            "zerolinecolor": "#EBF0F8"
           },
           "yaxis": {
            "backgroundcolor": "white",
            "gridcolor": "#DFE8F3",
            "gridwidth": 2,
            "linecolor": "#EBF0F8",
            "showbackground": true,
            "ticks": "",
            "zerolinecolor": "#EBF0F8"
           },
           "zaxis": {
            "backgroundcolor": "white",
            "gridcolor": "#DFE8F3",
            "gridwidth": 2,
            "linecolor": "#EBF0F8",
            "showbackground": true,
            "ticks": "",
            "zerolinecolor": "#EBF0F8"
           }
          },
          "shapedefaults": {
           "line": {
            "color": "#2a3f5f"
           }
          },
          "ternary": {
           "aaxis": {
            "gridcolor": "#DFE8F3",
            "linecolor": "#A2B1C6",
            "ticks": ""
           },
           "baxis": {
            "gridcolor": "#DFE8F3",
            "linecolor": "#A2B1C6",
            "ticks": ""
           },
           "bgcolor": "white",
           "caxis": {
            "gridcolor": "#DFE8F3",
            "linecolor": "#A2B1C6",
            "ticks": ""
           }
          },
          "title": {
           "x": 0.05
          },
          "xaxis": {
           "automargin": true,
           "gridcolor": "#EBF0F8",
           "linecolor": "#EBF0F8",
           "ticks": "",
           "title": {
            "standoff": 15
           },
           "zerolinecolor": "#EBF0F8",
           "zerolinewidth": 2
          },
          "yaxis": {
           "automargin": true,
           "gridcolor": "#EBF0F8",
           "linecolor": "#EBF0F8",
           "ticks": "",
           "title": {
            "standoff": 15
           },
           "zerolinecolor": "#EBF0F8",
           "zerolinewidth": 2
          }
         }
        },
        "title": {
         "font": {
          "color": "Black",
          "size": 22
         },
         "text": "<b>Term score decline per Topic</b>",
         "x": 0.5,
         "xanchor": "center",
         "y": 0.9,
         "yanchor": "top"
        },
        "width": 800,
        "xaxis": {
         "dtick": 2,
         "range": [
          0,
          10
         ],
         "tick0": 1,
         "title": {
          "text": "Term Rank"
         }
        },
        "yaxis": {
         "title": {
          "text": "c-TF-IDF score"
         }
        }
       }
      }
     },
     "metadata": {},
     "output_type": "display_data"
    }
   ],
   "source": [
    "model.visualize_term_rank()"
   ]
  },
  {
   "cell_type": "code",
   "execution_count": 115,
   "metadata": {},
   "outputs": [
    {
     "data": {
      "application/vnd.plotly.v1+json": {
       "config": {
        "plotlyServerURL": "https://plot.ly"
       },
       "data": [
        {
         "marker": {
          "color": "#D55E00"
         },
         "orientation": "h",
         "type": "bar",
         "x": [
          0.4140316843986511,
          0.4526919722557068,
          0.4545660614967346,
          0.45629286766052246,
          0.5330634117126465
         ],
         "xaxis": "x",
         "y": [
          "disease  ",
          "viral  ",
          "virus  ",
          "infection  ",
          "vaccine  "
         ],
         "yaxis": "y"
        },
        {
         "marker": {
          "color": "#0072B2"
         },
         "orientation": "h",
         "type": "bar",
         "x": [
          0.317584365606308,
          0.3766326308250427,
          0.3859383463859558,
          0.41708508133888245,
          0.4344661235809326
         ],
         "xaxis": "x2",
         "y": [
          "cancer  ",
          "patients  ",
          "medical  ",
          "healthcare  ",
          "health  "
         ],
         "yaxis": "y2"
        },
        {
         "marker": {
          "color": "#CC79A7"
         },
         "orientation": "h",
         "type": "bar",
         "x": [
          0.40612632036209106,
          0.4218475818634033,
          0.5184024572372437,
          0.539842963218689,
          0.5475879907608032
         ],
         "xaxis": "x3",
         "y": [
          "infected  ",
          "rna  ",
          "virus  ",
          "viral  ",
          "viruses  "
         ],
         "yaxis": "y3"
        },
        {
         "marker": {
          "color": "#E69F00"
         },
         "orientation": "h",
         "type": "bar",
         "x": [
          0.3255355954170227,
          0.3266383111476898,
          0.33314821124076843,
          0.41482478380203247,
          0.472678005695343
         ],
         "xaxis": "x4",
         "y": [
          "immune  ",
          "cellular  ",
          "proteins  ",
          "cell  ",
          "cells  "
         ],
         "yaxis": "y4"
        },
        {
         "marker": {
          "color": "#56B4E9"
         },
         "orientation": "h",
         "type": "bar",
         "x": [
          0.3410945534706116,
          0.3426675796508789,
          0.3448215126991272,
          0.3559314012527466,
          0.3912292718887329
         ],
         "xaxis": "x5",
         "y": [
          "technology  ",
          "teaching  ",
          "learning  ",
          "digital  ",
          "education  "
         ],
         "yaxis": "y5"
        },
        {
         "marker": {
          "color": "#009E73"
         },
         "orientation": "h",
         "type": "bar",
         "x": [
          0.4905823767185211,
          0.511165976524353,
          0.5891560316085815,
          0.596553385257721,
          0.6116405129432678
         ],
         "xaxis": "x6",
         "y": [
          "infections  ",
          "bacterial  ",
          "antibiotics  ",
          "antibiotic  ",
          "antimicrobial  "
         ],
         "yaxis": "y6"
        },
        {
         "marker": {
          "color": "#F0E442"
         },
         "orientation": "h",
         "type": "bar",
         "x": [
          0.29969215393066406,
          0.31156015396118164,
          0.320096492767334,
          0.3766050338745117,
          0.5100868940353394
         ],
         "xaxis": "x7",
         "y": [
          "sepsis  ",
          "mortality  ",
          "glucose  ",
          "hypertension  ",
          "diabetes  "
         ],
         "yaxis": "y7"
        },
        {
         "marker": {
          "color": "#D55E00"
         },
         "orientation": "h",
         "type": "bar",
         "x": [
          0.4612710475921631,
          0.4737130403518677,
          0.47890880703926086,
          0.4829738140106201,
          0.5765079259872437
         ],
         "xaxis": "x8",
         "y": [
          "emissions  ",
          "environmental  ",
          "climate  ",
          "pollution  ",
          "climate change  "
         ],
         "yaxis": "y8"
        }
       ],
       "layout": {
        "annotations": [
         {
          "font": {
           "size": 16
          },
          "showarrow": false,
          "text": "Topic 0",
          "x": 0.0875,
          "xanchor": "center",
          "xref": "paper",
          "y": 1,
          "yanchor": "bottom",
          "yref": "paper"
         },
         {
          "font": {
           "size": 16
          },
          "showarrow": false,
          "text": "Topic 1",
          "x": 0.36250000000000004,
          "xanchor": "center",
          "xref": "paper",
          "y": 1,
          "yanchor": "bottom",
          "yref": "paper"
         },
         {
          "font": {
           "size": 16
          },
          "showarrow": false,
          "text": "Topic 2",
          "x": 0.6375000000000001,
          "xanchor": "center",
          "xref": "paper",
          "y": 1,
          "yanchor": "bottom",
          "yref": "paper"
         },
         {
          "font": {
           "size": 16
          },
          "showarrow": false,
          "text": "Topic 3",
          "x": 0.9125,
          "xanchor": "center",
          "xref": "paper",
          "y": 1,
          "yanchor": "bottom",
          "yref": "paper"
         },
         {
          "font": {
           "size": 16
          },
          "showarrow": false,
          "text": "Topic 4",
          "x": 0.0875,
          "xanchor": "center",
          "xref": "paper",
          "y": 0.4,
          "yanchor": "bottom",
          "yref": "paper"
         },
         {
          "font": {
           "size": 16
          },
          "showarrow": false,
          "text": "Topic 5",
          "x": 0.36250000000000004,
          "xanchor": "center",
          "xref": "paper",
          "y": 0.4,
          "yanchor": "bottom",
          "yref": "paper"
         },
         {
          "font": {
           "size": 16
          },
          "showarrow": false,
          "text": "Topic 6",
          "x": 0.6375000000000001,
          "xanchor": "center",
          "xref": "paper",
          "y": 0.4,
          "yanchor": "bottom",
          "yref": "paper"
         },
         {
          "font": {
           "size": 16
          },
          "showarrow": false,
          "text": "Topic 7",
          "x": 0.9125,
          "xanchor": "center",
          "xref": "paper",
          "y": 0.4,
          "yanchor": "bottom",
          "yref": "paper"
         }
        ],
        "height": 500,
        "hoverlabel": {
         "bgcolor": "white",
         "font": {
          "family": "Rockwell",
          "size": 16
         }
        },
        "showlegend": false,
        "template": {
         "data": {
          "bar": [
           {
            "error_x": {
             "color": "#2a3f5f"
            },
            "error_y": {
             "color": "#2a3f5f"
            },
            "marker": {
             "line": {
              "color": "white",
              "width": 0.5
             },
             "pattern": {
              "fillmode": "overlay",
              "size": 10,
              "solidity": 0.2
             }
            },
            "type": "bar"
           }
          ],
          "barpolar": [
           {
            "marker": {
             "line": {
              "color": "white",
              "width": 0.5
             },
             "pattern": {
              "fillmode": "overlay",
              "size": 10,
              "solidity": 0.2
             }
            },
            "type": "barpolar"
           }
          ],
          "carpet": [
           {
            "aaxis": {
             "endlinecolor": "#2a3f5f",
             "gridcolor": "#C8D4E3",
             "linecolor": "#C8D4E3",
             "minorgridcolor": "#C8D4E3",
             "startlinecolor": "#2a3f5f"
            },
            "baxis": {
             "endlinecolor": "#2a3f5f",
             "gridcolor": "#C8D4E3",
             "linecolor": "#C8D4E3",
             "minorgridcolor": "#C8D4E3",
             "startlinecolor": "#2a3f5f"
            },
            "type": "carpet"
           }
          ],
          "choropleth": [
           {
            "colorbar": {
             "outlinewidth": 0,
             "ticks": ""
            },
            "type": "choropleth"
           }
          ],
          "contour": [
           {
            "colorbar": {
             "outlinewidth": 0,
             "ticks": ""
            },
            "colorscale": [
             [
              0,
              "#0d0887"
             ],
             [
              0.1111111111111111,
              "#46039f"
             ],
             [
              0.2222222222222222,
              "#7201a8"
             ],
             [
              0.3333333333333333,
              "#9c179e"
             ],
             [
              0.4444444444444444,
              "#bd3786"
             ],
             [
              0.5555555555555556,
              "#d8576b"
             ],
             [
              0.6666666666666666,
              "#ed7953"
             ],
             [
              0.7777777777777778,
              "#fb9f3a"
             ],
             [
              0.8888888888888888,
              "#fdca26"
             ],
             [
              1,
              "#f0f921"
             ]
            ],
            "type": "contour"
           }
          ],
          "contourcarpet": [
           {
            "colorbar": {
             "outlinewidth": 0,
             "ticks": ""
            },
            "type": "contourcarpet"
           }
          ],
          "heatmap": [
           {
            "colorbar": {
             "outlinewidth": 0,
             "ticks": ""
            },
            "colorscale": [
             [
              0,
              "#0d0887"
             ],
             [
              0.1111111111111111,
              "#46039f"
             ],
             [
              0.2222222222222222,
              "#7201a8"
             ],
             [
              0.3333333333333333,
              "#9c179e"
             ],
             [
              0.4444444444444444,
              "#bd3786"
             ],
             [
              0.5555555555555556,
              "#d8576b"
             ],
             [
              0.6666666666666666,
              "#ed7953"
             ],
             [
              0.7777777777777778,
              "#fb9f3a"
             ],
             [
              0.8888888888888888,
              "#fdca26"
             ],
             [
              1,
              "#f0f921"
             ]
            ],
            "type": "heatmap"
           }
          ],
          "heatmapgl": [
           {
            "colorbar": {
             "outlinewidth": 0,
             "ticks": ""
            },
            "colorscale": [
             [
              0,
              "#0d0887"
             ],
             [
              0.1111111111111111,
              "#46039f"
             ],
             [
              0.2222222222222222,
              "#7201a8"
             ],
             [
              0.3333333333333333,
              "#9c179e"
             ],
             [
              0.4444444444444444,
              "#bd3786"
             ],
             [
              0.5555555555555556,
              "#d8576b"
             ],
             [
              0.6666666666666666,
              "#ed7953"
             ],
             [
              0.7777777777777778,
              "#fb9f3a"
             ],
             [
              0.8888888888888888,
              "#fdca26"
             ],
             [
              1,
              "#f0f921"
             ]
            ],
            "type": "heatmapgl"
           }
          ],
          "histogram": [
           {
            "marker": {
             "pattern": {
              "fillmode": "overlay",
              "size": 10,
              "solidity": 0.2
             }
            },
            "type": "histogram"
           }
          ],
          "histogram2d": [
           {
            "colorbar": {
             "outlinewidth": 0,
             "ticks": ""
            },
            "colorscale": [
             [
              0,
              "#0d0887"
             ],
             [
              0.1111111111111111,
              "#46039f"
             ],
             [
              0.2222222222222222,
              "#7201a8"
             ],
             [
              0.3333333333333333,
              "#9c179e"
             ],
             [
              0.4444444444444444,
              "#bd3786"
             ],
             [
              0.5555555555555556,
              "#d8576b"
             ],
             [
              0.6666666666666666,
              "#ed7953"
             ],
             [
              0.7777777777777778,
              "#fb9f3a"
             ],
             [
              0.8888888888888888,
              "#fdca26"
             ],
             [
              1,
              "#f0f921"
             ]
            ],
            "type": "histogram2d"
           }
          ],
          "histogram2dcontour": [
           {
            "colorbar": {
             "outlinewidth": 0,
             "ticks": ""
            },
            "colorscale": [
             [
              0,
              "#0d0887"
             ],
             [
              0.1111111111111111,
              "#46039f"
             ],
             [
              0.2222222222222222,
              "#7201a8"
             ],
             [
              0.3333333333333333,
              "#9c179e"
             ],
             [
              0.4444444444444444,
              "#bd3786"
             ],
             [
              0.5555555555555556,
              "#d8576b"
             ],
             [
              0.6666666666666666,
              "#ed7953"
             ],
             [
              0.7777777777777778,
              "#fb9f3a"
             ],
             [
              0.8888888888888888,
              "#fdca26"
             ],
             [
              1,
              "#f0f921"
             ]
            ],
            "type": "histogram2dcontour"
           }
          ],
          "mesh3d": [
           {
            "colorbar": {
             "outlinewidth": 0,
             "ticks": ""
            },
            "type": "mesh3d"
           }
          ],
          "parcoords": [
           {
            "line": {
             "colorbar": {
              "outlinewidth": 0,
              "ticks": ""
             }
            },
            "type": "parcoords"
           }
          ],
          "pie": [
           {
            "automargin": true,
            "type": "pie"
           }
          ],
          "scatter": [
           {
            "fillpattern": {
             "fillmode": "overlay",
             "size": 10,
             "solidity": 0.2
            },
            "type": "scatter"
           }
          ],
          "scatter3d": [
           {
            "line": {
             "colorbar": {
              "outlinewidth": 0,
              "ticks": ""
             }
            },
            "marker": {
             "colorbar": {
              "outlinewidth": 0,
              "ticks": ""
             }
            },
            "type": "scatter3d"
           }
          ],
          "scattercarpet": [
           {
            "marker": {
             "colorbar": {
              "outlinewidth": 0,
              "ticks": ""
             }
            },
            "type": "scattercarpet"
           }
          ],
          "scattergeo": [
           {
            "marker": {
             "colorbar": {
              "outlinewidth": 0,
              "ticks": ""
             }
            },
            "type": "scattergeo"
           }
          ],
          "scattergl": [
           {
            "marker": {
             "colorbar": {
              "outlinewidth": 0,
              "ticks": ""
             }
            },
            "type": "scattergl"
           }
          ],
          "scattermapbox": [
           {
            "marker": {
             "colorbar": {
              "outlinewidth": 0,
              "ticks": ""
             }
            },
            "type": "scattermapbox"
           }
          ],
          "scatterpolar": [
           {
            "marker": {
             "colorbar": {
              "outlinewidth": 0,
              "ticks": ""
             }
            },
            "type": "scatterpolar"
           }
          ],
          "scatterpolargl": [
           {
            "marker": {
             "colorbar": {
              "outlinewidth": 0,
              "ticks": ""
             }
            },
            "type": "scatterpolargl"
           }
          ],
          "scatterternary": [
           {
            "marker": {
             "colorbar": {
              "outlinewidth": 0,
              "ticks": ""
             }
            },
            "type": "scatterternary"
           }
          ],
          "surface": [
           {
            "colorbar": {
             "outlinewidth": 0,
             "ticks": ""
            },
            "colorscale": [
             [
              0,
              "#0d0887"
             ],
             [
              0.1111111111111111,
              "#46039f"
             ],
             [
              0.2222222222222222,
              "#7201a8"
             ],
             [
              0.3333333333333333,
              "#9c179e"
             ],
             [
              0.4444444444444444,
              "#bd3786"
             ],
             [
              0.5555555555555556,
              "#d8576b"
             ],
             [
              0.6666666666666666,
              "#ed7953"
             ],
             [
              0.7777777777777778,
              "#fb9f3a"
             ],
             [
              0.8888888888888888,
              "#fdca26"
             ],
             [
              1,
              "#f0f921"
             ]
            ],
            "type": "surface"
           }
          ],
          "table": [
           {
            "cells": {
             "fill": {
              "color": "#EBF0F8"
             },
             "line": {
              "color": "white"
             }
            },
            "header": {
             "fill": {
              "color": "#C8D4E3"
             },
             "line": {
              "color": "white"
             }
            },
            "type": "table"
           }
          ]
         },
         "layout": {
          "annotationdefaults": {
           "arrowcolor": "#2a3f5f",
           "arrowhead": 0,
           "arrowwidth": 1
          },
          "autotypenumbers": "strict",
          "coloraxis": {
           "colorbar": {
            "outlinewidth": 0,
            "ticks": ""
           }
          },
          "colorscale": {
           "diverging": [
            [
             0,
             "#8e0152"
            ],
            [
             0.1,
             "#c51b7d"
            ],
            [
             0.2,
             "#de77ae"
            ],
            [
             0.3,
             "#f1b6da"
            ],
            [
             0.4,
             "#fde0ef"
            ],
            [
             0.5,
             "#f7f7f7"
            ],
            [
             0.6,
             "#e6f5d0"
            ],
            [
             0.7,
             "#b8e186"
            ],
            [
             0.8,
             "#7fbc41"
            ],
            [
             0.9,
             "#4d9221"
            ],
            [
             1,
             "#276419"
            ]
           ],
           "sequential": [
            [
             0,
             "#0d0887"
            ],
            [
             0.1111111111111111,
             "#46039f"
            ],
            [
             0.2222222222222222,
             "#7201a8"
            ],
            [
             0.3333333333333333,
             "#9c179e"
            ],
            [
             0.4444444444444444,
             "#bd3786"
            ],
            [
             0.5555555555555556,
             "#d8576b"
            ],
            [
             0.6666666666666666,
             "#ed7953"
            ],
            [
             0.7777777777777778,
             "#fb9f3a"
            ],
            [
             0.8888888888888888,
             "#fdca26"
            ],
            [
             1,
             "#f0f921"
            ]
           ],
           "sequentialminus": [
            [
             0,
             "#0d0887"
            ],
            [
             0.1111111111111111,
             "#46039f"
            ],
            [
             0.2222222222222222,
             "#7201a8"
            ],
            [
             0.3333333333333333,
             "#9c179e"
            ],
            [
             0.4444444444444444,
             "#bd3786"
            ],
            [
             0.5555555555555556,
             "#d8576b"
            ],
            [
             0.6666666666666666,
             "#ed7953"
            ],
            [
             0.7777777777777778,
             "#fb9f3a"
            ],
            [
             0.8888888888888888,
             "#fdca26"
            ],
            [
             1,
             "#f0f921"
            ]
           ]
          },
          "colorway": [
           "#636efa",
           "#EF553B",
           "#00cc96",
           "#ab63fa",
           "#FFA15A",
           "#19d3f3",
           "#FF6692",
           "#B6E880",
           "#FF97FF",
           "#FECB52"
          ],
          "font": {
           "color": "#2a3f5f"
          },
          "geo": {
           "bgcolor": "white",
           "lakecolor": "white",
           "landcolor": "white",
           "showlakes": true,
           "showland": true,
           "subunitcolor": "#C8D4E3"
          },
          "hoverlabel": {
           "align": "left"
          },
          "hovermode": "closest",
          "mapbox": {
           "style": "light"
          },
          "paper_bgcolor": "white",
          "plot_bgcolor": "white",
          "polar": {
           "angularaxis": {
            "gridcolor": "#EBF0F8",
            "linecolor": "#EBF0F8",
            "ticks": ""
           },
           "bgcolor": "white",
           "radialaxis": {
            "gridcolor": "#EBF0F8",
            "linecolor": "#EBF0F8",
            "ticks": ""
           }
          },
          "scene": {
           "xaxis": {
            "backgroundcolor": "white",
            "gridcolor": "#DFE8F3",
            "gridwidth": 2,
            "linecolor": "#EBF0F8",
            "showbackground": true,
            "ticks": "",
            "zerolinecolor": "#EBF0F8"
           },
           "yaxis": {
            "backgroundcolor": "white",
            "gridcolor": "#DFE8F3",
            "gridwidth": 2,
            "linecolor": "#EBF0F8",
            "showbackground": true,
            "ticks": "",
            "zerolinecolor": "#EBF0F8"
           },
           "zaxis": {
            "backgroundcolor": "white",
            "gridcolor": "#DFE8F3",
            "gridwidth": 2,
            "linecolor": "#EBF0F8",
            "showbackground": true,
            "ticks": "",
            "zerolinecolor": "#EBF0F8"
           }
          },
          "shapedefaults": {
           "line": {
            "color": "#2a3f5f"
           }
          },
          "ternary": {
           "aaxis": {
            "gridcolor": "#DFE8F3",
            "linecolor": "#A2B1C6",
            "ticks": ""
           },
           "baxis": {
            "gridcolor": "#DFE8F3",
            "linecolor": "#A2B1C6",
            "ticks": ""
           },
           "bgcolor": "white",
           "caxis": {
            "gridcolor": "#DFE8F3",
            "linecolor": "#A2B1C6",
            "ticks": ""
           }
          },
          "title": {
           "x": 0.05
          },
          "xaxis": {
           "automargin": true,
           "gridcolor": "#EBF0F8",
           "linecolor": "#EBF0F8",
           "ticks": "",
           "title": {
            "standoff": 15
           },
           "zerolinecolor": "#EBF0F8",
           "zerolinewidth": 2
          },
          "yaxis": {
           "automargin": true,
           "gridcolor": "#EBF0F8",
           "linecolor": "#EBF0F8",
           "ticks": "",
           "title": {
            "standoff": 15
           },
           "zerolinecolor": "#EBF0F8",
           "zerolinewidth": 2
          }
         }
        },
        "title": {
         "font": {
          "color": "Black",
          "size": 22
         },
         "text": "Topic Word Scores",
         "x": 0.5,
         "xanchor": "center",
         "yanchor": "top"
        },
        "width": 1000,
        "xaxis": {
         "anchor": "y",
         "domain": [
          0,
          0.175
         ],
         "showgrid": true
        },
        "xaxis2": {
         "anchor": "y2",
         "domain": [
          0.275,
          0.45
         ],
         "showgrid": true
        },
        "xaxis3": {
         "anchor": "y3",
         "domain": [
          0.55,
          0.7250000000000001
         ],
         "showgrid": true
        },
        "xaxis4": {
         "anchor": "y4",
         "domain": [
          0.825,
          1
         ],
         "showgrid": true
        },
        "xaxis5": {
         "anchor": "y5",
         "domain": [
          0,
          0.175
         ],
         "showgrid": true
        },
        "xaxis6": {
         "anchor": "y6",
         "domain": [
          0.275,
          0.45
         ],
         "showgrid": true
        },
        "xaxis7": {
         "anchor": "y7",
         "domain": [
          0.55,
          0.7250000000000001
         ],
         "showgrid": true
        },
        "xaxis8": {
         "anchor": "y8",
         "domain": [
          0.825,
          1
         ],
         "showgrid": true
        },
        "yaxis": {
         "anchor": "x",
         "domain": [
          0.6000000000000001,
          1
         ],
         "showgrid": true
        },
        "yaxis2": {
         "anchor": "x2",
         "domain": [
          0.6000000000000001,
          1
         ],
         "showgrid": true
        },
        "yaxis3": {
         "anchor": "x3",
         "domain": [
          0.6000000000000001,
          1
         ],
         "showgrid": true
        },
        "yaxis4": {
         "anchor": "x4",
         "domain": [
          0.6000000000000001,
          1
         ],
         "showgrid": true
        },
        "yaxis5": {
         "anchor": "x5",
         "domain": [
          0,
          0.4
         ],
         "showgrid": true
        },
        "yaxis6": {
         "anchor": "x6",
         "domain": [
          0,
          0.4
         ],
         "showgrid": true
        },
        "yaxis7": {
         "anchor": "x7",
         "domain": [
          0,
          0.4
         ],
         "showgrid": true
        },
        "yaxis8": {
         "anchor": "x8",
         "domain": [
          0,
          0.4
         ],
         "showgrid": true
        }
       }
      }
     },
     "metadata": {},
     "output_type": "display_data"
    }
   ],
   "source": [
    "model.visualize_barchart()"
   ]
  },
  {
   "cell_type": "code",
   "execution_count": 116,
   "metadata": {},
   "outputs": [
    {
     "data": {
      "application/vnd.plotly.v1+json": {
       "config": {
        "plotlyServerURL": "https://plot.ly"
       },
       "data": [
        {
         "coloraxis": "coloraxis",
         "hovertemplate": "x: %{x}<br>y: %{y}<br>Similarity Score: %{z}<extra></extra>",
         "name": "0",
         "type": "heatmap",
         "x": [
          "0_vaccine_infection_virus",
          "1_health_healthcare_medical",
          "2_viruses_viral_virus",
          "3_cells_cell_proteins",
          "4_education_digital_learning",
          "5_antimicrobial_antibiotic_...",
          "6_diabetes_hypertension_glu...",
          "7_climate change_pollution_...",
          "8_molecular_molecules_ligand",
          "9_dementia_elderly_older ad...",
          "10_vitamin_of vitamin_psori...",
          "11_dietary_nutrition_foods",
          "12_authors declare no_no co...",
          "13_chemotherapy_breast canc...",
          "14_editors_the authors decl...",
          "15_benzotriazole_compounds_...",
          "16_machine learning_classif...",
          "17_banks_financial_bank",
          "18_medications_medication_p...",
          "19_muscle mass_sarcopenia_m...",
          "20_retinal_cataract_lenses",
          "21_tobacco use_tobacco_of t...",
          "22_innovation_technology_kn...",
          "23_multiple sclerosis_patie...",
          "24_tb infection_tuberculosi...",
          "25_wearables_wearable_smart...",
          "26_and documentclass12ptmin...",
          "27_sleep quality_insomnia_o...",
          "28_iot_cloud_security",
          "29_interaction_foraging_rec...",
          "30_to_we_for",
          "31_autism_of autism_autisti...",
          "32_acute cholecystitis_appe...",
          "33_plastics_microplastics_b..."
         ],
         "xaxis": "x",
         "y": [
          "0_vaccine_infection_virus",
          "1_health_healthcare_medical",
          "2_viruses_viral_virus",
          "3_cells_cell_proteins",
          "4_education_digital_learning",
          "5_antimicrobial_antibiotic_...",
          "6_diabetes_hypertension_glu...",
          "7_climate change_pollution_...",
          "8_molecular_molecules_ligand",
          "9_dementia_elderly_older ad...",
          "10_vitamin_of vitamin_psori...",
          "11_dietary_nutrition_foods",
          "12_authors declare no_no co...",
          "13_chemotherapy_breast canc...",
          "14_editors_the authors decl...",
          "15_benzotriazole_compounds_...",
          "16_machine learning_classif...",
          "17_banks_financial_bank",
          "18_medications_medication_p...",
          "19_muscle mass_sarcopenia_m...",
          "20_retinal_cataract_lenses",
          "21_tobacco use_tobacco_of t...",
          "22_innovation_technology_kn...",
          "23_multiple sclerosis_patie...",
          "24_tb infection_tuberculosi...",
          "25_wearables_wearable_smart...",
          "26_and documentclass12ptmin...",
          "27_sleep quality_insomnia_o...",
          "28_iot_cloud_security",
          "29_interaction_foraging_rec...",
          "30_to_we_for",
          "31_autism_of autism_autisti...",
          "32_acute cholecystitis_appe...",
          "33_plastics_microplastics_b..."
         ],
         "yaxis": "y",
         "z": [
          [
           1.0000000000000007,
           0.7950396661926628,
           0.7425436952451661,
           0.5117350919085177,
           0.38684624494257147,
           0.7156711091220388,
           0.6667997206070758,
           0.34549600689376553,
           0.34689547720655833,
           0.4284108570524455,
           0.6912519799646867,
           0.32122472336836405,
           0.02557226074292542,
           0.41023219563807584,
           0.2794776034524016,
           0.2839763107224031,
           0.3316251132933455,
           0.2911854512218391,
           0.4141918108973154,
           0.4483284302405063,
           0.3607309857745957,
           0.4965841205474749,
           0.055717812004433986,
           0.6213343224192287,
           0.5125531719680773,
           0.2334164346098139,
           0.06490598490808798,
           0.3511372673770877,
           0.0771831291686898,
           0.0516614281325144,
           0.07112013567814372,
           0.21845051902179546,
           0.227869775195619,
           0.04337079665247509
          ],
          [
           0.7950396661926628,
           1.0000000000000002,
           0.46571469653704284,
           0.23699847676504854,
           0.5741976850741931,
           0.6044311126499268,
           0.651169757003695,
           0.4819373598174734,
           0.1747839857113787,
           0.6915335537857571,
           0.5622131801248722,
           0.44774116616792053,
           0.052951709232177326,
           0.32694827237820373,
           0.3638043068324089,
           0.16808615114646847,
           0.3464110668476734,
           0.3864907865074679,
           0.5379059699162932,
           0.521185296286731,
           0.3345941655055154,
           0.5195654981228371,
           0.2385901713214866,
           0.5050963804736794,
           0.4753764444229859,
           0.36001535347117536,
           0.06041413573301879,
           0.42526411631266064,
           0.16972141602169508,
           0.1773255074567072,
           0.057196058111923624,
           0.3523052468503825,
           0.2467209285112681,
           0.07742288724935532
          ],
          [
           0.7425436952451661,
           0.46571469653704284,
           1.0000000000000007,
           0.6382197961260264,
           0.23629018896586218,
           0.6763459352212322,
           0.4376102653603246,
           0.21540189741551838,
           0.4511540861106202,
           0.2058210104073493,
           0.5316450585003022,
           0.3171840143516224,
           0.06476642599697331,
           0.39438688214972045,
           0.24734670531422423,
           0.3690844745491013,
           0.22104565419135402,
           0.21074732928684822,
           0.23689698591773414,
           0.25675620834831775,
           0.2766176529556142,
           0.3144380312149221,
           0.011606514437764327,
           0.4628240940039438,
           0.4195057262826694,
           0.07989262522221871,
           0.11368530549960101,
           0.1806815998769696,
           0.06865177910495492,
           -0.008441952799964802,
           0.09311868794312426,
           0.16608497056890223,
           0.18621386478794627,
           0.06572213411938332
          ],
          [
           0.5117350919085177,
           0.23699847676504854,
           0.6382197961260264,
           0.9999999999999997,
           0.12419345374418181,
           0.5485967502234723,
           0.4754624081519812,
           0.10836716620448832,
           0.548559925064415,
           0.19806829316071656,
           0.5503342418312355,
           0.18390622048125532,
           0.045378616139356655,
           0.6482674966714675,
           0.23698137829125832,
           0.46595089331421274,
           0.20851465958091459,
           0.1153129020713939,
           0.224828325971944,
           0.2578537992392957,
           0.30471697757339145,
           0.3226384712060936,
           0.005296520133552599,
           0.5221901903157697,
           0.38003561337602854,
           0.07621829184492519,
           0.10566645360649995,
           0.2226641954853872,
           0.036223228722177564,
           0.05467594505339706,
           0.10731439537495559,
           0.17213089103312584,
           0.109032836571018,
           0.03140709659300839
          ],
          [
           0.38684624494257147,
           0.5741976850741931,
           0.23629018896586218,
           0.12419345374418181,
           0.9999999999999996,
           0.28188501431264473,
           0.2546992210562272,
           0.3683730772478252,
           0.12299348167107425,
           0.45427239043869566,
           0.1994324135030013,
           0.30372772831398454,
           0.05444576116049245,
           0.12980363866564884,
           0.31564886897003364,
           0.08903955964097786,
           0.3606006936411192,
           0.3383672196953681,
           0.27616684704408023,
           0.3050530181315251,
           0.15290088473305682,
           0.29352557536002527,
           0.5375424273805314,
           0.2251187011780889,
           0.24090484088724226,
           0.36463027023008715,
           0.14937648615671012,
           0.22987000278543496,
           0.3613442509226247,
           0.4203971455013153,
           0.09161286326111502,
           0.30868167341808245,
           0.05337608050121779,
           0.07977637639190154
          ],
          [
           0.7156711091220388,
           0.6044311126499268,
           0.6763459352212322,
           0.5485967502234723,
           0.28188501431264473,
           0.9999999999999996,
           0.6010591710375354,
           0.27490820285672357,
           0.41196613812514277,
           0.34836851428298926,
           0.6567629100538346,
           0.4491165764648943,
           0.0026896470564118885,
           0.45922640716115715,
           0.2677144724555254,
           0.5218722779815987,
           0.24189299837754863,
           0.19155483788512329,
           0.520000932826732,
           0.2970697235001281,
           0.3884403462697847,
           0.3897608960574241,
           0.04097331427921336,
           0.5435876412680583,
           0.5774262053675947,
           0.14089863196932426,
           0.06046370551392818,
           0.2916741135752411,
           0.05047624051765954,
           -0.010423495260847734,
           0.09555981330858962,
           0.18431592507260533,
           0.34718265587511316,
           0.16688264755977006
          ],
          [
           0.6667997206070758,
           0.651169757003695,
           0.4376102653603246,
           0.4754624081519812,
           0.2546992210562272,
           0.6010591710375354,
           1.0000000000000009,
           0.25109041892377476,
           0.3115132192638915,
           0.5238182174562158,
           0.7087020203596709,
           0.4371228926426933,
           0.017440914410081974,
           0.45650847914285314,
           0.3549401747391783,
           0.2916637003345913,
           0.29167363226282067,
           0.2162921482435185,
           0.5320600660557517,
           0.5136102136528049,
           0.4398198541826861,
           0.4722530002536374,
           0.04540617463965712,
           0.5297290710694966,
           0.46834403067464536,
           0.28192464472884576,
           0.05083666099783124,
           0.45261732206754823,
           0.08595735943547683,
           0.03278648543597448,
           0.07753892093360339,
           0.25900869007046967,
           0.3312831235079256,
           0.0653743446902606
          ],
          [
           0.34549600689376553,
           0.4819373598174734,
           0.21540189741551838,
           0.10836716620448832,
           0.3683730772478252,
           0.27490820285672357,
           0.25109041892377476,
           1.0000000000000013,
           0.14272326609674355,
           0.39639611119509094,
           0.1484619117194756,
           0.5537357194106923,
           0.07406503058768718,
           0.117323697727008,
           0.2188372040513982,
           0.10438999928300648,
           0.21053638009234008,
           0.45496842983388197,
           0.19129618090055245,
           0.28452172540399695,
           0.09606283327536311,
           0.35700437395374424,
           0.41201814154997607,
           0.1393990985366411,
           0.22279038149457572,
           0.22876438299877624,
           0.13289117005842768,
           0.25582007728343686,
           0.29700423047255287,
           0.2354922073540577,
           0.08116609495333216,
           0.16491006911772668,
           -0.040083522287257894,
           0.5003195185883207
          ],
          [
           0.34689547720655833,
           0.1747839857113787,
           0.4511540861106202,
           0.548559925064415,
           0.12299348167107425,
           0.41196613812514277,
           0.3115132192638915,
           0.14272326609674355,
           1.0000000000000004,
           0.1148153403934822,
           0.31192062044729213,
           0.19374291563137003,
           0.01911564816191807,
           0.44390053019452,
           0.23794584684382222,
           0.5198118528930757,
           0.31309832408276955,
           0.11575103352865998,
           0.3200780042879137,
           0.13606533376294921,
           0.29553353327009435,
           0.2418145304931407,
           0.06009334134113353,
           0.27012545948482125,
           0.2997099100099591,
           0.26474989281349837,
           0.22915241121372393,
           0.10017912207201624,
           0.14725530503511033,
           0.12163862806215513,
           0.10423163789580424,
           0.10774697473170423,
           0.05971346283608092,
           0.3008178314966443
          ],
          [
           0.4284108570524455,
           0.6915335537857571,
           0.2058210104073493,
           0.19806829316071656,
           0.45427239043869566,
           0.34836851428298926,
           0.5238182174562158,
           0.39639611119509094,
           0.1148153403934822,
           0.9999999999999999,
           0.40405869130659927,
           0.4390207880621919,
           0.062115678504261744,
           0.19831091053258124,
           0.33141382873965874,
           0.15015277777657424,
           0.2480920638099352,
           0.2770595215952665,
           0.45849545002079034,
           0.5712511905222687,
           0.21733188912517554,
           0.4756021949354039,
           0.2880346794997466,
           0.36636284144839554,
           0.28796465812305455,
           0.3668895341169834,
           0.07935210327857074,
           0.5096473864960981,
           0.12643198364541122,
           0.3537993200120405,
           0.0011249169821905402,
           0.4936413682963409,
           0.1049972625452924,
           0.13014500274526666
          ],
          [
           0.6912519799646867,
           0.5622131801248722,
           0.5316450585003022,
           0.5503342418312355,
           0.1994324135030013,
           0.6567629100538346,
           0.7087020203596709,
           0.1484619117194756,
           0.31192062044729213,
           0.40405869130659927,
           0.9999999999999993,
           0.33876565387575663,
           0.05753262342939991,
           0.5650508153801851,
           0.35555188791889464,
           0.4364258170708301,
           0.15088551744085968,
           0.13339761879200426,
           0.4927432282858223,
           0.4420626096473583,
           0.4799420580319783,
           0.4042300581199104,
           -0.018896117586229423,
           0.6192267681699962,
           0.45090300421009816,
           0.13778863914290038,
           0.006430102930348618,
           0.4035917802224925,
           0.0022903957838713196,
           -0.0037314052643101256,
           0.09038994806755665,
           0.2599450939382158,
           0.3060586658743534,
           -0.013450903236980663
          ],
          [
           0.32122472336836405,
           0.44774116616792053,
           0.3171840143516224,
           0.18390622048125532,
           0.30372772831398454,
           0.4491165764648943,
           0.4371228926426933,
           0.5537357194106923,
           0.19374291563137003,
           0.4390207880621919,
           0.33876565387575663,
           1.0000000000000002,
           0.012222432460649298,
           0.16561867988187787,
           0.254098461294765,
           0.3342912915098281,
           0.18471359726873388,
           0.3056541443954461,
           0.30473896033880876,
           0.45848147071366824,
           0.19999030852297406,
           0.4314307134726449,
           0.21393788778043113,
           0.20601322539473552,
           0.253291182774609,
           0.256224806817403,
           0.042023733341950115,
           0.3232488101746768,
           0.20009270714640714,
           0.1507385609311716,
           0.09082913470335285,
           0.2646128441057892,
           0.12964297284449852,
           0.33734145280682637
          ],
          [
           0.02557226074292542,
           0.052951709232177326,
           0.06476642599697331,
           0.045378616139356655,
           0.05444576116049245,
           0.0026896470564118885,
           0.017440914410081974,
           0.07406503058768718,
           0.01911564816191807,
           0.062115678504261744,
           0.05753262342939991,
           0.012222432460649298,
           1.0000000000000002,
           0.08325698762999789,
           0.4574685407286915,
           0.02802660634314866,
           -0.05358313267798979,
           0.22086398922314673,
           0.05300891780497282,
           0.053122308506431334,
           0.05116803749062792,
           0.0909640680121767,
           0.17437669659697533,
           0.05693179985111318,
           0.007022589741480768,
           -0.10107833206953927,
           0.036725966962604044,
           0.03889504848562652,
           -0.07756832532955261,
           0.0239272364555492,
           0.324931569206516,
           0.06450858507454309,
           0.001320426375130957,
           -0.03421141909879652
          ],
          [
           0.41023219563807584,
           0.32694827237820373,
           0.39438688214972045,
           0.6482674966714675,
           0.12980363866564884,
           0.45922640716115715,
           0.45650847914285314,
           0.117323697727008,
           0.44390053019452,
           0.19831091053258124,
           0.5650508153801851,
           0.16561867988187787,
           0.08325698762999789,
           1.0000000000000002,
           0.2754216115174362,
           0.4211566529129346,
           0.21476819175217493,
           0.11668857491906884,
           0.39669843668443994,
           0.23162023327109876,
           0.31281582182383594,
           0.35774129972215596,
           0.011210355815479448,
           0.5014350135804682,
           0.4527249820890184,
           0.04357182951267395,
           0.06386382332693347,
           0.24631773007028473,
           0.04345085020582359,
           -0.0029898408528251214,
           0.13086385974007256,
           0.10287390918248299,
           0.27051904259844445,
           0.07513847828463513
          ],
          [
           0.2794776034524016,
           0.3638043068324089,
           0.24734670531422423,
           0.23698137829125832,
           0.31564886897003364,
           0.2677144724555254,
           0.3549401747391783,
           0.2188372040513982,
           0.23794584684382222,
           0.33141382873965874,
           0.35555188791889464,
           0.254098461294765,
           0.4574685407286915,
           0.2754216115174362,
           1.0000000000000007,
           0.20790281696336727,
           0.18237641275339614,
           0.16904377457688358,
           0.3146493067064838,
           0.3163074851701762,
           0.3079529259758599,
           0.2893968960379774,
           0.29889894563059904,
           0.2880871858412749,
           0.23741846031508868,
           0.12531113297757676,
           0.1095209523668396,
           0.3548342018015364,
           0.029892804258912775,
           0.2803371971892541,
           0.3525623693568175,
           0.3678852077365875,
           0.15525889969225523,
           0.05464288373797664
          ],
          [
           0.2839763107224031,
           0.16808615114646847,
           0.3690844745491013,
           0.46595089331421274,
           0.08903955964097786,
           0.5218722779815987,
           0.2916637003345913,
           0.10438999928300648,
           0.5198118528930757,
           0.15015277777657424,
           0.4364258170708301,
           0.3342912915098281,
           0.02802660634314866,
           0.4211566529129346,
           0.20790281696336727,
           0.9999999999999981,
           0.0855003075253155,
           0.0835110207562761,
           0.42733521833348825,
           0.16075519422487622,
           0.24046594592217907,
           0.35948041577546075,
           -0.013264417538794109,
           0.2403895251274095,
           0.29104495337754077,
           0.06031409659767299,
           0.1420818377693044,
           0.1949862292510641,
           0.011901834568654008,
           -0.02401135988539942,
           0.11388016257449579,
           0.01922387128302671,
           0.07240535350020394,
           0.16399546733254883
          ],
          [
           0.3316251132933455,
           0.3464110668476734,
           0.22104565419135402,
           0.20851465958091459,
           0.3606006936411192,
           0.24189299837754863,
           0.29167363226282067,
           0.21053638009234008,
           0.31309832408276955,
           0.2480920638099352,
           0.15088551744085968,
           0.18471359726873388,
           -0.05358313267798979,
           0.21476819175217493,
           0.18237641275339614,
           0.0855003075253155,
           1.0000000000000002,
           0.18014631049243657,
           0.22421410781845286,
           0.2115902544785963,
           0.1924256261803258,
           0.16550668142054595,
           0.2029212164715346,
           0.2401267876434149,
           0.24041938817506422,
           0.36161207060313844,
           0.32108092771510977,
           0.1485242794024267,
           0.3248540577655859,
           0.33256567683432,
           -0.015558723590212372,
           0.13981536261963098,
           0.22328806449209315,
           0.06799572067969653
          ],
          [
           0.2911854512218391,
           0.3864907865074679,
           0.21074732928684822,
           0.1153129020713939,
           0.3383672196953681,
           0.19155483788512329,
           0.2162921482435185,
           0.45496842983388197,
           0.11575103352865998,
           0.2770595215952665,
           0.13339761879200426,
           0.3056541443954461,
           0.22086398922314673,
           0.11668857491906884,
           0.16904377457688358,
           0.0835110207562761,
           0.18014631049243657,
           1.0000000000000002,
           0.2258140697951378,
           0.17112001917825015,
           0.13463905457308734,
           0.20947950416055708,
           0.3745546309605981,
           0.15263774411103392,
           0.18835227248683278,
           0.101547798616782,
           0.10615560716346645,
           0.12389989967505798,
           0.11290742997000669,
           0.17854602930786323,
           0.14181535379735447,
           0.13107769782284434,
           0.08693262575224839,
           0.18731919834464547
          ],
          [
           0.4141918108973154,
           0.5379059699162932,
           0.23689698591773414,
           0.224828325971944,
           0.27616684704408023,
           0.520000932826732,
           0.5320600660557517,
           0.19129618090055245,
           0.3200780042879137,
           0.45849545002079034,
           0.4927432282858223,
           0.30473896033880876,
           0.05300891780497282,
           0.39669843668443994,
           0.3146493067064838,
           0.42733521833348825,
           0.22421410781845286,
           0.2258140697951378,
           0.9999999999999997,
           0.3074493303017863,
           0.34918024759283417,
           0.4998390061930644,
           0.08607485443006196,
           0.38348687487504307,
           0.37910092555687763,
           0.23691211981537696,
           0.10986115847886158,
           0.44551536569079486,
           0.05976175076927848,
           0.18136281664584938,
           0.13147171757333603,
           0.26161995138299327,
           0.26094176618346254,
           0.13173471655037322
          ],
          [
           0.4483284302405063,
           0.521185296286731,
           0.25675620834831775,
           0.2578537992392957,
           0.3050530181315251,
           0.2970697235001281,
           0.5136102136528049,
           0.28452172540399695,
           0.13606533376294921,
           0.5712511905222687,
           0.4420626096473583,
           0.45848147071366824,
           0.053122308506431334,
           0.23162023327109876,
           0.3163074851701762,
           0.16075519422487622,
           0.2115902544785963,
           0.17112001917825015,
           0.3074493303017863,
           1,
           0.20790811917801016,
           0.44215535475435697,
           0.14416214594155874,
           0.34656015149698566,
           0.24400253695548124,
           0.4509384200426819,
           0.03591675245823554,
           0.48882846863514684,
           0.06890804326139195,
           0.17574857140334274,
           0.0179845547467788,
           0.2996551827592429,
           0.12431549739653111,
           0.06780496445491459
          ],
          [
           0.3607309857745957,
           0.3345941655055154,
           0.2766176529556142,
           0.30471697757339145,
           0.15290088473305682,
           0.3884403462697847,
           0.4398198541826861,
           0.09606283327536311,
           0.29553353327009435,
           0.21733188912517554,
           0.4799420580319783,
           0.19999030852297406,
           0.05116803749062792,
           0.31281582182383594,
           0.3079529259758599,
           0.24046594592217907,
           0.1924256261803258,
           0.13463905457308734,
           0.34918024759283417,
           0.20790811917801016,
           1.0000000000000002,
           0.24510658413724276,
           0.067660582901351,
           0.3766014101518678,
           0.30310585799100986,
           0.15724457574250666,
           0.09571690427963031,
           0.3024384942556482,
           0.037573248792441685,
           0.12128413474306138,
           0.1667417036003967,
           0.20685296969435185,
           0.3410981489188533,
           0.04824957752763274
          ],
          [
           0.4965841205474749,
           0.5195654981228371,
           0.3144380312149221,
           0.3226384712060936,
           0.29352557536002527,
           0.3897608960574241,
           0.4722530002536374,
           0.35700437395374424,
           0.2418145304931407,
           0.4756021949354039,
           0.4042300581199104,
           0.4314307134726449,
           0.0909640680121767,
           0.35774129972215596,
           0.2893968960379774,
           0.35948041577546075,
           0.16550668142054595,
           0.20947950416055708,
           0.4998390061930644,
           0.44215535475435697,
           0.24510658413724276,
           0.9999999999999998,
           0.08761820477616825,
           0.3672314918168472,
           0.3585301838935254,
           0.1770659466112795,
           0.030963854277507127,
           0.4155826309976194,
           -0.01965606989081225,
           0.1820539952033154,
           0.07486087340925017,
           0.2708539716018704,
           0.0679062213169179,
           0.15694753806315243
          ],
          [
           0.055717812004433986,
           0.2385901713214866,
           0.011606514437764327,
           0.005296520133552599,
           0.5375424273805314,
           0.04097331427921336,
           0.04540617463965712,
           0.41201814154997607,
           0.06009334134113353,
           0.2880346794997466,
           -0.018896117586229423,
           0.21393788778043113,
           0.17437669659697533,
           0.011210355815479448,
           0.29889894563059904,
           -0.013264417538794109,
           0.2029212164715346,
           0.3745546309605981,
           0.08607485443006196,
           0.14416214594155874,
           0.067660582901351,
           0.08761820477616825,
           1.0000000000000002,
           0.04721419422556597,
           0.05243406467888654,
           0.21671483223996152,
           0.2087281653716803,
           0.08184167400815308,
           0.33736333556118836,
           0.46541877759849964,
           0.2365967861485517,
           0.17970641435868048,
           0.06356755207365399,
           0.17271368774131982
          ],
          [
           0.6213343224192287,
           0.5050963804736794,
           0.4628240940039438,
           0.5221901903157697,
           0.2251187011780889,
           0.5435876412680583,
           0.5297290710694966,
           0.1393990985366411,
           0.27012545948482125,
           0.36636284144839554,
           0.6192267681699962,
           0.20601322539473552,
           0.05693179985111318,
           0.5014350135804682,
           0.2880871858412749,
           0.2403895251274095,
           0.2401267876434149,
           0.15263774411103392,
           0.38348687487504307,
           0.34656015149698566,
           0.3766014101518678,
           0.3672314918168472,
           0.04721419422556597,
           0.9999999999999997,
           0.44495404722882315,
           0.16628542386781192,
           0.01196924240979124,
           0.39585423676248205,
           0.0638679228972971,
           0.07432606283322929,
           0.14682258861688874,
           0.27242042894440677,
           0.23385009325071496,
           -0.02333775530702781
          ],
          [
           0.5125531719680773,
           0.4753764444229859,
           0.4195057262826694,
           0.38003561337602854,
           0.24090484088724226,
           0.5774262053675947,
           0.46834403067464536,
           0.22279038149457572,
           0.2997099100099591,
           0.28796465812305455,
           0.45090300421009816,
           0.253291182774609,
           0.007022589741480768,
           0.4527249820890184,
           0.23741846031508868,
           0.29104495337754077,
           0.24041938817506422,
           0.18835227248683278,
           0.37910092555687763,
           0.24400253695548124,
           0.30310585799100986,
           0.3585301838935254,
           0.05243406467888654,
           0.44495404722882315,
           1.000000000000001,
           0.13533558671534354,
           0.026559074015576112,
           0.2557405415319516,
           0.0830814128521466,
           0.044167137578208594,
           0.13164951253951346,
           0.19422225265860119,
           0.19761159385001786,
           0.1624231575767396
          ],
          [
           0.2334164346098139,
           0.36001535347117536,
           0.07989262522221871,
           0.07621829184492519,
           0.36463027023008715,
           0.14089863196932426,
           0.28192464472884576,
           0.22876438299877624,
           0.26474989281349837,
           0.3668895341169834,
           0.13778863914290038,
           0.256224806817403,
           -0.10107833206953927,
           0.04357182951267395,
           0.12531113297757676,
           0.06031409659767299,
           0.36161207060313844,
           0.101547798616782,
           0.23691211981537696,
           0.4509384200426819,
           0.15724457574250666,
           0.1770659466112795,
           0.21671483223996152,
           0.16628542386781192,
           0.13533558671534354,
           1.0000000000000004,
           0.10095948183705816,
           0.3994677011820553,
           0.456821637043564,
           0.3536898444583084,
           -0.0043566611433820965,
           0.16313015319878696,
           0.09515060593354933,
           0.10426535287679478
          ],
          [
           0.06490598490808798,
           0.06041413573301879,
           0.11368530549960101,
           0.10566645360649995,
           0.14937648615671012,
           0.06046370551392818,
           0.05083666099783124,
           0.13289117005842768,
           0.22915241121372393,
           0.07935210327857074,
           0.006430102930348618,
           0.042023733341950115,
           0.036725966962604044,
           0.06386382332693347,
           0.1095209523668396,
           0.1420818377693044,
           0.32108092771510977,
           0.10615560716346645,
           0.10986115847886158,
           0.03591675245823554,
           0.09571690427963031,
           0.030963854277507127,
           0.2087281653716803,
           0.01196924240979124,
           0.026559074015576112,
           0.10095948183705816,
           1,
           0.10640331917643603,
           0.24487668851332126,
           0.29120206856162,
           0.1014435316650605,
           0.09171011923904208,
           0.01479371280505144,
           0.10202397573126018
          ],
          [
           0.3511372673770877,
           0.42526411631266064,
           0.1806815998769696,
           0.2226641954853872,
           0.22987000278543496,
           0.2916741135752411,
           0.45261732206754823,
           0.25582007728343686,
           0.10017912207201624,
           0.5096473864960981,
           0.4035917802224925,
           0.3232488101746768,
           0.03889504848562652,
           0.24631773007028473,
           0.3548342018015364,
           0.1949862292510641,
           0.1485242794024267,
           0.12389989967505798,
           0.44551536569079486,
           0.48882846863514684,
           0.3024384942556482,
           0.4155826309976194,
           0.08184167400815308,
           0.39585423676248205,
           0.2557405415319516,
           0.3994677011820553,
           0.10640331917643603,
           1.000000000000001,
           0.14191297520438934,
           0.2052268242404617,
           0.1278043549175294,
           0.3606042486589625,
           0.08652556894763944,
           0.051553809517667214
          ],
          [
           0.0771831291686898,
           0.16972141602169508,
           0.06865177910495492,
           0.036223228722177564,
           0.3613442509226247,
           0.05047624051765954,
           0.08595735943547683,
           0.29700423047255287,
           0.14725530503511033,
           0.12643198364541122,
           0.0022903957838713196,
           0.20009270714640714,
           -0.07756832532955261,
           0.04345085020582359,
           0.029892804258912775,
           0.011901834568654008,
           0.3248540577655859,
           0.11290742997000669,
           0.05976175076927848,
           0.06890804326139195,
           0.037573248792441685,
           -0.01965606989081225,
           0.33736333556118836,
           0.0638679228972971,
           0.0830814128521466,
           0.456821637043564,
           0.24487668851332126,
           0.14191297520438934,
           1.000000000000001,
           0.16897518495441857,
           0.12019137326875456,
           0.02830566153064109,
           0.06747557156611796,
           0.14493757769222756
          ],
          [
           0.0516614281325144,
           0.1773255074567072,
           -0.008441952799964802,
           0.05467594505339706,
           0.4203971455013153,
           -0.010423495260847734,
           0.03278648543597448,
           0.2354922073540577,
           0.12163862806215513,
           0.3537993200120405,
           -0.0037314052643101256,
           0.1507385609311716,
           0.0239272364555492,
           -0.0029898408528251214,
           0.2803371971892541,
           -0.02401135988539942,
           0.33256567683432,
           0.17854602930786323,
           0.18136281664584938,
           0.17574857140334274,
           0.12128413474306138,
           0.1820539952033154,
           0.46541877759849964,
           0.07432606283322929,
           0.044167137578208594,
           0.3536898444583084,
           0.29120206856162,
           0.2052268242404617,
           0.16897518495441857,
           1.0000000000000013,
           0.017505573318182876,
           0.37886431869900217,
           -0.019224113707656972,
           0.110817224568605
          ],
          [
           0.07112013567814372,
           0.057196058111923624,
           0.09311868794312426,
           0.10731439537495559,
           0.09161286326111502,
           0.09555981330858962,
           0.07753892093360339,
           0.08116609495333216,
           0.10423163789580424,
           0.0011249169821905402,
           0.09038994806755665,
           0.09082913470335285,
           0.324931569206516,
           0.13086385974007256,
           0.3525623693568175,
           0.11388016257449579,
           -0.015558723590212372,
           0.14181535379735447,
           0.13147171757333603,
           0.0179845547467788,
           0.1667417036003967,
           0.07486087340925017,
           0.2365967861485517,
           0.14682258861688874,
           0.13164951253951346,
           -0.0043566611433820965,
           0.1014435316650605,
           0.1278043549175294,
           0.12019137326875456,
           0.017505573318182876,
           1.0000000000000013,
           0.01814910383552258,
           0.09307777699646765,
           0.044916431843210945
          ],
          [
           0.21845051902179546,
           0.3523052468503825,
           0.16608497056890223,
           0.17213089103312584,
           0.30868167341808245,
           0.18431592507260533,
           0.25900869007046967,
           0.16491006911772668,
           0.10774697473170423,
           0.4936413682963409,
           0.2599450939382158,
           0.2646128441057892,
           0.06450858507454309,
           0.10287390918248299,
           0.3678852077365875,
           0.01922387128302671,
           0.13981536261963098,
           0.13107769782284434,
           0.26161995138299327,
           0.2996551827592429,
           0.20685296969435185,
           0.2708539716018704,
           0.17970641435868048,
           0.27242042894440677,
           0.19422225265860119,
           0.16313015319878696,
           0.09171011923904208,
           0.3606042486589625,
           0.02830566153064109,
           0.37886431869900217,
           0.01814910383552258,
           1.0000000000000004,
           0.0020206999846957762,
           0.08733889558499244
          ],
          [
           0.227869775195619,
           0.2467209285112681,
           0.18621386478794627,
           0.109032836571018,
           0.05337608050121779,
           0.34718265587511316,
           0.3312831235079256,
           -0.040083522287257894,
           0.05971346283608092,
           0.1049972625452924,
           0.3060586658743534,
           0.12964297284449852,
           0.001320426375130957,
           0.27051904259844445,
           0.15525889969225523,
           0.07240535350020394,
           0.22328806449209315,
           0.08693262575224839,
           0.26094176618346254,
           0.12431549739653111,
           0.3410981489188533,
           0.0679062213169179,
           0.06356755207365399,
           0.23385009325071496,
           0.19761159385001786,
           0.09515060593354933,
           0.01479371280505144,
           0.08652556894763944,
           0.06747557156611796,
           -0.019224113707656972,
           0.09307777699646765,
           0.0020206999846957762,
           1.0000000000000009,
           0.027151636907176736
          ],
          [
           0.04337079665247509,
           0.07742288724935532,
           0.06572213411938332,
           0.03140709659300839,
           0.07977637639190154,
           0.16688264755977006,
           0.0653743446902606,
           0.5003195185883207,
           0.3008178314966443,
           0.13014500274526666,
           -0.013450903236980663,
           0.33734145280682637,
           -0.03421141909879652,
           0.07513847828463513,
           0.05464288373797664,
           0.16399546733254883,
           0.06799572067969653,
           0.18731919834464547,
           0.13173471655037322,
           0.06780496445491459,
           0.04824957752763274,
           0.15694753806315243,
           0.17271368774131982,
           -0.02333775530702781,
           0.1624231575767396,
           0.10426535287679478,
           0.10202397573126018,
           0.051553809517667214,
           0.14493757769222756,
           0.110817224568605,
           0.044916431843210945,
           0.08733889558499244,
           0.027151636907176736,
           1.0000000000000009
          ]
         ]
        }
       ],
       "layout": {
        "coloraxis": {
         "colorbar": {
          "title": {
           "text": "Similarity Score"
          }
         },
         "colorscale": [
          [
           0,
           "rgb(247,252,240)"
          ],
          [
           0.125,
           "rgb(224,243,219)"
          ],
          [
           0.25,
           "rgb(204,235,197)"
          ],
          [
           0.375,
           "rgb(168,221,181)"
          ],
          [
           0.5,
           "rgb(123,204,196)"
          ],
          [
           0.625,
           "rgb(78,179,211)"
          ],
          [
           0.75,
           "rgb(43,140,190)"
          ],
          [
           0.875,
           "rgb(8,104,172)"
          ],
          [
           1,
           "rgb(8,64,129)"
          ]
         ]
        },
        "height": 800,
        "hoverlabel": {
         "bgcolor": "white",
         "font": {
          "family": "Rockwell",
          "size": 16
         }
        },
        "legend": {
         "title": {
          "text": "Trend"
         }
        },
        "margin": {
         "t": 60
        },
        "showlegend": true,
        "template": {
         "data": {
          "bar": [
           {
            "error_x": {
             "color": "#2a3f5f"
            },
            "error_y": {
             "color": "#2a3f5f"
            },
            "marker": {
             "line": {
              "color": "#E5ECF6",
              "width": 0.5
             },
             "pattern": {
              "fillmode": "overlay",
              "size": 10,
              "solidity": 0.2
             }
            },
            "type": "bar"
           }
          ],
          "barpolar": [
           {
            "marker": {
             "line": {
              "color": "#E5ECF6",
              "width": 0.5
             },
             "pattern": {
              "fillmode": "overlay",
              "size": 10,
              "solidity": 0.2
             }
            },
            "type": "barpolar"
           }
          ],
          "carpet": [
           {
            "aaxis": {
             "endlinecolor": "#2a3f5f",
             "gridcolor": "white",
             "linecolor": "white",
             "minorgridcolor": "white",
             "startlinecolor": "#2a3f5f"
            },
            "baxis": {
             "endlinecolor": "#2a3f5f",
             "gridcolor": "white",
             "linecolor": "white",
             "minorgridcolor": "white",
             "startlinecolor": "#2a3f5f"
            },
            "type": "carpet"
           }
          ],
          "choropleth": [
           {
            "colorbar": {
             "outlinewidth": 0,
             "ticks": ""
            },
            "type": "choropleth"
           }
          ],
          "contour": [
           {
            "colorbar": {
             "outlinewidth": 0,
             "ticks": ""
            },
            "colorscale": [
             [
              0,
              "#0d0887"
             ],
             [
              0.1111111111111111,
              "#46039f"
             ],
             [
              0.2222222222222222,
              "#7201a8"
             ],
             [
              0.3333333333333333,
              "#9c179e"
             ],
             [
              0.4444444444444444,
              "#bd3786"
             ],
             [
              0.5555555555555556,
              "#d8576b"
             ],
             [
              0.6666666666666666,
              "#ed7953"
             ],
             [
              0.7777777777777778,
              "#fb9f3a"
             ],
             [
              0.8888888888888888,
              "#fdca26"
             ],
             [
              1,
              "#f0f921"
             ]
            ],
            "type": "contour"
           }
          ],
          "contourcarpet": [
           {
            "colorbar": {
             "outlinewidth": 0,
             "ticks": ""
            },
            "type": "contourcarpet"
           }
          ],
          "heatmap": [
           {
            "colorbar": {
             "outlinewidth": 0,
             "ticks": ""
            },
            "colorscale": [
             [
              0,
              "#0d0887"
             ],
             [
              0.1111111111111111,
              "#46039f"
             ],
             [
              0.2222222222222222,
              "#7201a8"
             ],
             [
              0.3333333333333333,
              "#9c179e"
             ],
             [
              0.4444444444444444,
              "#bd3786"
             ],
             [
              0.5555555555555556,
              "#d8576b"
             ],
             [
              0.6666666666666666,
              "#ed7953"
             ],
             [
              0.7777777777777778,
              "#fb9f3a"
             ],
             [
              0.8888888888888888,
              "#fdca26"
             ],
             [
              1,
              "#f0f921"
             ]
            ],
            "type": "heatmap"
           }
          ],
          "heatmapgl": [
           {
            "colorbar": {
             "outlinewidth": 0,
             "ticks": ""
            },
            "colorscale": [
             [
              0,
              "#0d0887"
             ],
             [
              0.1111111111111111,
              "#46039f"
             ],
             [
              0.2222222222222222,
              "#7201a8"
             ],
             [
              0.3333333333333333,
              "#9c179e"
             ],
             [
              0.4444444444444444,
              "#bd3786"
             ],
             [
              0.5555555555555556,
              "#d8576b"
             ],
             [
              0.6666666666666666,
              "#ed7953"
             ],
             [
              0.7777777777777778,
              "#fb9f3a"
             ],
             [
              0.8888888888888888,
              "#fdca26"
             ],
             [
              1,
              "#f0f921"
             ]
            ],
            "type": "heatmapgl"
           }
          ],
          "histogram": [
           {
            "marker": {
             "pattern": {
              "fillmode": "overlay",
              "size": 10,
              "solidity": 0.2
             }
            },
            "type": "histogram"
           }
          ],
          "histogram2d": [
           {
            "colorbar": {
             "outlinewidth": 0,
             "ticks": ""
            },
            "colorscale": [
             [
              0,
              "#0d0887"
             ],
             [
              0.1111111111111111,
              "#46039f"
             ],
             [
              0.2222222222222222,
              "#7201a8"
             ],
             [
              0.3333333333333333,
              "#9c179e"
             ],
             [
              0.4444444444444444,
              "#bd3786"
             ],
             [
              0.5555555555555556,
              "#d8576b"
             ],
             [
              0.6666666666666666,
              "#ed7953"
             ],
             [
              0.7777777777777778,
              "#fb9f3a"
             ],
             [
              0.8888888888888888,
              "#fdca26"
             ],
             [
              1,
              "#f0f921"
             ]
            ],
            "type": "histogram2d"
           }
          ],
          "histogram2dcontour": [
           {
            "colorbar": {
             "outlinewidth": 0,
             "ticks": ""
            },
            "colorscale": [
             [
              0,
              "#0d0887"
             ],
             [
              0.1111111111111111,
              "#46039f"
             ],
             [
              0.2222222222222222,
              "#7201a8"
             ],
             [
              0.3333333333333333,
              "#9c179e"
             ],
             [
              0.4444444444444444,
              "#bd3786"
             ],
             [
              0.5555555555555556,
              "#d8576b"
             ],
             [
              0.6666666666666666,
              "#ed7953"
             ],
             [
              0.7777777777777778,
              "#fb9f3a"
             ],
             [
              0.8888888888888888,
              "#fdca26"
             ],
             [
              1,
              "#f0f921"
             ]
            ],
            "type": "histogram2dcontour"
           }
          ],
          "mesh3d": [
           {
            "colorbar": {
             "outlinewidth": 0,
             "ticks": ""
            },
            "type": "mesh3d"
           }
          ],
          "parcoords": [
           {
            "line": {
             "colorbar": {
              "outlinewidth": 0,
              "ticks": ""
             }
            },
            "type": "parcoords"
           }
          ],
          "pie": [
           {
            "automargin": true,
            "type": "pie"
           }
          ],
          "scatter": [
           {
            "fillpattern": {
             "fillmode": "overlay",
             "size": 10,
             "solidity": 0.2
            },
            "type": "scatter"
           }
          ],
          "scatter3d": [
           {
            "line": {
             "colorbar": {
              "outlinewidth": 0,
              "ticks": ""
             }
            },
            "marker": {
             "colorbar": {
              "outlinewidth": 0,
              "ticks": ""
             }
            },
            "type": "scatter3d"
           }
          ],
          "scattercarpet": [
           {
            "marker": {
             "colorbar": {
              "outlinewidth": 0,
              "ticks": ""
             }
            },
            "type": "scattercarpet"
           }
          ],
          "scattergeo": [
           {
            "marker": {
             "colorbar": {
              "outlinewidth": 0,
              "ticks": ""
             }
            },
            "type": "scattergeo"
           }
          ],
          "scattergl": [
           {
            "marker": {
             "colorbar": {
              "outlinewidth": 0,
              "ticks": ""
             }
            },
            "type": "scattergl"
           }
          ],
          "scattermapbox": [
           {
            "marker": {
             "colorbar": {
              "outlinewidth": 0,
              "ticks": ""
             }
            },
            "type": "scattermapbox"
           }
          ],
          "scatterpolar": [
           {
            "marker": {
             "colorbar": {
              "outlinewidth": 0,
              "ticks": ""
             }
            },
            "type": "scatterpolar"
           }
          ],
          "scatterpolargl": [
           {
            "marker": {
             "colorbar": {
              "outlinewidth": 0,
              "ticks": ""
             }
            },
            "type": "scatterpolargl"
           }
          ],
          "scatterternary": [
           {
            "marker": {
             "colorbar": {
              "outlinewidth": 0,
              "ticks": ""
             }
            },
            "type": "scatterternary"
           }
          ],
          "surface": [
           {
            "colorbar": {
             "outlinewidth": 0,
             "ticks": ""
            },
            "colorscale": [
             [
              0,
              "#0d0887"
             ],
             [
              0.1111111111111111,
              "#46039f"
             ],
             [
              0.2222222222222222,
              "#7201a8"
             ],
             [
              0.3333333333333333,
              "#9c179e"
             ],
             [
              0.4444444444444444,
              "#bd3786"
             ],
             [
              0.5555555555555556,
              "#d8576b"
             ],
             [
              0.6666666666666666,
              "#ed7953"
             ],
             [
              0.7777777777777778,
              "#fb9f3a"
             ],
             [
              0.8888888888888888,
              "#fdca26"
             ],
             [
              1,
              "#f0f921"
             ]
            ],
            "type": "surface"
           }
          ],
          "table": [
           {
            "cells": {
             "fill": {
              "color": "#EBF0F8"
             },
             "line": {
              "color": "white"
             }
            },
            "header": {
             "fill": {
              "color": "#C8D4E3"
             },
             "line": {
              "color": "white"
             }
            },
            "type": "table"
           }
          ]
         },
         "layout": {
          "annotationdefaults": {
           "arrowcolor": "#2a3f5f",
           "arrowhead": 0,
           "arrowwidth": 1
          },
          "autotypenumbers": "strict",
          "coloraxis": {
           "colorbar": {
            "outlinewidth": 0,
            "ticks": ""
           }
          },
          "colorscale": {
           "diverging": [
            [
             0,
             "#8e0152"
            ],
            [
             0.1,
             "#c51b7d"
            ],
            [
             0.2,
             "#de77ae"
            ],
            [
             0.3,
             "#f1b6da"
            ],
            [
             0.4,
             "#fde0ef"
            ],
            [
             0.5,
             "#f7f7f7"
            ],
            [
             0.6,
             "#e6f5d0"
            ],
            [
             0.7,
             "#b8e186"
            ],
            [
             0.8,
             "#7fbc41"
            ],
            [
             0.9,
             "#4d9221"
            ],
            [
             1,
             "#276419"
            ]
           ],
           "sequential": [
            [
             0,
             "#0d0887"
            ],
            [
             0.1111111111111111,
             "#46039f"
            ],
            [
             0.2222222222222222,
             "#7201a8"
            ],
            [
             0.3333333333333333,
             "#9c179e"
            ],
            [
             0.4444444444444444,
             "#bd3786"
            ],
            [
             0.5555555555555556,
             "#d8576b"
            ],
            [
             0.6666666666666666,
             "#ed7953"
            ],
            [
             0.7777777777777778,
             "#fb9f3a"
            ],
            [
             0.8888888888888888,
             "#fdca26"
            ],
            [
             1,
             "#f0f921"
            ]
           ],
           "sequentialminus": [
            [
             0,
             "#0d0887"
            ],
            [
             0.1111111111111111,
             "#46039f"
            ],
            [
             0.2222222222222222,
             "#7201a8"
            ],
            [
             0.3333333333333333,
             "#9c179e"
            ],
            [
             0.4444444444444444,
             "#bd3786"
            ],
            [
             0.5555555555555556,
             "#d8576b"
            ],
            [
             0.6666666666666666,
             "#ed7953"
            ],
            [
             0.7777777777777778,
             "#fb9f3a"
            ],
            [
             0.8888888888888888,
             "#fdca26"
            ],
            [
             1,
             "#f0f921"
            ]
           ]
          },
          "colorway": [
           "#636efa",
           "#EF553B",
           "#00cc96",
           "#ab63fa",
           "#FFA15A",
           "#19d3f3",
           "#FF6692",
           "#B6E880",
           "#FF97FF",
           "#FECB52"
          ],
          "font": {
           "color": "#2a3f5f"
          },
          "geo": {
           "bgcolor": "white",
           "lakecolor": "white",
           "landcolor": "#E5ECF6",
           "showlakes": true,
           "showland": true,
           "subunitcolor": "white"
          },
          "hoverlabel": {
           "align": "left"
          },
          "hovermode": "closest",
          "mapbox": {
           "style": "light"
          },
          "paper_bgcolor": "white",
          "plot_bgcolor": "#E5ECF6",
          "polar": {
           "angularaxis": {
            "gridcolor": "white",
            "linecolor": "white",
            "ticks": ""
           },
           "bgcolor": "#E5ECF6",
           "radialaxis": {
            "gridcolor": "white",
            "linecolor": "white",
            "ticks": ""
           }
          },
          "scene": {
           "xaxis": {
            "backgroundcolor": "#E5ECF6",
            "gridcolor": "white",
            "gridwidth": 2,
            "linecolor": "white",
            "showbackground": true,
            "ticks": "",
            "zerolinecolor": "white"
           },
           "yaxis": {
            "backgroundcolor": "#E5ECF6",
            "gridcolor": "white",
            "gridwidth": 2,
            "linecolor": "white",
            "showbackground": true,
            "ticks": "",
            "zerolinecolor": "white"
           },
           "zaxis": {
            "backgroundcolor": "#E5ECF6",
            "gridcolor": "white",
            "gridwidth": 2,
            "linecolor": "white",
            "showbackground": true,
            "ticks": "",
            "zerolinecolor": "white"
           }
          },
          "shapedefaults": {
           "line": {
            "color": "#2a3f5f"
           }
          },
          "ternary": {
           "aaxis": {
            "gridcolor": "white",
            "linecolor": "white",
            "ticks": ""
           },
           "baxis": {
            "gridcolor": "white",
            "linecolor": "white",
            "ticks": ""
           },
           "bgcolor": "#E5ECF6",
           "caxis": {
            "gridcolor": "white",
            "linecolor": "white",
            "ticks": ""
           }
          },
          "title": {
           "x": 0.05
          },
          "xaxis": {
           "automargin": true,
           "gridcolor": "white",
           "linecolor": "white",
           "ticks": "",
           "title": {
            "standoff": 15
           },
           "zerolinecolor": "white",
           "zerolinewidth": 2
          },
          "yaxis": {
           "automargin": true,
           "gridcolor": "white",
           "linecolor": "white",
           "ticks": "",
           "title": {
            "standoff": 15
           },
           "zerolinecolor": "white",
           "zerolinewidth": 2
          }
         }
        },
        "title": {
         "font": {
          "color": "Black",
          "size": 22
         },
         "text": "<b>Similarity Matrix</b>",
         "x": 0.55,
         "xanchor": "center",
         "y": 0.95,
         "yanchor": "top"
        },
        "width": 800,
        "xaxis": {
         "anchor": "y",
         "constrain": "domain",
         "domain": [
          0,
          1
         ],
         "scaleanchor": "y"
        },
        "yaxis": {
         "anchor": "x",
         "autorange": "reversed",
         "constrain": "domain",
         "domain": [
          0,
          1
         ]
        }
       }
      }
     },
     "metadata": {},
     "output_type": "display_data"
    }
   ],
   "source": [
    "model.visualize_heatmap()"
   ]
  },
  {
   "cell_type": "code",
   "execution_count": 117,
   "metadata": {},
   "outputs": [
    {
     "data": {
      "application/vnd.plotly.v1+json": {
       "config": {
        "plotlyServerURL": "https://plot.ly"
       },
       "data": [
        {
         "hoverinfo": "text",
         "marker": {
          "color": "rgb(61,153,112)"
         },
         "mode": "lines",
         "type": "scatter",
         "x": [
          0,
          0.6977138402154838,
          0.6977138402154838,
          0
         ],
         "xaxis": "x",
         "y": [
          -5,
          -5,
          -15,
          -15
         ],
         "yaxis": "y"
        },
        {
         "hoverinfo": "text",
         "marker": {
          "color": "rgb(255,65,54)"
         },
         "mode": "lines",
         "type": "scatter",
         "x": [
          0,
          0.15812842712895192,
          0.15812842712895192,
          0
         ],
         "xaxis": "x",
         "y": [
          -45,
          -45,
          -55,
          -55
         ],
         "yaxis": "y"
        },
        {
         "hoverinfo": "text",
         "marker": {
          "color": "rgb(255,65,54)"
         },
         "mode": "lines",
         "type": "scatter",
         "x": [
          0,
          0.08997757967818076,
          0.08997757967818076,
          0
         ],
         "xaxis": "x",
         "y": [
          -65,
          -65,
          -75,
          -75
         ],
         "yaxis": "y"
        },
        {
         "hoverinfo": "text",
         "marker": {
          "color": "rgb(255,65,54)"
         },
         "mode": "lines",
         "type": "scatter",
         "x": [
          0.08997757967818076,
          0.12653220118857403,
          0.12653220118857403,
          0
         ],
         "xaxis": "x",
         "y": [
          -70,
          -70,
          -85,
          -85
         ],
         "yaxis": "y"
        },
        {
         "hoverinfo": "text",
         "marker": {
          "color": "rgb(255,65,54)"
         },
         "mode": "lines",
         "type": "scatter",
         "x": [
          0.12653220118857403,
          0.1788531119070109,
          0.1788531119070109,
          0
         ],
         "xaxis": "x",
         "y": [
          -77.5,
          -77.5,
          -95,
          -95
         ],
         "yaxis": "y"
        },
        {
         "hoverinfo": "text",
         "marker": {
          "color": "rgb(255,65,54)"
         },
         "mode": "lines",
         "type": "scatter",
         "x": [
          0.15812842712895192,
          0.22833948127492468,
          0.22833948127492468,
          0.1788531119070109
         ],
         "xaxis": "x",
         "y": [
          -50,
          -50,
          -86.25,
          -86.25
         ],
         "yaxis": "y"
        },
        {
         "hoverinfo": "text",
         "marker": {
          "color": "rgb(255,65,54)"
         },
         "mode": "lines",
         "type": "scatter",
         "x": [
          0.22833948127492468,
          0.4349618585464687,
          0.4349618585464687,
          0
         ],
         "xaxis": "x",
         "y": [
          -68.125,
          -68.125,
          -105,
          -105
         ],
         "yaxis": "y"
        },
        {
         "hoverinfo": "text",
         "marker": {
          "color": "rgb(255,65,54)"
         },
         "mode": "lines",
         "type": "scatter",
         "x": [
          0,
          0.4499051788351749,
          0.4499051788351749,
          0.4349618585464687
         ],
         "xaxis": "x",
         "y": [
          -35,
          -35,
          -86.5625,
          -86.5625
         ],
         "yaxis": "y"
        },
        {
         "hoverinfo": "text",
         "marker": {
          "color": "rgb(255,65,54)"
         },
         "mode": "lines",
         "type": "scatter",
         "x": [
          0.4499051788351749,
          0.47891528532390554,
          0.47891528532390554,
          0
         ],
         "xaxis": "x",
         "y": [
          -60.78125,
          -60.78125,
          -115,
          -115
         ],
         "yaxis": "y"
        },
        {
         "hoverinfo": "text",
         "marker": {
          "color": "rgb(255,65,54)"
         },
         "mode": "lines",
         "type": "scatter",
         "x": [
          0,
          0.24825905506108759,
          0.24825905506108759,
          0
         ],
         "xaxis": "x",
         "y": [
          -135,
          -135,
          -145,
          -145
         ],
         "yaxis": "y"
        },
        {
         "hoverinfo": "text",
         "marker": {
          "color": "rgb(255,65,54)"
         },
         "mode": "lines",
         "type": "scatter",
         "x": [
          0,
          0.28518064820488803,
          0.28518064820488803,
          0.24825905506108759
         ],
         "xaxis": "x",
         "y": [
          -125,
          -125,
          -140,
          -140
         ],
         "yaxis": "y"
        },
        {
         "hoverinfo": "text",
         "marker": {
          "color": "rgb(255,65,54)"
         },
         "mode": "lines",
         "type": "scatter",
         "x": [
          0,
          0.2478724504176546,
          0.2478724504176546,
          0
         ],
         "xaxis": "x",
         "y": [
          -155,
          -155,
          -165,
          -165
         ],
         "yaxis": "y"
        },
        {
         "hoverinfo": "text",
         "marker": {
          "color": "rgb(255,65,54)"
         },
         "mode": "lines",
         "type": "scatter",
         "x": [
          0.28518064820488803,
          0.3396182977898616,
          0.3396182977898616,
          0.2478724504176546
         ],
         "xaxis": "x",
         "y": [
          -132.5,
          -132.5,
          -160,
          -160
         ],
         "yaxis": "y"
        },
        {
         "hoverinfo": "text",
         "marker": {
          "color": "rgb(255,65,54)"
         },
         "mode": "lines",
         "type": "scatter",
         "x": [
          0,
          0.16028714834964464,
          0.16028714834964464,
          0
         ],
         "xaxis": "x",
         "y": [
          -205,
          -205,
          -215,
          -215
         ],
         "yaxis": "y"
        },
        {
         "hoverinfo": "text",
         "marker": {
          "color": "rgb(255,65,54)"
         },
         "mode": "lines",
         "type": "scatter",
         "x": [
          0,
          0.16153505359005704,
          0.16153505359005704,
          0
         ],
         "xaxis": "x",
         "y": [
          -225,
          -225,
          -235,
          -235
         ],
         "yaxis": "y"
        },
        {
         "hoverinfo": "text",
         "marker": {
          "color": "rgb(255,65,54)"
         },
         "mode": "lines",
         "type": "scatter",
         "x": [
          0.16028714834964464,
          0.20548478354762487,
          0.20548478354762487,
          0.16153505359005704
         ],
         "xaxis": "x",
         "y": [
          -210,
          -210,
          -230,
          -230
         ],
         "yaxis": "y"
        },
        {
         "hoverinfo": "text",
         "marker": {
          "color": "rgb(255,65,54)"
         },
         "mode": "lines",
         "type": "scatter",
         "x": [
          0,
          0.27137252808846835,
          0.27137252808846835,
          0.20548478354762487
         ],
         "xaxis": "x",
         "y": [
          -195,
          -195,
          -220,
          -220
         ],
         "yaxis": "y"
        },
        {
         "hoverinfo": "text",
         "marker": {
          "color": "rgb(255,65,54)"
         },
         "mode": "lines",
         "type": "scatter",
         "x": [
          0,
          0.07197011334766557,
          0.07197011334766557,
          0
         ],
         "xaxis": "x",
         "y": [
          -265,
          -265,
          -275,
          -275
         ],
         "yaxis": "y"
        },
        {
         "hoverinfo": "text",
         "marker": {
          "color": "rgb(255,65,54)"
         },
         "mode": "lines",
         "type": "scatter",
         "x": [
          0,
          0.12649045606076506,
          0.12649045606076506,
          0.07197011334766557
         ],
         "xaxis": "x",
         "y": [
          -255,
          -255,
          -270,
          -270
         ],
         "yaxis": "y"
        },
        {
         "hoverinfo": "text",
         "marker": {
          "color": "rgb(255,65,54)"
         },
         "mode": "lines",
         "type": "scatter",
         "x": [
          0,
          0.17366020780506267,
          0.17366020780506267,
          0.12649045606076506
         ],
         "xaxis": "x",
         "y": [
          -245,
          -245,
          -262.5,
          -262.5
         ],
         "yaxis": "y"
        },
        {
         "hoverinfo": "text",
         "marker": {
          "color": "rgb(255,65,54)"
         },
         "mode": "lines",
         "type": "scatter",
         "x": [
          0.17366020780506267,
          0.21669025318344218,
          0.21669025318344218,
          0
         ],
         "xaxis": "x",
         "y": [
          -253.75,
          -253.75,
          -285,
          -285
         ],
         "yaxis": "y"
        },
        {
         "hoverinfo": "text",
         "marker": {
          "color": "rgb(255,65,54)"
         },
         "mode": "lines",
         "type": "scatter",
         "x": [
          0.27137252808846835,
          0.30228635156367517,
          0.30228635156367517,
          0.21669025318344218
         ],
         "xaxis": "x",
         "y": [
          -207.5,
          -207.5,
          -269.375,
          -269.375
         ],
         "yaxis": "y"
        },
        {
         "hoverinfo": "text",
         "marker": {
          "color": "rgb(255,65,54)"
         },
         "mode": "lines",
         "type": "scatter",
         "x": [
          0.30228635156367517,
          0.3168736351053105,
          0.3168736351053105,
          0
         ],
         "xaxis": "x",
         "y": [
          -238.4375,
          -238.4375,
          -295,
          -295
         ],
         "yaxis": "y"
        },
        {
         "hoverinfo": "text",
         "marker": {
          "color": "rgb(255,65,54)"
         },
         "mode": "lines",
         "type": "scatter",
         "x": [
          0,
          0.325552916423097,
          0.325552916423097,
          0.3168736351053105
         ],
         "xaxis": "x",
         "y": [
          -185,
          -185,
          -266.71875,
          -266.71875
         ],
         "yaxis": "y"
        },
        {
         "hoverinfo": "text",
         "marker": {
          "color": "rgb(255,65,54)"
         },
         "mode": "lines",
         "type": "scatter",
         "x": [
          0,
          0.4224707787744614,
          0.4224707787744614,
          0.325552916423097
         ],
         "xaxis": "x",
         "y": [
          -175,
          -175,
          -225.859375,
          -225.859375
         ],
         "yaxis": "y"
        },
        {
         "hoverinfo": "text",
         "marker": {
          "color": "rgb(255,65,54)"
         },
         "mode": "lines",
         "type": "scatter",
         "x": [
          0.4224707787744614,
          0.44414283119643566,
          0.44414283119643566,
          0
         ],
         "xaxis": "x",
         "y": [
          -200.4296875,
          -200.4296875,
          -305,
          -305
         ],
         "yaxis": "y"
        },
        {
         "hoverinfo": "text",
         "marker": {
          "color": "rgb(255,65,54)"
         },
         "mode": "lines",
         "type": "scatter",
         "x": [
          0.3396182977898616,
          0.502519562341637,
          0.502519562341637,
          0.44414283119643566
         ],
         "xaxis": "x",
         "y": [
          -146.25,
          -146.25,
          -252.71484375,
          -252.71484375
         ],
         "yaxis": "y"
        },
        {
         "hoverinfo": "text",
         "marker": {
          "color": "rgb(255,65,54)"
         },
         "mode": "lines",
         "type": "scatter",
         "x": [
          0.47891528532390554,
          0.5693222791401543,
          0.5693222791401543,
          0.502519562341637
         ],
         "xaxis": "x",
         "y": [
          -87.890625,
          -87.890625,
          -199.482421875,
          -199.482421875
         ],
         "yaxis": "y"
        },
        {
         "hoverinfo": "text",
         "marker": {
          "color": "rgb(255,65,54)"
         },
         "mode": "lines",
         "type": "scatter",
         "x": [
          0.5693222791401543,
          0.5847628186399495,
          0.5847628186399495,
          0
         ],
         "xaxis": "x",
         "y": [
          -143.6865234375,
          -143.6865234375,
          -315,
          -315
         ],
         "yaxis": "y"
        },
        {
         "hoverinfo": "text",
         "marker": {
          "color": "rgb(255,65,54)"
         },
         "mode": "lines",
         "type": "scatter",
         "x": [
          0,
          0.7902785677693746,
          0.7902785677693746,
          0.5847628186399495
         ],
         "xaxis": "x",
         "y": [
          -25,
          -25,
          -229.34326171875,
          -229.34326171875
         ],
         "yaxis": "y"
        },
        {
         "hoverinfo": "text",
         "marker": {
          "color": "rgb(35,205,205)"
         },
         "mode": "lines",
         "type": "scatter",
         "x": [
          0,
          0.341709972712664,
          0.341709972712664,
          0
         ],
         "xaxis": "x",
         "y": [
          -325,
          -325,
          -335,
          -335
         ],
         "yaxis": "y"
        },
        {
         "hoverinfo": "text",
         "marker": {
          "color": "rgb(0,116,217)"
         },
         "mode": "lines",
         "type": "scatter",
         "x": [
          0.7902785677693746,
          1.070779535247908,
          1.070779535247908,
          0.341709972712664
         ],
         "xaxis": "x",
         "y": [
          -127.171630859375,
          -127.171630859375,
          -330,
          -330
         ],
         "yaxis": "y"
        },
        {
         "hoverinfo": "text",
         "marker": {
          "color": "rgb(0,116,217)"
         },
         "mode": "lines",
         "type": "scatter",
         "x": [
          0.6977138402154838,
          1.218293088024694,
          1.218293088024694,
          1.070779535247908
         ],
         "xaxis": "x",
         "y": [
          -10,
          -10,
          -228.5858154296875,
          -228.5858154296875
         ],
         "yaxis": "y"
        }
       ],
       "layout": {
        "autosize": false,
        "height": 710,
        "hoverlabel": {
         "bgcolor": "white",
         "font": {
          "family": "Rockwell",
          "size": 16
         }
        },
        "hovermode": "closest",
        "plot_bgcolor": "#ECEFF1",
        "showlegend": false,
        "template": {
         "data": {
          "bar": [
           {
            "error_x": {
             "color": "#2a3f5f"
            },
            "error_y": {
             "color": "#2a3f5f"
            },
            "marker": {
             "line": {
              "color": "white",
              "width": 0.5
             },
             "pattern": {
              "fillmode": "overlay",
              "size": 10,
              "solidity": 0.2
             }
            },
            "type": "bar"
           }
          ],
          "barpolar": [
           {
            "marker": {
             "line": {
              "color": "white",
              "width": 0.5
             },
             "pattern": {
              "fillmode": "overlay",
              "size": 10,
              "solidity": 0.2
             }
            },
            "type": "barpolar"
           }
          ],
          "carpet": [
           {
            "aaxis": {
             "endlinecolor": "#2a3f5f",
             "gridcolor": "#C8D4E3",
             "linecolor": "#C8D4E3",
             "minorgridcolor": "#C8D4E3",
             "startlinecolor": "#2a3f5f"
            },
            "baxis": {
             "endlinecolor": "#2a3f5f",
             "gridcolor": "#C8D4E3",
             "linecolor": "#C8D4E3",
             "minorgridcolor": "#C8D4E3",
             "startlinecolor": "#2a3f5f"
            },
            "type": "carpet"
           }
          ],
          "choropleth": [
           {
            "colorbar": {
             "outlinewidth": 0,
             "ticks": ""
            },
            "type": "choropleth"
           }
          ],
          "contour": [
           {
            "colorbar": {
             "outlinewidth": 0,
             "ticks": ""
            },
            "colorscale": [
             [
              0,
              "#0d0887"
             ],
             [
              0.1111111111111111,
              "#46039f"
             ],
             [
              0.2222222222222222,
              "#7201a8"
             ],
             [
              0.3333333333333333,
              "#9c179e"
             ],
             [
              0.4444444444444444,
              "#bd3786"
             ],
             [
              0.5555555555555556,
              "#d8576b"
             ],
             [
              0.6666666666666666,
              "#ed7953"
             ],
             [
              0.7777777777777778,
              "#fb9f3a"
             ],
             [
              0.8888888888888888,
              "#fdca26"
             ],
             [
              1,
              "#f0f921"
             ]
            ],
            "type": "contour"
           }
          ],
          "contourcarpet": [
           {
            "colorbar": {
             "outlinewidth": 0,
             "ticks": ""
            },
            "type": "contourcarpet"
           }
          ],
          "heatmap": [
           {
            "colorbar": {
             "outlinewidth": 0,
             "ticks": ""
            },
            "colorscale": [
             [
              0,
              "#0d0887"
             ],
             [
              0.1111111111111111,
              "#46039f"
             ],
             [
              0.2222222222222222,
              "#7201a8"
             ],
             [
              0.3333333333333333,
              "#9c179e"
             ],
             [
              0.4444444444444444,
              "#bd3786"
             ],
             [
              0.5555555555555556,
              "#d8576b"
             ],
             [
              0.6666666666666666,
              "#ed7953"
             ],
             [
              0.7777777777777778,
              "#fb9f3a"
             ],
             [
              0.8888888888888888,
              "#fdca26"
             ],
             [
              1,
              "#f0f921"
             ]
            ],
            "type": "heatmap"
           }
          ],
          "heatmapgl": [
           {
            "colorbar": {
             "outlinewidth": 0,
             "ticks": ""
            },
            "colorscale": [
             [
              0,
              "#0d0887"
             ],
             [
              0.1111111111111111,
              "#46039f"
             ],
             [
              0.2222222222222222,
              "#7201a8"
             ],
             [
              0.3333333333333333,
              "#9c179e"
             ],
             [
              0.4444444444444444,
              "#bd3786"
             ],
             [
              0.5555555555555556,
              "#d8576b"
             ],
             [
              0.6666666666666666,
              "#ed7953"
             ],
             [
              0.7777777777777778,
              "#fb9f3a"
             ],
             [
              0.8888888888888888,
              "#fdca26"
             ],
             [
              1,
              "#f0f921"
             ]
            ],
            "type": "heatmapgl"
           }
          ],
          "histogram": [
           {
            "marker": {
             "pattern": {
              "fillmode": "overlay",
              "size": 10,
              "solidity": 0.2
             }
            },
            "type": "histogram"
           }
          ],
          "histogram2d": [
           {
            "colorbar": {
             "outlinewidth": 0,
             "ticks": ""
            },
            "colorscale": [
             [
              0,
              "#0d0887"
             ],
             [
              0.1111111111111111,
              "#46039f"
             ],
             [
              0.2222222222222222,
              "#7201a8"
             ],
             [
              0.3333333333333333,
              "#9c179e"
             ],
             [
              0.4444444444444444,
              "#bd3786"
             ],
             [
              0.5555555555555556,
              "#d8576b"
             ],
             [
              0.6666666666666666,
              "#ed7953"
             ],
             [
              0.7777777777777778,
              "#fb9f3a"
             ],
             [
              0.8888888888888888,
              "#fdca26"
             ],
             [
              1,
              "#f0f921"
             ]
            ],
            "type": "histogram2d"
           }
          ],
          "histogram2dcontour": [
           {
            "colorbar": {
             "outlinewidth": 0,
             "ticks": ""
            },
            "colorscale": [
             [
              0,
              "#0d0887"
             ],
             [
              0.1111111111111111,
              "#46039f"
             ],
             [
              0.2222222222222222,
              "#7201a8"
             ],
             [
              0.3333333333333333,
              "#9c179e"
             ],
             [
              0.4444444444444444,
              "#bd3786"
             ],
             [
              0.5555555555555556,
              "#d8576b"
             ],
             [
              0.6666666666666666,
              "#ed7953"
             ],
             [
              0.7777777777777778,
              "#fb9f3a"
             ],
             [
              0.8888888888888888,
              "#fdca26"
             ],
             [
              1,
              "#f0f921"
             ]
            ],
            "type": "histogram2dcontour"
           }
          ],
          "mesh3d": [
           {
            "colorbar": {
             "outlinewidth": 0,
             "ticks": ""
            },
            "type": "mesh3d"
           }
          ],
          "parcoords": [
           {
            "line": {
             "colorbar": {
              "outlinewidth": 0,
              "ticks": ""
             }
            },
            "type": "parcoords"
           }
          ],
          "pie": [
           {
            "automargin": true,
            "type": "pie"
           }
          ],
          "scatter": [
           {
            "fillpattern": {
             "fillmode": "overlay",
             "size": 10,
             "solidity": 0.2
            },
            "type": "scatter"
           }
          ],
          "scatter3d": [
           {
            "line": {
             "colorbar": {
              "outlinewidth": 0,
              "ticks": ""
             }
            },
            "marker": {
             "colorbar": {
              "outlinewidth": 0,
              "ticks": ""
             }
            },
            "type": "scatter3d"
           }
          ],
          "scattercarpet": [
           {
            "marker": {
             "colorbar": {
              "outlinewidth": 0,
              "ticks": ""
             }
            },
            "type": "scattercarpet"
           }
          ],
          "scattergeo": [
           {
            "marker": {
             "colorbar": {
              "outlinewidth": 0,
              "ticks": ""
             }
            },
            "type": "scattergeo"
           }
          ],
          "scattergl": [
           {
            "marker": {
             "colorbar": {
              "outlinewidth": 0,
              "ticks": ""
             }
            },
            "type": "scattergl"
           }
          ],
          "scattermapbox": [
           {
            "marker": {
             "colorbar": {
              "outlinewidth": 0,
              "ticks": ""
             }
            },
            "type": "scattermapbox"
           }
          ],
          "scatterpolar": [
           {
            "marker": {
             "colorbar": {
              "outlinewidth": 0,
              "ticks": ""
             }
            },
            "type": "scatterpolar"
           }
          ],
          "scatterpolargl": [
           {
            "marker": {
             "colorbar": {
              "outlinewidth": 0,
              "ticks": ""
             }
            },
            "type": "scatterpolargl"
           }
          ],
          "scatterternary": [
           {
            "marker": {
             "colorbar": {
              "outlinewidth": 0,
              "ticks": ""
             }
            },
            "type": "scatterternary"
           }
          ],
          "surface": [
           {
            "colorbar": {
             "outlinewidth": 0,
             "ticks": ""
            },
            "colorscale": [
             [
              0,
              "#0d0887"
             ],
             [
              0.1111111111111111,
              "#46039f"
             ],
             [
              0.2222222222222222,
              "#7201a8"
             ],
             [
              0.3333333333333333,
              "#9c179e"
             ],
             [
              0.4444444444444444,
              "#bd3786"
             ],
             [
              0.5555555555555556,
              "#d8576b"
             ],
             [
              0.6666666666666666,
              "#ed7953"
             ],
             [
              0.7777777777777778,
              "#fb9f3a"
             ],
             [
              0.8888888888888888,
              "#fdca26"
             ],
             [
              1,
              "#f0f921"
             ]
            ],
            "type": "surface"
           }
          ],
          "table": [
           {
            "cells": {
             "fill": {
              "color": "#EBF0F8"
             },
             "line": {
              "color": "white"
             }
            },
            "header": {
             "fill": {
              "color": "#C8D4E3"
             },
             "line": {
              "color": "white"
             }
            },
            "type": "table"
           }
          ]
         },
         "layout": {
          "annotationdefaults": {
           "arrowcolor": "#2a3f5f",
           "arrowhead": 0,
           "arrowwidth": 1
          },
          "autotypenumbers": "strict",
          "coloraxis": {
           "colorbar": {
            "outlinewidth": 0,
            "ticks": ""
           }
          },
          "colorscale": {
           "diverging": [
            [
             0,
             "#8e0152"
            ],
            [
             0.1,
             "#c51b7d"
            ],
            [
             0.2,
             "#de77ae"
            ],
            [
             0.3,
             "#f1b6da"
            ],
            [
             0.4,
             "#fde0ef"
            ],
            [
             0.5,
             "#f7f7f7"
            ],
            [
             0.6,
             "#e6f5d0"
            ],
            [
             0.7,
             "#b8e186"
            ],
            [
             0.8,
             "#7fbc41"
            ],
            [
             0.9,
             "#4d9221"
            ],
            [
             1,
             "#276419"
            ]
           ],
           "sequential": [
            [
             0,
             "#0d0887"
            ],
            [
             0.1111111111111111,
             "#46039f"
            ],
            [
             0.2222222222222222,
             "#7201a8"
            ],
            [
             0.3333333333333333,
             "#9c179e"
            ],
            [
             0.4444444444444444,
             "#bd3786"
            ],
            [
             0.5555555555555556,
             "#d8576b"
            ],
            [
             0.6666666666666666,
             "#ed7953"
            ],
            [
             0.7777777777777778,
             "#fb9f3a"
            ],
            [
             0.8888888888888888,
             "#fdca26"
            ],
            [
             1,
             "#f0f921"
            ]
           ],
           "sequentialminus": [
            [
             0,
             "#0d0887"
            ],
            [
             0.1111111111111111,
             "#46039f"
            ],
            [
             0.2222222222222222,
             "#7201a8"
            ],
            [
             0.3333333333333333,
             "#9c179e"
            ],
            [
             0.4444444444444444,
             "#bd3786"
            ],
            [
             0.5555555555555556,
             "#d8576b"
            ],
            [
             0.6666666666666666,
             "#ed7953"
            ],
            [
             0.7777777777777778,
             "#fb9f3a"
            ],
            [
             0.8888888888888888,
             "#fdca26"
            ],
            [
             1,
             "#f0f921"
            ]
           ]
          },
          "colorway": [
           "#636efa",
           "#EF553B",
           "#00cc96",
           "#ab63fa",
           "#FFA15A",
           "#19d3f3",
           "#FF6692",
           "#B6E880",
           "#FF97FF",
           "#FECB52"
          ],
          "font": {
           "color": "#2a3f5f"
          },
          "geo": {
           "bgcolor": "white",
           "lakecolor": "white",
           "landcolor": "white",
           "showlakes": true,
           "showland": true,
           "subunitcolor": "#C8D4E3"
          },
          "hoverlabel": {
           "align": "left"
          },
          "hovermode": "closest",
          "mapbox": {
           "style": "light"
          },
          "paper_bgcolor": "white",
          "plot_bgcolor": "white",
          "polar": {
           "angularaxis": {
            "gridcolor": "#EBF0F8",
            "linecolor": "#EBF0F8",
            "ticks": ""
           },
           "bgcolor": "white",
           "radialaxis": {
            "gridcolor": "#EBF0F8",
            "linecolor": "#EBF0F8",
            "ticks": ""
           }
          },
          "scene": {
           "xaxis": {
            "backgroundcolor": "white",
            "gridcolor": "#DFE8F3",
            "gridwidth": 2,
            "linecolor": "#EBF0F8",
            "showbackground": true,
            "ticks": "",
            "zerolinecolor": "#EBF0F8"
           },
           "yaxis": {
            "backgroundcolor": "white",
            "gridcolor": "#DFE8F3",
            "gridwidth": 2,
            "linecolor": "#EBF0F8",
            "showbackground": true,
            "ticks": "",
            "zerolinecolor": "#EBF0F8"
           },
           "zaxis": {
            "backgroundcolor": "white",
            "gridcolor": "#DFE8F3",
            "gridwidth": 2,
            "linecolor": "#EBF0F8",
            "showbackground": true,
            "ticks": "",
            "zerolinecolor": "#EBF0F8"
           }
          },
          "shapedefaults": {
           "line": {
            "color": "#2a3f5f"
           }
          },
          "ternary": {
           "aaxis": {
            "gridcolor": "#DFE8F3",
            "linecolor": "#A2B1C6",
            "ticks": ""
           },
           "baxis": {
            "gridcolor": "#DFE8F3",
            "linecolor": "#A2B1C6",
            "ticks": ""
           },
           "bgcolor": "white",
           "caxis": {
            "gridcolor": "#DFE8F3",
            "linecolor": "#A2B1C6",
            "ticks": ""
           }
          },
          "title": {
           "x": 0.05
          },
          "xaxis": {
           "automargin": true,
           "gridcolor": "#EBF0F8",
           "linecolor": "#EBF0F8",
           "ticks": "",
           "title": {
            "standoff": 15
           },
           "zerolinecolor": "#EBF0F8",
           "zerolinewidth": 2
          },
          "yaxis": {
           "automargin": true,
           "gridcolor": "#EBF0F8",
           "linecolor": "#EBF0F8",
           "ticks": "",
           "title": {
            "standoff": 15
           },
           "zerolinecolor": "#EBF0F8",
           "zerolinewidth": 2
          }
         }
        },
        "title": {
         "font": {
          "color": "Black",
          "size": 22
         },
         "text": "<b>Hierarchical Clustering</b>",
         "x": 0.5,
         "xanchor": "center",
         "yanchor": "top"
        },
        "width": 1000,
        "xaxis": {
         "mirror": "allticks",
         "rangemode": "tozero",
         "showgrid": false,
         "showline": true,
         "showticklabels": true,
         "ticks": "outside",
         "type": "linear",
         "zeroline": false
        },
        "yaxis": {
         "mirror": "allticks",
         "range": [
          -340,
          0
         ],
         "rangemode": "tozero",
         "showgrid": false,
         "showline": true,
         "showticklabels": true,
         "tickmode": "array",
         "ticks": "outside",
         "ticktext": [
          "12_authors declare no_no co...",
          "14_editors_the authors decl...",
          "30_to_we_for",
          "23_multiple sclerosis_patie...",
          "15_benzotriazole_compounds_...",
          "8_molecular_molecules_ligand",
          "5_antimicrobial_antibiotic_...",
          "2_viruses_viral_virus",
          "3_cells_cell_proteins",
          "13_chemotherapy_breast canc...",
          "24_tb infection_tuberculosi...",
          "33_plastics_microplastics_b...",
          "29_interaction_foraging_rec...",
          "16_machine learning_classif...",
          "25_wearables_wearable_smart...",
          "17_banks_financial_bank",
          "22_innovation_technology_kn...",
          "27_sleep quality_insomnia_o...",
          "21_tobacco use_tobacco_of t...",
          "19_muscle mass_sarcopenia_m...",
          "9_dementia_elderly_older ad...",
          "4_education_digital_learning",
          "7_climate change_pollution_...",
          "11_dietary_nutrition_foods",
          "10_vitamin_of vitamin_psori...",
          "6_diabetes_hypertension_glu...",
          "0_vaccine_infection_virus",
          "1_health_healthcare_medical",
          "18_medications_medication_p...",
          "20_retinal_cataract_lenses",
          "31_autism_of autism_autisti...",
          "32_acute cholecystitis_appe...",
          "28_iot_cloud_security",
          "26_and documentclass12ptmin..."
         ],
         "tickvals": [
          -5,
          -15,
          -25,
          -35,
          -45,
          -55,
          -65,
          -75,
          -85,
          -95,
          -105,
          -115,
          -125,
          -135,
          -145,
          -155,
          -165,
          -175,
          -185,
          -195,
          -205,
          -215,
          -225,
          -235,
          -245,
          -255,
          -265,
          -275,
          -285,
          -295,
          -305,
          -315,
          -325,
          -335
         ],
         "type": "linear",
         "zeroline": false
        }
       }
      }
     },
     "metadata": {},
     "output_type": "display_data"
    }
   ],
   "source": [
    "model.visualize_hierarchy()"
   ]
  },
  {
   "cell_type": "code",
   "execution_count": 118,
   "metadata": {},
   "outputs": [],
   "source": [
    "# Save the model\n",
    "embedding_model = \"sentence-transformers/all-MiniLM-L6-v2\"\n",
    "model.save(\"../BERTopic_model\", serialization=\"safetensors\", save_ctfidf=True, save_embedding_model=embedding_model)"
   ]
  },
  {
   "cell_type": "code",
   "execution_count": 119,
   "metadata": {},
   "outputs": [],
   "source": [
    "model = BERTopic.load(\"../BERTopic_model\")"
   ]
  },
  {
   "cell_type": "markdown",
   "metadata": {},
   "source": [
    "Topic labels"
   ]
  },
  {
   "cell_type": "code",
   "execution_count": 120,
   "metadata": {},
   "outputs": [],
   "source": [
    "# Create a list of labels for each topic\n",
    "labels = model.generate_topic_labels(topic_prefix=False)"
   ]
  },
  {
   "cell_type": "code",
   "execution_count": 121,
   "metadata": {},
   "outputs": [
    {
     "name": "stdout",
     "output_type": "stream",
     "text": [
      "data_pandemic_analysis\n",
      "vaccine_infection_virus\n",
      "health_healthcare_medical\n",
      "viruses_viral_virus\n",
      "cells_cell_proteins\n",
      "education_digital_learning\n",
      "antimicrobial_antibiotic_antibiotics\n",
      "diabetes_hypertension_glucose\n",
      "climate change_pollution_climate\n",
      "molecular_molecules_ligand\n",
      "dementia_elderly_older adults\n",
      "vitamin_of vitamin_psoriasis\n",
      "dietary_nutrition_foods\n",
      "authors declare no_no conflicts of_declare no conflicts\n",
      "chemotherapy_breast cancer_cancer\n",
      "editors_the authors declare_manuscript\n",
      "benzotriazole_compounds_metabolites\n",
      "machine learning_classification_datasets\n",
      "banks_financial_bank\n",
      "medications_medication_prescription\n",
      "muscle mass_sarcopenia_muscle\n",
      "retinal_cataract_lenses\n",
      "tobacco use_tobacco_of tobacco\n",
      "innovation_technology_knowledge\n",
      "multiple sclerosis_patients with ms_living with ms\n",
      "tb infection_tuberculosis_active tb\n",
      "wearables_wearable_smartwatch\n",
      "and documentclass12ptminimal usepackageamsmath_documentclass12ptminimal usepackageamsmath usepackagewasysym_usepackageupgreek setlengthoddsidemargin69pt begindocumentmathcal\n",
      "sleep quality_insomnia_of sleep\n",
      "iot_cloud_security\n",
      "interaction_foraging_recognition\n",
      "to_we_for\n",
      "autism_of autism_autistic people\n",
      "acute cholecystitis_appendicitis_cholecystectomy\n",
      "plastics_microplastics_bioplastics\n"
     ]
    }
   ],
   "source": [
    "for label in labels:\n",
    "    print(label)"
   ]
  },
  {
   "cell_type": "markdown",
   "metadata": {},
   "source": [
    "Topics Exploration"
   ]
  },
  {
   "cell_type": "code",
   "execution_count": 122,
   "metadata": {},
   "outputs": [
    {
     "data": {
      "text/html": [
       "<div>\n",
       "<style scoped>\n",
       "    .dataframe tbody tr th:only-of-type {\n",
       "        vertical-align: middle;\n",
       "    }\n",
       "\n",
       "    .dataframe tbody tr th {\n",
       "        vertical-align: top;\n",
       "    }\n",
       "\n",
       "    .dataframe thead th {\n",
       "        text-align: right;\n",
       "    }\n",
       "</style>\n",
       "<table border=\"1\" class=\"dataframe\">\n",
       "  <thead>\n",
       "    <tr style=\"text-align: right;\">\n",
       "      <th></th>\n",
       "      <th>Topic</th>\n",
       "      <th>Count</th>\n",
       "      <th>Name</th>\n",
       "      <th>Representation</th>\n",
       "      <th>Representative_Docs</th>\n",
       "    </tr>\n",
       "  </thead>\n",
       "  <tbody>\n",
       "    <tr>\n",
       "      <th>0</th>\n",
       "      <td>-1</td>\n",
       "      <td>3572</td>\n",
       "      <td>-1_data_pandemic_analysis_research</td>\n",
       "      <td>[data, pandemic, analysis, research, covid19, ...</td>\n",
       "      <td>NaN</td>\n",
       "    </tr>\n",
       "    <tr>\n",
       "      <th>1</th>\n",
       "      <td>0</td>\n",
       "      <td>2445</td>\n",
       "      <td>0_vaccine_infection_virus_viral</td>\n",
       "      <td>[vaccine, infection, virus, viral, disease, co...</td>\n",
       "      <td>NaN</td>\n",
       "    </tr>\n",
       "    <tr>\n",
       "      <th>2</th>\n",
       "      <td>1</td>\n",
       "      <td>1343</td>\n",
       "      <td>1_health_healthcare_medical_patients</td>\n",
       "      <td>[health, healthcare, medical, patients, cancer...</td>\n",
       "      <td>NaN</td>\n",
       "    </tr>\n",
       "    <tr>\n",
       "      <th>3</th>\n",
       "      <td>2</td>\n",
       "      <td>359</td>\n",
       "      <td>2_viruses_viral_virus_rna</td>\n",
       "      <td>[viruses, viral, virus, rna, infected, strains...</td>\n",
       "      <td>NaN</td>\n",
       "    </tr>\n",
       "    <tr>\n",
       "      <th>4</th>\n",
       "      <td>3</td>\n",
       "      <td>240</td>\n",
       "      <td>3_cells_cell_proteins_cellular</td>\n",
       "      <td>[cells, cell, proteins, cellular, immune, gene...</td>\n",
       "      <td>NaN</td>\n",
       "    </tr>\n",
       "    <tr>\n",
       "      <th>5</th>\n",
       "      <td>4</td>\n",
       "      <td>180</td>\n",
       "      <td>4_education_digital_learning_teaching</td>\n",
       "      <td>[education, digital, learning, teaching, techn...</td>\n",
       "      <td>NaN</td>\n",
       "    </tr>\n",
       "    <tr>\n",
       "      <th>6</th>\n",
       "      <td>5</td>\n",
       "      <td>179</td>\n",
       "      <td>5_antimicrobial_antibiotic_antibiotics_bacterial</td>\n",
       "      <td>[antimicrobial, antibiotic, antibiotics, bacte...</td>\n",
       "      <td>NaN</td>\n",
       "    </tr>\n",
       "    <tr>\n",
       "      <th>7</th>\n",
       "      <td>6</td>\n",
       "      <td>175</td>\n",
       "      <td>6_diabetes_hypertension_glucose_mortality</td>\n",
       "      <td>[diabetes, hypertension, glucose, mortality, s...</td>\n",
       "      <td>NaN</td>\n",
       "    </tr>\n",
       "    <tr>\n",
       "      <th>8</th>\n",
       "      <td>7</td>\n",
       "      <td>131</td>\n",
       "      <td>7_climate change_pollution_climate_environmental</td>\n",
       "      <td>[climate change, pollution, climate, environme...</td>\n",
       "      <td>NaN</td>\n",
       "    </tr>\n",
       "    <tr>\n",
       "      <th>9</th>\n",
       "      <td>8</td>\n",
       "      <td>117</td>\n",
       "      <td>8_molecular_molecules_ligand_nanoparticles</td>\n",
       "      <td>[molecular, molecules, ligand, nanoparticles, ...</td>\n",
       "      <td>NaN</td>\n",
       "    </tr>\n",
       "    <tr>\n",
       "      <th>10</th>\n",
       "      <td>9</td>\n",
       "      <td>110</td>\n",
       "      <td>9_dementia_elderly_older adults_health</td>\n",
       "      <td>[dementia, elderly, older adults, health, well...</td>\n",
       "      <td>NaN</td>\n",
       "    </tr>\n",
       "    <tr>\n",
       "      <th>11</th>\n",
       "      <td>10</td>\n",
       "      <td>104</td>\n",
       "      <td>10_vitamin_of vitamin_psoriasis_inflammatory</td>\n",
       "      <td>[vitamin, of vitamin, psoriasis, inflammatory,...</td>\n",
       "      <td>NaN</td>\n",
       "    </tr>\n",
       "    <tr>\n",
       "      <th>12</th>\n",
       "      <td>11</td>\n",
       "      <td>99</td>\n",
       "      <td>11_dietary_nutrition_foods_food waste</td>\n",
       "      <td>[dietary, nutrition, foods, food waste, diet, ...</td>\n",
       "      <td>NaN</td>\n",
       "    </tr>\n",
       "    <tr>\n",
       "      <th>13</th>\n",
       "      <td>12</td>\n",
       "      <td>83</td>\n",
       "      <td>12_authors declare no_no conflicts of_declare ...</td>\n",
       "      <td>[authors declare no, no conflicts of, declare ...</td>\n",
       "      <td>NaN</td>\n",
       "    </tr>\n",
       "    <tr>\n",
       "      <th>14</th>\n",
       "      <td>13</td>\n",
       "      <td>76</td>\n",
       "      <td>13_chemotherapy_breast cancer_cancer_tumors</td>\n",
       "      <td>[chemotherapy, breast cancer, cancer, tumors, ...</td>\n",
       "      <td>NaN</td>\n",
       "    </tr>\n",
       "    <tr>\n",
       "      <th>15</th>\n",
       "      <td>14</td>\n",
       "      <td>62</td>\n",
       "      <td>14_editors_the authors declare_manuscript_the ...</td>\n",
       "      <td>[editors, the authors declare, manuscript, the...</td>\n",
       "      <td>NaN</td>\n",
       "    </tr>\n",
       "    <tr>\n",
       "      <th>16</th>\n",
       "      <td>15</td>\n",
       "      <td>61</td>\n",
       "      <td>15_benzotriazole_compounds_metabolites_herbal</td>\n",
       "      <td>[benzotriazole, compounds, metabolites, herbal...</td>\n",
       "      <td>NaN</td>\n",
       "    </tr>\n",
       "    <tr>\n",
       "      <th>17</th>\n",
       "      <td>16</td>\n",
       "      <td>61</td>\n",
       "      <td>16_machine learning_classification_datasets_al...</td>\n",
       "      <td>[machine learning, classification, datasets, a...</td>\n",
       "      <td>NaN</td>\n",
       "    </tr>\n",
       "    <tr>\n",
       "      <th>18</th>\n",
       "      <td>17</td>\n",
       "      <td>55</td>\n",
       "      <td>17_banks_financial_bank_markets</td>\n",
       "      <td>[banks, financial, bank, markets, monetary, ri...</td>\n",
       "      <td>NaN</td>\n",
       "    </tr>\n",
       "    <tr>\n",
       "      <th>19</th>\n",
       "      <td>18</td>\n",
       "      <td>50</td>\n",
       "      <td>18_medications_medication_prescription_drug</td>\n",
       "      <td>[medications, medication, prescription, drug, ...</td>\n",
       "      <td>NaN</td>\n",
       "    </tr>\n",
       "    <tr>\n",
       "      <th>20</th>\n",
       "      <td>19</td>\n",
       "      <td>46</td>\n",
       "      <td>19_muscle mass_sarcopenia_muscle_athlete</td>\n",
       "      <td>[muscle mass, sarcopenia, muscle, athlete, phy...</td>\n",
       "      <td>NaN</td>\n",
       "    </tr>\n",
       "    <tr>\n",
       "      <th>21</th>\n",
       "      <td>20</td>\n",
       "      <td>40</td>\n",
       "      <td>20_retinal_cataract_lenses_ocular</td>\n",
       "      <td>[retinal, cataract, lenses, ocular, corneal, l...</td>\n",
       "      <td>NaN</td>\n",
       "    </tr>\n",
       "    <tr>\n",
       "      <th>22</th>\n",
       "      <td>21</td>\n",
       "      <td>39</td>\n",
       "      <td>21_tobacco use_tobacco_of tobacco_nicotine</td>\n",
       "      <td>[tobacco use, tobacco, of tobacco, nicotine, s...</td>\n",
       "      <td>NaN</td>\n",
       "    </tr>\n",
       "    <tr>\n",
       "      <th>23</th>\n",
       "      <td>22</td>\n",
       "      <td>30</td>\n",
       "      <td>22_innovation_technology_knowledge_research</td>\n",
       "      <td>[innovation, technology, knowledge, research, ...</td>\n",
       "      <td>NaN</td>\n",
       "    </tr>\n",
       "    <tr>\n",
       "      <th>24</th>\n",
       "      <td>23</td>\n",
       "      <td>30</td>\n",
       "      <td>23_multiple sclerosis_patients with ms_living ...</td>\n",
       "      <td>[multiple sclerosis, patients with ms, living ...</td>\n",
       "      <td>NaN</td>\n",
       "    </tr>\n",
       "    <tr>\n",
       "      <th>25</th>\n",
       "      <td>24</td>\n",
       "      <td>28</td>\n",
       "      <td>24_tb infection_tuberculosis_active tb_tb cases</td>\n",
       "      <td>[tb infection, tuberculosis, active tb, tb cas...</td>\n",
       "      <td>NaN</td>\n",
       "    </tr>\n",
       "    <tr>\n",
       "      <th>26</th>\n",
       "      <td>25</td>\n",
       "      <td>24</td>\n",
       "      <td>25_wearables_wearable_smartwatch_devices</td>\n",
       "      <td>[wearables, wearable, smartwatch, devices, sen...</td>\n",
       "      <td>NaN</td>\n",
       "    </tr>\n",
       "    <tr>\n",
       "      <th>27</th>\n",
       "      <td>26</td>\n",
       "      <td>21</td>\n",
       "      <td>26_and documentclass12ptminimal usepackageamsm...</td>\n",
       "      <td>[and documentclass12ptminimal usepackageamsmat...</td>\n",
       "      <td>NaN</td>\n",
       "    </tr>\n",
       "    <tr>\n",
       "      <th>28</th>\n",
       "      <td>27</td>\n",
       "      <td>20</td>\n",
       "      <td>27_sleep quality_insomnia_of sleep_sleep</td>\n",
       "      <td>[sleep quality, insomnia, of sleep, sleep, cir...</td>\n",
       "      <td>NaN</td>\n",
       "    </tr>\n",
       "    <tr>\n",
       "      <th>29</th>\n",
       "      <td>28</td>\n",
       "      <td>15</td>\n",
       "      <td>28_iot_cloud_security_blockchain</td>\n",
       "      <td>[iot, cloud, security, blockchain, authenticat...</td>\n",
       "      <td>NaN</td>\n",
       "    </tr>\n",
       "    <tr>\n",
       "      <th>30</th>\n",
       "      <td>29</td>\n",
       "      <td>15</td>\n",
       "      <td>29_interaction_foraging_recognition_emotion</td>\n",
       "      <td>[interaction, foraging, recognition, emotion, ...</td>\n",
       "      <td>NaN</td>\n",
       "    </tr>\n",
       "    <tr>\n",
       "      <th>31</th>\n",
       "      <td>30</td>\n",
       "      <td>14</td>\n",
       "      <td>30_to_we_for_the</td>\n",
       "      <td>[to, we, for, the, and, of, as, 31 32, in, 30 ...</td>\n",
       "      <td>NaN</td>\n",
       "    </tr>\n",
       "    <tr>\n",
       "      <th>32</th>\n",
       "      <td>31</td>\n",
       "      <td>14</td>\n",
       "      <td>31_autism_of autism_autistic people_autistic</td>\n",
       "      <td>[autism, of autism, autistic people, autistic,...</td>\n",
       "      <td>NaN</td>\n",
       "    </tr>\n",
       "    <tr>\n",
       "      <th>33</th>\n",
       "      <td>32</td>\n",
       "      <td>12</td>\n",
       "      <td>32_acute cholecystitis_appendicitis_cholecyste...</td>\n",
       "      <td>[acute cholecystitis, appendicitis, cholecyste...</td>\n",
       "      <td>NaN</td>\n",
       "    </tr>\n",
       "    <tr>\n",
       "      <th>34</th>\n",
       "      <td>33</td>\n",
       "      <td>11</td>\n",
       "      <td>33_plastics_microplastics_bioplastics_micropla...</td>\n",
       "      <td>[plastics, microplastics, bioplastics, micropl...</td>\n",
       "      <td>NaN</td>\n",
       "    </tr>\n",
       "  </tbody>\n",
       "</table>\n",
       "</div>"
      ],
      "text/plain": [
       "    Topic  Count                                               Name  \\\n",
       "0      -1   3572                 -1_data_pandemic_analysis_research   \n",
       "1       0   2445                    0_vaccine_infection_virus_viral   \n",
       "2       1   1343               1_health_healthcare_medical_patients   \n",
       "3       2    359                          2_viruses_viral_virus_rna   \n",
       "4       3    240                     3_cells_cell_proteins_cellular   \n",
       "5       4    180              4_education_digital_learning_teaching   \n",
       "6       5    179   5_antimicrobial_antibiotic_antibiotics_bacterial   \n",
       "7       6    175          6_diabetes_hypertension_glucose_mortality   \n",
       "8       7    131   7_climate change_pollution_climate_environmental   \n",
       "9       8    117         8_molecular_molecules_ligand_nanoparticles   \n",
       "10      9    110             9_dementia_elderly_older adults_health   \n",
       "11     10    104       10_vitamin_of vitamin_psoriasis_inflammatory   \n",
       "12     11     99              11_dietary_nutrition_foods_food waste   \n",
       "13     12     83  12_authors declare no_no conflicts of_declare ...   \n",
       "14     13     76        13_chemotherapy_breast cancer_cancer_tumors   \n",
       "15     14     62  14_editors_the authors declare_manuscript_the ...   \n",
       "16     15     61      15_benzotriazole_compounds_metabolites_herbal   \n",
       "17     16     61  16_machine learning_classification_datasets_al...   \n",
       "18     17     55                    17_banks_financial_bank_markets   \n",
       "19     18     50        18_medications_medication_prescription_drug   \n",
       "20     19     46           19_muscle mass_sarcopenia_muscle_athlete   \n",
       "21     20     40                  20_retinal_cataract_lenses_ocular   \n",
       "22     21     39         21_tobacco use_tobacco_of tobacco_nicotine   \n",
       "23     22     30        22_innovation_technology_knowledge_research   \n",
       "24     23     30  23_multiple sclerosis_patients with ms_living ...   \n",
       "25     24     28    24_tb infection_tuberculosis_active tb_tb cases   \n",
       "26     25     24           25_wearables_wearable_smartwatch_devices   \n",
       "27     26     21  26_and documentclass12ptminimal usepackageamsm...   \n",
       "28     27     20           27_sleep quality_insomnia_of sleep_sleep   \n",
       "29     28     15                   28_iot_cloud_security_blockchain   \n",
       "30     29     15        29_interaction_foraging_recognition_emotion   \n",
       "31     30     14                                   30_to_we_for_the   \n",
       "32     31     14       31_autism_of autism_autistic people_autistic   \n",
       "33     32     12  32_acute cholecystitis_appendicitis_cholecyste...   \n",
       "34     33     11  33_plastics_microplastics_bioplastics_micropla...   \n",
       "\n",
       "                                       Representation  Representative_Docs  \n",
       "0   [data, pandemic, analysis, research, covid19, ...                  NaN  \n",
       "1   [vaccine, infection, virus, viral, disease, co...                  NaN  \n",
       "2   [health, healthcare, medical, patients, cancer...                  NaN  \n",
       "3   [viruses, viral, virus, rna, infected, strains...                  NaN  \n",
       "4   [cells, cell, proteins, cellular, immune, gene...                  NaN  \n",
       "5   [education, digital, learning, teaching, techn...                  NaN  \n",
       "6   [antimicrobial, antibiotic, antibiotics, bacte...                  NaN  \n",
       "7   [diabetes, hypertension, glucose, mortality, s...                  NaN  \n",
       "8   [climate change, pollution, climate, environme...                  NaN  \n",
       "9   [molecular, molecules, ligand, nanoparticles, ...                  NaN  \n",
       "10  [dementia, elderly, older adults, health, well...                  NaN  \n",
       "11  [vitamin, of vitamin, psoriasis, inflammatory,...                  NaN  \n",
       "12  [dietary, nutrition, foods, food waste, diet, ...                  NaN  \n",
       "13  [authors declare no, no conflicts of, declare ...                  NaN  \n",
       "14  [chemotherapy, breast cancer, cancer, tumors, ...                  NaN  \n",
       "15  [editors, the authors declare, manuscript, the...                  NaN  \n",
       "16  [benzotriazole, compounds, metabolites, herbal...                  NaN  \n",
       "17  [machine learning, classification, datasets, a...                  NaN  \n",
       "18  [banks, financial, bank, markets, monetary, ri...                  NaN  \n",
       "19  [medications, medication, prescription, drug, ...                  NaN  \n",
       "20  [muscle mass, sarcopenia, muscle, athlete, phy...                  NaN  \n",
       "21  [retinal, cataract, lenses, ocular, corneal, l...                  NaN  \n",
       "22  [tobacco use, tobacco, of tobacco, nicotine, s...                  NaN  \n",
       "23  [innovation, technology, knowledge, research, ...                  NaN  \n",
       "24  [multiple sclerosis, patients with ms, living ...                  NaN  \n",
       "25  [tb infection, tuberculosis, active tb, tb cas...                  NaN  \n",
       "26  [wearables, wearable, smartwatch, devices, sen...                  NaN  \n",
       "27  [and documentclass12ptminimal usepackageamsmat...                  NaN  \n",
       "28  [sleep quality, insomnia, of sleep, sleep, cir...                  NaN  \n",
       "29  [iot, cloud, security, blockchain, authenticat...                  NaN  \n",
       "30  [interaction, foraging, recognition, emotion, ...                  NaN  \n",
       "31  [to, we, for, the, and, of, as, 31 32, in, 30 ...                  NaN  \n",
       "32  [autism, of autism, autistic people, autistic,...                  NaN  \n",
       "33  [acute cholecystitis, appendicitis, cholecyste...                  NaN  \n",
       "34  [plastics, microplastics, bioplastics, micropl...                  NaN  "
      ]
     },
     "execution_count": 122,
     "metadata": {},
     "output_type": "execute_result"
    }
   ],
   "source": [
    "model.get_topic_info()"
   ]
  },
  {
   "cell_type": "code",
   "execution_count": 123,
   "metadata": {},
   "outputs": [
    {
     "data": {
      "text/plain": [
       "pandas.core.frame.DataFrame"
      ]
     },
     "execution_count": 123,
     "metadata": {},
     "output_type": "execute_result"
    }
   ],
   "source": [
    "type(model.get_topic_info())"
   ]
  },
  {
   "cell_type": "code",
   "execution_count": 124,
   "metadata": {},
   "outputs": [
    {
     "data": {
      "text/html": [
       "<div>\n",
       "<style scoped>\n",
       "    .dataframe tbody tr th:only-of-type {\n",
       "        vertical-align: middle;\n",
       "    }\n",
       "\n",
       "    .dataframe tbody tr th {\n",
       "        vertical-align: top;\n",
       "    }\n",
       "\n",
       "    .dataframe thead th {\n",
       "        text-align: right;\n",
       "    }\n",
       "</style>\n",
       "<table border=\"1\" class=\"dataframe\">\n",
       "  <thead>\n",
       "    <tr style=\"text-align: right;\">\n",
       "      <th></th>\n",
       "      <th>Document</th>\n",
       "      <th>Topic</th>\n",
       "      <th>Name</th>\n",
       "      <th>Representation</th>\n",
       "      <th>Representative_Docs</th>\n",
       "      <th>Top_n_words</th>\n",
       "      <th>Representative_document</th>\n",
       "    </tr>\n",
       "  </thead>\n",
       "  <tbody>\n",
       "    <tr>\n",
       "      <th>4930</th>\n",
       "      <td>To the EditorThe coronavirus disease 2019 COV...</td>\n",
       "      <td>-1</td>\n",
       "      <td>-1_data_pandemic_analysis_research</td>\n",
       "      <td>[data, pandemic, analysis, research, covid19, ...</td>\n",
       "      <td>NaN</td>\n",
       "      <td>data - pandemic - analysis - research - covid1...</td>\n",
       "      <td>False</td>\n",
       "    </tr>\n",
       "    <tr>\n",
       "      <th>5146</th>\n",
       "      <td>we find ourselves in a time of crisis. here in...</td>\n",
       "      <td>-1</td>\n",
       "      <td>-1_data_pandemic_analysis_research</td>\n",
       "      <td>[data, pandemic, analysis, research, covid19, ...</td>\n",
       "      <td>NaN</td>\n",
       "      <td>data - pandemic - analysis - research - covid1...</td>\n",
       "      <td>False</td>\n",
       "    </tr>\n",
       "    <tr>\n",
       "      <th>5145</th>\n",
       "      <td>many factors come into play and work to affect...</td>\n",
       "      <td>-1</td>\n",
       "      <td>-1_data_pandemic_analysis_research</td>\n",
       "      <td>[data, pandemic, analysis, research, covid19, ...</td>\n",
       "      <td>NaN</td>\n",
       "      <td>data - pandemic - analysis - research - covid1...</td>\n",
       "      <td>False</td>\n",
       "    </tr>\n",
       "    <tr>\n",
       "      <th>5126</th>\n",
       "      <td>pregnancy is among the most important events i...</td>\n",
       "      <td>-1</td>\n",
       "      <td>-1_data_pandemic_analysis_research</td>\n",
       "      <td>[data, pandemic, analysis, research, covid19, ...</td>\n",
       "      <td>NaN</td>\n",
       "      <td>data - pandemic - analysis - research - covid1...</td>\n",
       "      <td>False</td>\n",
       "    </tr>\n",
       "    <tr>\n",
       "      <th>5125</th>\n",
       "      <td>this was a retrospective analysis of a nationw...</td>\n",
       "      <td>-1</td>\n",
       "      <td>-1_data_pandemic_analysis_research</td>\n",
       "      <td>[data, pandemic, analysis, research, covid19, ...</td>\n",
       "      <td>NaN</td>\n",
       "      <td>data - pandemic - analysis - research - covid1...</td>\n",
       "      <td>False</td>\n",
       "    </tr>\n",
       "    <tr>\n",
       "      <th>...</th>\n",
       "      <td>...</td>\n",
       "      <td>...</td>\n",
       "      <td>...</td>\n",
       "      <td>...</td>\n",
       "      <td>...</td>\n",
       "      <td>...</td>\n",
       "      <td>...</td>\n",
       "    </tr>\n",
       "    <tr>\n",
       "      <th>1890</th>\n",
       "      <td>the sudden amplification in road traffic over ...</td>\n",
       "      <td>33</td>\n",
       "      <td>33_plastics_microplastics_bioplastics_micropla...</td>\n",
       "      <td>[plastics, microplastics, bioplastics, micropl...</td>\n",
       "      <td>NaN</td>\n",
       "      <td>plastics - microplastics - bioplastics - micro...</td>\n",
       "      <td>False</td>\n",
       "    </tr>\n",
       "    <tr>\n",
       "      <th>6573</th>\n",
       "      <td>currently, petroleum-based plastics, which are...</td>\n",
       "      <td>33</td>\n",
       "      <td>33_plastics_microplastics_bioplastics_micropla...</td>\n",
       "      <td>[plastics, microplastics, bioplastics, micropl...</td>\n",
       "      <td>NaN</td>\n",
       "      <td>plastics - microplastics - bioplastics - micro...</td>\n",
       "      <td>False</td>\n",
       "    </tr>\n",
       "    <tr>\n",
       "      <th>9459</th>\n",
       "      <td>since the creation of the first synthetic poly...</td>\n",
       "      <td>33</td>\n",
       "      <td>33_plastics_microplastics_bioplastics_micropla...</td>\n",
       "      <td>[plastics, microplastics, bioplastics, micropl...</td>\n",
       "      <td>NaN</td>\n",
       "      <td>plastics - microplastics - bioplastics - micro...</td>\n",
       "      <td>False</td>\n",
       "    </tr>\n",
       "    <tr>\n",
       "      <th>5084</th>\n",
       "      <td>indian ship building industry started in the a...</td>\n",
       "      <td>33</td>\n",
       "      <td>33_plastics_microplastics_bioplastics_micropla...</td>\n",
       "      <td>[plastics, microplastics, bioplastics, micropl...</td>\n",
       "      <td>NaN</td>\n",
       "      <td>plastics - microplastics - bioplastics - micro...</td>\n",
       "      <td>False</td>\n",
       "    </tr>\n",
       "    <tr>\n",
       "      <th>88</th>\n",
       "      <td>as plastic pollution has become an increasing ...</td>\n",
       "      <td>33</td>\n",
       "      <td>33_plastics_microplastics_bioplastics_micropla...</td>\n",
       "      <td>[plastics, microplastics, bioplastics, micropl...</td>\n",
       "      <td>NaN</td>\n",
       "      <td>plastics - microplastics - bioplastics - micro...</td>\n",
       "      <td>False</td>\n",
       "    </tr>\n",
       "  </tbody>\n",
       "</table>\n",
       "<p>9861 rows × 7 columns</p>\n",
       "</div>"
      ],
      "text/plain": [
       "                                               Document  Topic  \\\n",
       "4930   To the EditorThe coronavirus disease 2019 COV...     -1   \n",
       "5146  we find ourselves in a time of crisis. here in...     -1   \n",
       "5145  many factors come into play and work to affect...     -1   \n",
       "5126  pregnancy is among the most important events i...     -1   \n",
       "5125  this was a retrospective analysis of a nationw...     -1   \n",
       "...                                                 ...    ...   \n",
       "1890  the sudden amplification in road traffic over ...     33   \n",
       "6573  currently, petroleum-based plastics, which are...     33   \n",
       "9459  since the creation of the first synthetic poly...     33   \n",
       "5084  indian ship building industry started in the a...     33   \n",
       "88    as plastic pollution has become an increasing ...     33   \n",
       "\n",
       "                                                   Name  \\\n",
       "4930                 -1_data_pandemic_analysis_research   \n",
       "5146                 -1_data_pandemic_analysis_research   \n",
       "5145                 -1_data_pandemic_analysis_research   \n",
       "5126                 -1_data_pandemic_analysis_research   \n",
       "5125                 -1_data_pandemic_analysis_research   \n",
       "...                                                 ...   \n",
       "1890  33_plastics_microplastics_bioplastics_micropla...   \n",
       "6573  33_plastics_microplastics_bioplastics_micropla...   \n",
       "9459  33_plastics_microplastics_bioplastics_micropla...   \n",
       "5084  33_plastics_microplastics_bioplastics_micropla...   \n",
       "88    33_plastics_microplastics_bioplastics_micropla...   \n",
       "\n",
       "                                         Representation  Representative_Docs  \\\n",
       "4930  [data, pandemic, analysis, research, covid19, ...                  NaN   \n",
       "5146  [data, pandemic, analysis, research, covid19, ...                  NaN   \n",
       "5145  [data, pandemic, analysis, research, covid19, ...                  NaN   \n",
       "5126  [data, pandemic, analysis, research, covid19, ...                  NaN   \n",
       "5125  [data, pandemic, analysis, research, covid19, ...                  NaN   \n",
       "...                                                 ...                  ...   \n",
       "1890  [plastics, microplastics, bioplastics, micropl...                  NaN   \n",
       "6573  [plastics, microplastics, bioplastics, micropl...                  NaN   \n",
       "9459  [plastics, microplastics, bioplastics, micropl...                  NaN   \n",
       "5084  [plastics, microplastics, bioplastics, micropl...                  NaN   \n",
       "88    [plastics, microplastics, bioplastics, micropl...                  NaN   \n",
       "\n",
       "                                            Top_n_words  \\\n",
       "4930  data - pandemic - analysis - research - covid1...   \n",
       "5146  data - pandemic - analysis - research - covid1...   \n",
       "5145  data - pandemic - analysis - research - covid1...   \n",
       "5126  data - pandemic - analysis - research - covid1...   \n",
       "5125  data - pandemic - analysis - research - covid1...   \n",
       "...                                                 ...   \n",
       "1890  plastics - microplastics - bioplastics - micro...   \n",
       "6573  plastics - microplastics - bioplastics - micro...   \n",
       "9459  plastics - microplastics - bioplastics - micro...   \n",
       "5084  plastics - microplastics - bioplastics - micro...   \n",
       "88    plastics - microplastics - bioplastics - micro...   \n",
       "\n",
       "      Representative_document  \n",
       "4930                    False  \n",
       "5146                    False  \n",
       "5145                    False  \n",
       "5126                    False  \n",
       "5125                    False  \n",
       "...                       ...  \n",
       "1890                    False  \n",
       "6573                    False  \n",
       "9459                    False  \n",
       "5084                    False  \n",
       "88                      False  \n",
       "\n",
       "[9861 rows x 7 columns]"
      ]
     },
     "execution_count": 124,
     "metadata": {},
     "output_type": "execute_result"
    }
   ],
   "source": [
    "model.get_document_info(documents).sort_values(by='Topic')"
   ]
  },
  {
   "cell_type": "code",
   "execution_count": 125,
   "metadata": {},
   "outputs": [],
   "source": [
    "document_info = model.get_document_info(documents).sort_values(by='Topic')\n",
    "document_info = document_info.reset_index()"
   ]
  },
  {
   "cell_type": "code",
   "execution_count": 126,
   "metadata": {},
   "outputs": [
    {
     "name": "stdout",
     "output_type": "stream",
     "text": [
      "      index                                           Document  Topic  \\\n",
      "0      4930   To the EditorThe coronavirus disease 2019 COV...     -1   \n",
      "1      5146  we find ourselves in a time of crisis. here in...     -1   \n",
      "2      5145  many factors come into play and work to affect...     -1   \n",
      "3      5126  pregnancy is among the most important events i...     -1   \n",
      "4      5125  this was a retrospective analysis of a nationw...     -1   \n",
      "...     ...                                                ...    ...   \n",
      "9856   1890  the sudden amplification in road traffic over ...     33   \n",
      "9857   6573  currently, petroleum-based plastics, which are...     33   \n",
      "9858   9459  since the creation of the first synthetic poly...     33   \n",
      "9859   5084  indian ship building industry started in the a...     33   \n",
      "9860     88  as plastic pollution has become an increasing ...     33   \n",
      "\n",
      "                                                   Name  \\\n",
      "0                    -1_data_pandemic_analysis_research   \n",
      "1                    -1_data_pandemic_analysis_research   \n",
      "2                    -1_data_pandemic_analysis_research   \n",
      "3                    -1_data_pandemic_analysis_research   \n",
      "4                    -1_data_pandemic_analysis_research   \n",
      "...                                                 ...   \n",
      "9856  33_plastics_microplastics_bioplastics_micropla...   \n",
      "9857  33_plastics_microplastics_bioplastics_micropla...   \n",
      "9858  33_plastics_microplastics_bioplastics_micropla...   \n",
      "9859  33_plastics_microplastics_bioplastics_micropla...   \n",
      "9860  33_plastics_microplastics_bioplastics_micropla...   \n",
      "\n",
      "                                         Representation  Representative_Docs  \\\n",
      "0     [data, pandemic, analysis, research, covid19, ...                  NaN   \n",
      "1     [data, pandemic, analysis, research, covid19, ...                  NaN   \n",
      "2     [data, pandemic, analysis, research, covid19, ...                  NaN   \n",
      "3     [data, pandemic, analysis, research, covid19, ...                  NaN   \n",
      "4     [data, pandemic, analysis, research, covid19, ...                  NaN   \n",
      "...                                                 ...                  ...   \n",
      "9856  [plastics, microplastics, bioplastics, micropl...                  NaN   \n",
      "9857  [plastics, microplastics, bioplastics, micropl...                  NaN   \n",
      "9858  [plastics, microplastics, bioplastics, micropl...                  NaN   \n",
      "9859  [plastics, microplastics, bioplastics, micropl...                  NaN   \n",
      "9860  [plastics, microplastics, bioplastics, micropl...                  NaN   \n",
      "\n",
      "                                            Top_n_words  \\\n",
      "0     data - pandemic - analysis - research - covid1...   \n",
      "1     data - pandemic - analysis - research - covid1...   \n",
      "2     data - pandemic - analysis - research - covid1...   \n",
      "3     data - pandemic - analysis - research - covid1...   \n",
      "4     data - pandemic - analysis - research - covid1...   \n",
      "...                                                 ...   \n",
      "9856  plastics - microplastics - bioplastics - micro...   \n",
      "9857  plastics - microplastics - bioplastics - micro...   \n",
      "9858  plastics - microplastics - bioplastics - micro...   \n",
      "9859  plastics - microplastics - bioplastics - micro...   \n",
      "9860  plastics - microplastics - bioplastics - micro...   \n",
      "\n",
      "      Representative_document  \n",
      "0                       False  \n",
      "1                       False  \n",
      "2                       False  \n",
      "3                       False  \n",
      "4                       False  \n",
      "...                       ...  \n",
      "9856                    False  \n",
      "9857                    False  \n",
      "9858                    False  \n",
      "9859                    False  \n",
      "9860                    False  \n",
      "\n",
      "[9861 rows x 8 columns]\n"
     ]
    }
   ],
   "source": [
    "print(document_info)"
   ]
  },
  {
   "cell_type": "code",
   "execution_count": 127,
   "metadata": {},
   "outputs": [
    {
     "name": "stdout",
     "output_type": "stream",
     "text": [
      "    Topic  Count                                              Label\n",
      "6      -1   3572                 plastics_microplastics_bioplastics\n",
      "0       0   2445                             data_pandemic_analysis\n",
      "1       1   1343                            vaccine_infection_virus\n",
      "5       2    359                          health_healthcare_medical\n",
      "21      3    240                                viruses_viral_virus\n",
      "3       4    180                                cells_cell_proteins\n",
      "8       5    179                         education_digital_learning\n",
      "18      6    175               antimicrobial_antibiotic_antibiotics\n",
      "9       7    131                      diabetes_hypertension_glucose\n",
      "14      8    117                   climate change_pollution_climate\n",
      "11      9    110                         molecular_molecules_ligand\n",
      "16     10    104                      dementia_elderly_older adults\n",
      "10     11     99                       vitamin_of vitamin_psoriasis\n",
      "34     12     83                            dietary_nutrition_foods\n",
      "25     13     76  authors declare no_no conflicts of_declare no ...\n",
      "23     14     62                  chemotherapy_breast cancer_cancer\n",
      "4      15     61             editors_the authors declare_manuscript\n",
      "2      16     61                benzotriazole_compounds_metabolites\n",
      "7      17     55           machine learning_classification_datasets\n",
      "29     18     50                               banks_financial_bank\n",
      "19     19     46                medications_medication_prescription\n",
      "24     20     40                      muscle mass_sarcopenia_muscle\n",
      "28     21     39                            retinal_cataract_lenses\n",
      "30     22     30                     tobacco use_tobacco_of tobacco\n",
      "27     23     30                    innovation_technology_knowledge\n",
      "20     24     28  multiple sclerosis_patients with ms_living wit...\n",
      "15     25     24                tb infection_tuberculosis_active tb\n",
      "22     26     21                      wearables_wearable_smartwatch\n",
      "32     27     20  and documentclass12ptminimal usepackageamsmath...\n",
      "33     28     15                    sleep quality_insomnia_of sleep\n",
      "17     29     15                                 iot_cloud_security\n",
      "31     30     14                   interaction_foraging_recognition\n",
      "26     31     14                                          to_we_for\n",
      "12     32     12                   autism_of autism_autistic people\n",
      "13     33     11   acute cholecystitis_appendicitis_cholecystectomy\n"
     ]
    }
   ],
   "source": [
    "most_frequent_topics = model.get_topic_freq()\n",
    "most_frequent_topics['Label'] = most_frequent_topics['Topic'].apply(lambda x: labels[x] if x < len(labels) else 'N/A')\n",
    "print(most_frequent_topics)"
   ]
  },
  {
   "cell_type": "code",
   "execution_count": 128,
   "metadata": {},
   "outputs": [
    {
     "data": {
      "image/png": "[encoded data removed]",
      "text/plain": [
       "<Figure size 2000x1000 with 1 Axes>"
      ]
     },
     "metadata": {},
     "output_type": "display_data"
    }
   ],
   "source": [
    "import matplotlib.pyplot as plt\n",
    "\n",
    "# Filter out topic -1\n",
    "filtered_topics = most_frequent_topics[most_frequent_topics['Topic'] != -1]\n",
    "\n",
    "# Sort topics by frequency\n",
    "sorted_topics = filtered_topics.sort_values(by='Count', ascending=True)\n",
    "\n",
    "# Adjusting figure size for a vertical layout\n",
    "plt.figure(figsize=(20, 10))  # Wider figure to accommodate all topics\n",
    "\n",
    "# Creating a vertical bar chart\n",
    "plt.bar(filtered_topics['Label'], filtered_topics['Count'], color='skyblue')\n",
    "\n",
    "# Adding labels and title\n",
    "plt.ylabel('Frequency')\n",
    "plt.xlabel('Topics')\n",
    "plt.title('Frequency of Topics')\n",
    "\n",
    "# Rotating x-axis labels to avoid overlap\n",
    "plt.xticks(rotation=90)\n",
    "\n",
    "# Adjust layout for better fit and readability\n",
    "plt.tight_layout()\n",
    "\n",
    "# Display the plot\n",
    "plt.show()"
   ]
  },
  {
   "cell_type": "code",
   "execution_count": 129,
   "metadata": {},
   "outputs": [],
   "source": [
    "most_frequent_topics.to_csv('../most_frequent_topics.csv', index=False)"
   ]
  },
  {
   "cell_type": "markdown",
   "metadata": {},
   "source": [
    "Find the most representative documents"
   ]
  },
  {
   "cell_type": "code",
   "execution_count": 130,
   "metadata": {},
   "outputs": [],
   "source": [
    "import numpy as np\n",
    "def find_representative_docs(documents, topics, probabilities, n=3):\n",
    "    \"\"\"\n",
    "    Find the most representative documents for each topic.\n",
    "\n",
    "    Parameters:\n",
    "    - documents: List of documents.\n",
    "    - topics: Array of topic assignments for each document.\n",
    "    - probabilities: Matrix of topic probabilities for each document.\n",
    "    - n: Number of representative documents to find per topic.\n",
    "\n",
    "    Returns:\n",
    "    - A dictionary with topics as keys and lists of indices of the n most representative\n",
    "      documents as values.\n",
    "    \"\"\"\n",
    "    probabilities = np.array(probabilities)\n",
    "    representative_docs = {}\n",
    "\n",
    "    # Convert topics to numpy array for easier handling\n",
    "    topics = np.array(topics)\n",
    "\n",
    "    print(f\"Documents: {len(documents)}, Topics: {topics.shape}, Probabilities shape: {probabilities.shape}\")\n",
    "\n",
    "    unique_topics = set(topics)\n",
    "    if -1 in unique_topics:\n",
    "        unique_topics.remove(-1)\n",
    "\n",
    "    for topic in unique_topics:\n",
    "        # Correctly identify documents belonging to the current topic\n",
    "        topic_docs_indices = np.flatnonzero(topics == topic)\n",
    "\n",
    "        if len(topic_docs_indices) == 0:\n",
    "            continue  # If no documents for the topic, skip it\n",
    "\n",
    "        # Get the probabilities for documents in this topic\n",
    "        topic_probabilities = probabilities[topic_docs_indices, topic]\n",
    "\n",
    "        # Identify the indices of the top n documents with the highest probability for this topic\n",
    "        top_n_indices = np.argsort(-topic_probabilities)[:n]\n",
    "        representative_doc_indices = topic_docs_indices[top_n_indices]\n",
    "\n",
    "        representative_docs[topic] = representative_doc_indices.tolist()\n",
    "\n",
    "        print(f\"Topic {topic}: {representative_doc_indices}\")\n",
    "\n",
    "    return representative_docs\n"
   ]
  },
  {
   "cell_type": "code",
   "execution_count": 132,
   "metadata": {},
   "outputs": [
    {
     "name": "stdout",
     "output_type": "stream",
     "text": [
      "Documents: 9861, Topics: (9861,), Probabilities shape: (9861, 34)\n",
      "Topic 0: [6947 6390 2309]\n",
      "Topic 1: [5297 5134 5144]\n",
      "Topic 2: [  12 3184 8247]\n",
      "Topic 3: [ 220 5558 5397]\n",
      "Topic 4: [4001 1576 1510]\n",
      "Topic 5: [  18 6971 6969]\n",
      "Topic 6: [ 113 6718 6701]\n",
      "Topic 7: [6682 5177 2715]\n",
      "Topic 8: [6165 6404 5405]\n",
      "Topic 9: [  62 6036 2919]\n",
      "Topic 10: [ 104 5124 5390]\n",
      "Topic 11: [7934 3570 3480]\n",
      "Topic 12: [4903 7966 5082]\n",
      "Topic 13: [2729 5844 3990]\n",
      "Topic 14: [ 230 4867 4882]\n",
      "Topic 15: [   7 9640 9490]\n",
      "Topic 16: [4935 6018 9345]\n",
      "Topic 17: [9797 9695 5797]\n",
      "Topic 18: [ 495 5266 5507]\n",
      "Topic 19: [ 124 8966 8248]\n",
      "Topic 20: [5375 4996 8397]\n",
      "Topic 21: [7431 1140 1259]\n",
      "Topic 22: [3054 5926 5268]\n",
      "Topic 23: [9546 5376 4301]\n",
      "Topic 24: [ 161 9482 8552]\n",
      "Topic 25: [ 92 275 908]\n",
      "Topic 26: [ 594  738 8801]\n",
      "Topic 27: [6005 1294 1514]\n",
      "Topic 28: [ 808 1524 1752]\n",
      "Topic 29: [ 108 1894 2531]\n",
      "Topic 30: [663 692 968]\n",
      "Topic 31: [ 280 1763 3808]\n",
      "Topic 32: [  81 1587 2738]\n",
      "Topic 33: [  88 1890 2638]\n"
     ]
    }
   ],
   "source": [
    "representative_docs = find_representative_docs(documents, topics, probabilities, n=3)"
   ]
  },
  {
   "cell_type": "code",
   "execution_count": 133,
   "metadata": {},
   "outputs": [],
   "source": [
    "df_representative_docs = pd.DataFrame.from_dict(representative_docs, orient='index')\n",
    "df_probabilities = pd.DataFrame(probabilities)\n",
    "\n",
    "df_representative_docs.to_csv('../representative_docs.csv', index=False)\n",
    "df_probabilities.to_csv('../probabilities.csv', index=False)"
   ]
  },
  {
   "cell_type": "markdown",
   "metadata": {},
   "source": [
    "### Summarization Steps:\n",
    "\n",
    "1. **Topic Categorization**: Use BERTopic to sort documents into topics.\n",
    "2. **Keyword Extraction**: Get keywords for each topic to help find important sentences.\n",
    "3. **Content Extraction**: Choose sentences from documents that have these keywords.\n",
    "4. **Extractive Summarization**: Use LexRank to find and keep the most important sentences.\n",
    "5. **Abstract Summarization**: Turn the short summaries into easy-to-understand final summaries with BART."
   ]
  },
  {
   "cell_type": "code",
   "execution_count": 134,
   "metadata": {},
   "outputs": [],
   "source": [
    "from transformers import pipeline\n",
    "from tqdm import tqdm\n",
    "from sumy.summarizers.lex_rank import LexRankSummarizer\n",
    "from sumy.parsers.plaintext import PlaintextParser\n",
    "from sumy.nlp.tokenizers import Tokenizer\n",
    "from bertopic import BERTopic\n",
    "from bertopic.representation import KeyBERTInspired\n",
    "import pandas as pd\n",
    "\n",
    "# Load your previously saved BERTopic model\n",
    "model = BERTopic.load(\"../BERTopic_model\")\n",
    "abstract_summarizer = pipeline('summarization', model='facebook/bart-large-cnn')\n"
   ]
  },
  {
   "cell_type": "code",
   "execution_count": 135,
   "metadata": {},
   "outputs": [
    {
     "name": "stdout",
     "output_type": "stream",
     "text": [
      "Keywords for topic 0: [['vaccine', 0.5330634117126465], ['infection', 0.45629286766052246], ['virus', 0.4545660614967346], ['viral', 0.4526919722557068], ['disease', 0.4140316843986511], ['covid19', 0.3130788207054138], ['risk', 0.21692711114883423], ['patients', 0.21592333912849426], ['protein', 0.20849952101707458], ['sarscov2', 0.20655903220176697]]\n",
      "<class 'list'>\n",
      "<class 'dict'>\n"
     ]
    }
   ],
   "source": [
    "def store_topic_keywords(model):\n",
    "    \"\"\"\n",
    "    Extracts and stores keywords for each topic in a BERTopic model.\n",
    "\n",
    "    Parameters:\n",
    "    - model: A BERTopic model instance.\n",
    "\n",
    "    Returns:\n",
    "    - A dictionary with topic numbers as keys and lists of (keyword, score) tuples as values.\n",
    "    \"\"\"\n",
    "    topic_keywords = {}\n",
    "    topics = model.get_topics()\n",
    "    \n",
    "    # Iterate through each topic in the model\n",
    "    for topic_num in topics.keys():\n",
    "        # For each topic, extract keywords and their scores\n",
    "        keywords = model.get_topic(topic_num)\n",
    "        \n",
    "        # Store the keywords and their scores if they are not None or boolean\n",
    "        if keywords and isinstance(keywords, list):\n",
    "            topic_keywords[topic_num] = keywords\n",
    "        else:\n",
    "            print(f\"Warning: No valid keywords found for topic {topic_num}.\")\n",
    "    \n",
    "    return topic_keywords\n",
    "\n",
    "# Usage\n",
    "topic_keywords = store_topic_keywords(model)\n",
    "\n",
    "# To access keywords for a specific topic, say topic 0\n",
    "print(\"Keywords for topic 0:\", topic_keywords.get(0))\n",
    "print(type(topic_keywords.get(0)))\n",
    "print(type(topic_keywords))"
   ]
  },
  {
   "cell_type": "code",
   "execution_count": 136,
   "metadata": {},
   "outputs": [],
   "source": [
    "from tqdm import tqdm\n",
    "\n",
    "def extract_sentences_with_keywords(documents, topic_keywords_dict):\n",
    "    \"\"\"\n",
    "    For each topic, extract sentences from all documents that contain the topic's keywords.\n",
    "\n",
    "    Parameters:\n",
    "    - documents: List of all documents.\n",
    "    - topic_keywords_dict: Dictionary with topics as keys and lists of (keyword, score) tuples as values.\n",
    "\n",
    "    Returns:\n",
    "    - A dictionary with topics as keys and concatenated sentences containing keywords as values.\n",
    "    \"\"\"\n",
    "    sentences_by_topic = {}\n",
    "    for topic, keywords_list in tqdm(topic_keywords_dict.items(), desc=\"Processing topics\"):\n",
    "        if topic == -1:\n",
    "            continue  # Skip the -1 topic\n",
    "\n",
    "        # Extract the keywords for the current topic\n",
    "        topic_keywords = [word for word, _ in keywords_list]\n",
    "        topic_sentences = []\n",
    "\n",
    "        # Iterate over representative documents for the current topic\n",
    "        for doc_idx in tqdm(representative_docs[topic], desc=f\"Scanning representative documents for topic {topic}\", leave=False):\n",
    "            doc = documents[doc_idx]\n",
    "            sentences = doc.split('. ')\n",
    "            for sentence in sentences:\n",
    "                if any(keyword.lower() in sentence.lower() for keyword in topic_keywords):  # Case-insensitive match\n",
    "                    topic_sentences.append(sentence)\n",
    "        \n",
    "        # Only add non-empty collections of sentences\n",
    "        if topic_sentences:\n",
    "            sentences_by_topic[topic] = \" \".join(topic_sentences)\n",
    "        else:\n",
    "            print(f\"No sentences found containing keywords for topic {topic}.\")\n",
    "\n",
    "    return sentences_by_topic\n"
   ]
  },
  {
   "cell_type": "markdown",
   "metadata": {},
   "source": [
    "Only run this if you don't want to rerun the topic extraction code. ***Requires converting representative_docs back into a dictionary***."
   ]
  },
  {
   "cell_type": "code",
   "execution_count": 137,
   "metadata": {},
   "outputs": [],
   "source": [
    "#representative_docs = pd.read_csv('../representative_docs.csv')\n",
    "#probabilities = pd.read_csv('../probabilities.csv')\n",
    "#concatenated_df = pd.read_csv('../concatenated.csv')\n",
    "#documents = concatenated_df['text'].tolist()"
   ]
  },
  {
   "cell_type": "code",
   "execution_count": 138,
   "metadata": {},
   "outputs": [],
   "source": [
    "from tqdm import tqdm\n",
    "\n",
    "def extract_sentences_with_keywords(documents, topic_keywords_dict):\n",
    "    \"\"\"\n",
    "    For each topic, extract sentences from all documents that contain the topic's keywords.\n",
    "\n",
    "    Parameters:\n",
    "    - documents: List of all documents.\n",
    "    - topic_keywords_dict: Dictionary with topics as keys and lists of (keyword, score) tuples as values.\n",
    "\n",
    "    Returns:\n",
    "    - A dictionary with topics as keys and concatenated sentences containing keywords as values.\n",
    "    \"\"\"\n",
    "    sentences_by_topic = {}\n",
    "    for topic, keywords_list in tqdm(topic_keywords_dict.items(), desc=\"Processing topics\"):\n",
    "        # Extract the keywords for the current topic\n",
    "        topic_keywords = [word for word, _ in keywords_list]\n",
    "        topic_sentences = []\n",
    "\n",
    "        if topic == -1:\n",
    "            continue  # Skip the -1 topic\n",
    "\n",
    "        # Iterate over representative documents for the current topic\n",
    "        doc_indices = representative_docs.get(topic, [])\n",
    "        for doc_idx in tqdm(doc_indices, desc=f\"Scanning documents for topic {topic}\", leave=False):\n",
    "            doc = documents[doc_idx]\n",
    "            sentences = doc.split('. ')\n",
    "            for sentence in sentences:\n",
    "                if any(keyword.lower() in sentence.lower() for keyword in topic_keywords):  # Case-insensitive match\n",
    "                    topic_sentences.append(sentence)\n",
    "        \n",
    "        # Only add non-empty collections of sentences\n",
    "        if topic_sentences:\n",
    "            sentences_by_topic[topic] = \" \".join(topic_sentences)\n",
    "        else:\n",
    "            print(f\"No sentences found containing keywords for topic {topic}.\")\n",
    "\n",
    "    return sentences_by_topic\n"
   ]
  },
  {
   "cell_type": "code",
   "execution_count": 139,
   "metadata": {},
   "outputs": [
    {
     "name": "stderr",
     "output_type": "stream",
     "text": [
      "Processing topics:  77%|███████▋  | 27/35 [00:00<00:00, 262.10it/s]"
     ]
    },
    {
     "name": "stdout",
     "output_type": "stream",
     "text": [
      "No sentences found containing keywords for topic 26.\n"
     ]
    },
    {
     "name": "stderr",
     "output_type": "stream",
     "text": [
      "Processing topics: 100%|██████████| 35/35 [00:00<00:00, 259.47it/s]\n"
     ]
    }
   ],
   "source": [
    "sentences_by_topic = extract_sentences_with_keywords(documents, topic_keywords)"
   ]
  },
  {
   "cell_type": "code",
   "execution_count": 140,
   "metadata": {},
   "outputs": [
    {
     "name": "stdout",
     "output_type": "stream",
     "text": [
      "33\n"
     ]
    }
   ],
   "source": [
    "print(len(sentences_by_topic))"
   ]
  },
  {
   "cell_type": "code",
   "execution_count": 141,
   "metadata": {},
   "outputs": [],
   "source": [
    "def summarize_with_lexrank(sentences_by_topic, num_sentences=3):\n",
    "    \"\"\"\n",
    "    Summarize the concatenated sentences for each topic using LexRank.\n",
    "\n",
    "    Parameters:\n",
    "    - sentences_by_topic: A dictionary with topics as keys and concatenated sentences as values.\n",
    "\n",
    "    Returns:\n",
    "    - A dictionary with topics as keys and LexRank summaries as values.\n",
    "    \"\"\"\n",
    "    lexrank_summary = {}\n",
    "    summarizer = LexRankSummarizer()\n",
    "    \n",
    "    for topic, sentences in tqdm(sentences_by_topic.items(), desc=\"Summarizing\"):\n",
    "        parser = PlaintextParser.from_string(sentences, Tokenizer(\"english\"))\n",
    "        # Adjust the number of sentences in the summary if needed\n",
    "        summary = summarizer(parser.document, num_sentences)\n",
    "        summarized_text = \" \".join([str(sentence) for sentence in summary])\n",
    "        lexrank_summary[topic] = summarized_text\n",
    "    \n",
    "    return lexrank_summary"
   ]
  },
  {
   "cell_type": "code",
   "execution_count": 142,
   "metadata": {},
   "outputs": [
    {
     "name": "stderr",
     "output_type": "stream",
     "text": [
      "Summarizing: 100%|██████████| 33/33 [00:01<00:00, 23.93it/s]\n"
     ]
    }
   ],
   "source": [
    "lexrank_summaries = summarize_with_lexrank(sentences_by_topic)"
   ]
  },
  {
   "cell_type": "code",
   "execution_count": 143,
   "metadata": {},
   "outputs": [],
   "source": [
    "df_extractive_summaries = pd.DataFrame.from_dict(lexrank_summaries, orient='index')\n",
    "df_extractive_summaries.to_csv('../extractive_summaries.csv', index=False)"
   ]
  },
  {
   "cell_type": "code",
   "execution_count": 144,
   "metadata": {},
   "outputs": [
    {
     "data": {
      "text/html": [
       "<div>\n",
       "<style scoped>\n",
       "    .dataframe tbody tr th:only-of-type {\n",
       "        vertical-align: middle;\n",
       "    }\n",
       "\n",
       "    .dataframe tbody tr th {\n",
       "        vertical-align: top;\n",
       "    }\n",
       "\n",
       "    .dataframe thead th {\n",
       "        text-align: right;\n",
       "    }\n",
       "</style>\n",
       "<table border=\"1\" class=\"dataframe\">\n",
       "  <thead>\n",
       "    <tr style=\"text-align: right;\">\n",
       "      <th></th>\n",
       "      <th>0</th>\n",
       "    </tr>\n",
       "  </thead>\n",
       "  <tbody>\n",
       "    <tr>\n",
       "      <th>0</th>\n",
       "      <td>the world has comprehensively changed once the...</td>\n",
       "    </tr>\n",
       "    <tr>\n",
       "      <th>1</th>\n",
       "      <td>cancer is frequent in dogs and is by far their...</td>\n",
       "    </tr>\n",
       "    <tr>\n",
       "      <th>2</th>\n",
       "      <td>then we examined whether replication could als...</td>\n",
       "    </tr>\n",
       "    <tr>\n",
       "      <th>3</th>\n",
       "      <td>virus infection of mammalian cells induces sig...</td>\n",
       "    </tr>\n",
       "    <tr>\n",
       "      <th>4</th>\n",
       "      <td>scrolling through social media platforms has t...</td>\n",
       "    </tr>\n",
       "    <tr>\n",
       "      <th>5</th>\n",
       "      <td>iBS etiology is still not well understood, how...</td>\n",
       "    </tr>\n",
       "    <tr>\n",
       "      <th>6</th>\n",
       "      <td>background H eart failure HF is an emerging ep...</td>\n",
       "    </tr>\n",
       "    <tr>\n",
       "      <th>7</th>\n",
       "      <td>nitrogen dioxide NO2 is an important chemical ...</td>\n",
       "    </tr>\n",
       "    <tr>\n",
       "      <th>8</th>\n",
       "      <td>according to the importance of rapid tests in ...</td>\n",
       "    </tr>\n",
       "    <tr>\n",
       "      <th>9</th>\n",
       "      <td>for example, the COVID-19 pandemic has require...</td>\n",
       "    </tr>\n",
       "    <tr>\n",
       "      <th>10</th>\n",
       "      <td>advances in science and drug development conti...</td>\n",
       "    </tr>\n",
       "    <tr>\n",
       "      <th>11</th>\n",
       "      <td>1 A growing body of literature in low-and-midd...</td>\n",
       "    </tr>\n",
       "    <tr>\n",
       "      <th>12</th>\n",
       "      <td>there are no conflicts of interest. there are ...</td>\n",
       "    </tr>\n",
       "    <tr>\n",
       "      <th>13</th>\n",
       "      <td>cancer is the second leading cause of mortalit...</td>\n",
       "    </tr>\n",
       "    <tr>\n",
       "      <th>14</th>\n",
       "      <td>author Contribution Form Each author should ha...</td>\n",
       "    </tr>\n",
       "    <tr>\n",
       "      <th>15</th>\n",
       "      <td>cOjMe geniposide lHgOAc2 acetone-water 2 SnCl2...</td>\n",
       "    </tr>\n",
       "    <tr>\n",
       "      <th>16</th>\n",
       "      <td>artificial Intelligence includes approaches an...</td>\n",
       "    </tr>\n",
       "    <tr>\n",
       "      <th>17</th>\n",
       "      <td>china's response to the major NTS crisis such ...</td>\n",
       "    </tr>\n",
       "    <tr>\n",
       "      <th>18</th>\n",
       "      <td>the medication administration process is compl...</td>\n",
       "    </tr>\n",
       "    <tr>\n",
       "      <th>19</th>\n",
       "      <td>sarcopenia is a progressive, generalized skele...</td>\n",
       "    </tr>\n",
       "    <tr>\n",
       "      <th>20</th>\n",
       "      <td>glaucoma is the third leading cause of global ...</td>\n",
       "    </tr>\n",
       "    <tr>\n",
       "      <th>21</th>\n",
       "      <td>although the role smoking plays in the risk of...</td>\n",
       "    </tr>\n",
       "    <tr>\n",
       "      <th>22</th>\n",
       "      <td>these factors also play a significant role in ...</td>\n",
       "    </tr>\n",
       "    <tr>\n",
       "      <th>23</th>\n",
       "      <td>subpial type III cortical lesions have emerged...</td>\n",
       "    </tr>\n",
       "    <tr>\n",
       "      <th>24</th>\n",
       "      <td>according to the WHO's Report of 2020, around ...</td>\n",
       "    </tr>\n",
       "    <tr>\n",
       "      <th>25</th>\n",
       "      <td>common physiological data in physiological com...</td>\n",
       "    </tr>\n",
       "    <tr>\n",
       "      <th>27</th>\n",
       "      <td>obstructive sleep apnea OSA is a highly preval...</td>\n",
       "    </tr>\n",
       "    <tr>\n",
       "      <th>28</th>\n",
       "      <td>over the last years more and more companies ha...</td>\n",
       "    </tr>\n",
       "    <tr>\n",
       "      <th>29</th>\n",
       "      <td>extending the classic single-target paradigm, ...</td>\n",
       "    </tr>\n",
       "    <tr>\n",
       "      <th>30</th>\n",
       "      <td>i, the Submitting Author has the right to gran...</td>\n",
       "    </tr>\n",
       "    <tr>\n",
       "      <th>31</th>\n",
       "      <td>autism spectrum disorder ASD represents a grou...</td>\n",
       "    </tr>\n",
       "    <tr>\n",
       "      <th>32</th>\n",
       "      <td>although no comparative data are available in ...</td>\n",
       "    </tr>\n",
       "    <tr>\n",
       "      <th>33</th>\n",
       "      <td>as plastic pollution has become an increasing ...</td>\n",
       "    </tr>\n",
       "  </tbody>\n",
       "</table>\n",
       "</div>"
      ],
      "text/plain": [
       "                                                    0\n",
       "0   the world has comprehensively changed once the...\n",
       "1   cancer is frequent in dogs and is by far their...\n",
       "2   then we examined whether replication could als...\n",
       "3   virus infection of mammalian cells induces sig...\n",
       "4   scrolling through social media platforms has t...\n",
       "5   iBS etiology is still not well understood, how...\n",
       "6   background H eart failure HF is an emerging ep...\n",
       "7   nitrogen dioxide NO2 is an important chemical ...\n",
       "8   according to the importance of rapid tests in ...\n",
       "9   for example, the COVID-19 pandemic has require...\n",
       "10  advances in science and drug development conti...\n",
       "11  1 A growing body of literature in low-and-midd...\n",
       "12  there are no conflicts of interest. there are ...\n",
       "13  cancer is the second leading cause of mortalit...\n",
       "14  author Contribution Form Each author should ha...\n",
       "15  cOjMe geniposide lHgOAc2 acetone-water 2 SnCl2...\n",
       "16  artificial Intelligence includes approaches an...\n",
       "17  china's response to the major NTS crisis such ...\n",
       "18  the medication administration process is compl...\n",
       "19  sarcopenia is a progressive, generalized skele...\n",
       "20  glaucoma is the third leading cause of global ...\n",
       "21  although the role smoking plays in the risk of...\n",
       "22  these factors also play a significant role in ...\n",
       "23  subpial type III cortical lesions have emerged...\n",
       "24  according to the WHO's Report of 2020, around ...\n",
       "25  common physiological data in physiological com...\n",
       "27  obstructive sleep apnea OSA is a highly preval...\n",
       "28  over the last years more and more companies ha...\n",
       "29  extending the classic single-target paradigm, ...\n",
       "30  i, the Submitting Author has the right to gran...\n",
       "31  autism spectrum disorder ASD represents a grou...\n",
       "32  although no comparative data are available in ...\n",
       "33  as plastic pollution has become an increasing ..."
      ]
     },
     "execution_count": 144,
     "metadata": {},
     "output_type": "execute_result"
    }
   ],
   "source": [
    "df_extractive_summaries"
   ]
  },
  {
   "cell_type": "code",
   "execution_count": 161,
   "metadata": {},
   "outputs": [],
   "source": [
    "from transformers import BartTokenizer\n",
    "\n",
    "def chunk_text(text, tokenizer, max_length=1024):\n",
    "    # Tokenize the text\n",
    "    tokens = tokenizer.tokenize(text)\n",
    "    # Initialize chunks\n",
    "    chunks = []\n",
    "    current_chunk = []\n",
    "    current_length = 0\n",
    "    for token in tokens:\n",
    "        current_chunk.append(token)\n",
    "        current_length += 1\n",
    "        if current_length == max_length:\n",
    "            chunks.append(tokenizer.convert_tokens_to_string(current_chunk))\n",
    "            current_chunk = []\n",
    "            current_length = 0\n",
    "    # Add the last chunk if it's not empty\n",
    "    if current_chunk:\n",
    "        chunks.append(tokenizer.convert_tokens_to_string(current_chunk))\n",
    "    return chunks\n"
   ]
  },
  {
   "cell_type": "code",
   "execution_count": 166,
   "metadata": {},
   "outputs": [],
   "source": [
    "from transformers import BartForConditionalGeneration\n",
    "\n",
    "def summarize_chunks(chunks, model, tokenizer):\n",
    "    summaries = []\n",
    "    for chunk in tqdm(chunks, desc=\"Summarizing Chunks\"):\n",
    "        inputs = tokenizer([chunk], return_tensors=\"pt\", max_length=1024, truncation=True, padding=\"max_length\")\n",
    "        summary_ids = model.generate(inputs[\"input_ids\"], num_beams=4, max_length=200, early_stopping=True)\n",
    "        summary = tokenizer.decode(summary_ids[0], skip_special_tokens=True)\n",
    "        summaries.append(summary)\n",
    "    return summaries"
   ]
  },
  {
   "cell_type": "code",
   "execution_count": 167,
   "metadata": {},
   "outputs": [
    {
     "data": {
      "application/vnd.jupyter.widget-view+json": {
       "model_id": "27f45731066040d0af59b9eced848053",
       "version_major": 2,
       "version_minor": 0
      },
      "text/plain": [
       "Summarizing Topics:   0%|          | 0/33 [00:00<?, ?it/s]"
      ]
     },
     "metadata": {},
     "output_type": "display_data"
    },
    {
     "data": {
      "application/vnd.jupyter.widget-view+json": {
       "model_id": "1f7b281fb6e24024aa2998af5120dac8",
       "version_major": 2,
       "version_minor": 0
      },
      "text/plain": [
       "Summarizing Chunks:   0%|          | 0/3 [00:00<?, ?it/s]"
      ]
     },
     "metadata": {},
     "output_type": "display_data"
    },
    {
     "data": {
      "application/vnd.jupyter.widget-view+json": {
       "model_id": "747abd0b866f44099c1ffb00519aeb72",
       "version_major": 2,
       "version_minor": 0
      },
      "text/plain": [
       "Summarizing Chunks:   0%|          | 0/10 [00:00<?, ?it/s]"
      ]
     },
     "metadata": {},
     "output_type": "display_data"
    },
    {
     "data": {
      "application/vnd.jupyter.widget-view+json": {
       "model_id": "80b6db36b79243deacadd1a92f31b43d",
       "version_major": 2,
       "version_minor": 0
      },
      "text/plain": [
       "Summarizing Chunks:   0%|          | 0/5 [00:00<?, ?it/s]"
      ]
     },
     "metadata": {},
     "output_type": "display_data"
    },
    {
     "data": {
      "application/vnd.jupyter.widget-view+json": {
       "model_id": "4996b11b7c9945daab7b06a0f87badab",
       "version_major": 2,
       "version_minor": 0
      },
      "text/plain": [
       "Summarizing Chunks:   0%|          | 0/12 [00:00<?, ?it/s]"
      ]
     },
     "metadata": {},
     "output_type": "display_data"
    },
    {
     "data": {
      "application/vnd.jupyter.widget-view+json": {
       "model_id": "5adc698d4c184997b1e8f901a03f6ec6",
       "version_major": 2,
       "version_minor": 0
      },
      "text/plain": [
       "Summarizing Chunks:   0%|          | 0/1 [00:00<?, ?it/s]"
      ]
     },
     "metadata": {},
     "output_type": "display_data"
    },
    {
     "data": {
      "application/vnd.jupyter.widget-view+json": {
       "model_id": "abcc1ff7bf7d4a37bf1931b9b91c98e7",
       "version_major": 2,
       "version_minor": 0
      },
      "text/plain": [
       "Summarizing Chunks:   0%|          | 0/3 [00:00<?, ?it/s]"
      ]
     },
     "metadata": {},
     "output_type": "display_data"
    },
    {
     "data": {
      "application/vnd.jupyter.widget-view+json": {
       "model_id": "9d3e0b8cf1a843728fdc81f418fbf95a",
       "version_major": 2,
       "version_minor": 0
      },
      "text/plain": [
       "Summarizing Chunks:   0%|          | 0/3 [00:00<?, ?it/s]"
      ]
     },
     "metadata": {},
     "output_type": "display_data"
    },
    {
     "data": {
      "application/vnd.jupyter.widget-view+json": {
       "model_id": "adc719c49da04047a07c038963c3dd88",
       "version_major": 2,
       "version_minor": 0
      },
      "text/plain": [
       "Summarizing Chunks:   0%|          | 0/3 [00:00<?, ?it/s]"
      ]
     },
     "metadata": {},
     "output_type": "display_data"
    },
    {
     "data": {
      "application/vnd.jupyter.widget-view+json": {
       "model_id": "21ebe55cde1d4ff78da8a2b3fcdaffea",
       "version_major": 2,
       "version_minor": 0
      },
      "text/plain": [
       "Summarizing Chunks:   0%|          | 0/3 [00:00<?, ?it/s]"
      ]
     },
     "metadata": {},
     "output_type": "display_data"
    },
    {
     "data": {
      "application/vnd.jupyter.widget-view+json": {
       "model_id": "acc484f3aca04e178f4c65585cc8db81",
       "version_major": 2,
       "version_minor": 0
      },
      "text/plain": [
       "Summarizing Chunks:   0%|          | 0/3 [00:00<?, ?it/s]"
      ]
     },
     "metadata": {},
     "output_type": "display_data"
    },
    {
     "data": {
      "application/vnd.jupyter.widget-view+json": {
       "model_id": "430302e7201c44668e9c25bdc3b15c95",
       "version_major": 2,
       "version_minor": 0
      },
      "text/plain": [
       "Summarizing Chunks:   0%|          | 0/2 [00:00<?, ?it/s]"
      ]
     },
     "metadata": {},
     "output_type": "display_data"
    },
    {
     "data": {
      "application/vnd.jupyter.widget-view+json": {
       "model_id": "b91e4525983e49a2a205492cc633ecff",
       "version_major": 2,
       "version_minor": 0
      },
      "text/plain": [
       "Summarizing Chunks:   0%|          | 0/8 [00:00<?, ?it/s]"
      ]
     },
     "metadata": {},
     "output_type": "display_data"
    },
    {
     "data": {
      "application/vnd.jupyter.widget-view+json": {
       "model_id": "9ea798f4c8054af6b48016a541fb21c2",
       "version_major": 2,
       "version_minor": 0
      },
      "text/plain": [
       "Summarizing Chunks:   0%|          | 0/1 [00:00<?, ?it/s]"
      ]
     },
     "metadata": {},
     "output_type": "display_data"
    },
    {
     "data": {
      "application/vnd.jupyter.widget-view+json": {
       "model_id": "e0edf9884bf34b30800ad00c5eb951eb",
       "version_major": 2,
       "version_minor": 0
      },
      "text/plain": [
       "Summarizing Chunks:   0%|          | 0/3 [00:00<?, ?it/s]"
      ]
     },
     "metadata": {},
     "output_type": "display_data"
    },
    {
     "data": {
      "application/vnd.jupyter.widget-view+json": {
       "model_id": "67853fb2525443228469093699b8b664",
       "version_major": 2,
       "version_minor": 0
      },
      "text/plain": [
       "Summarizing Chunks:   0%|          | 0/1 [00:00<?, ?it/s]"
      ]
     },
     "metadata": {},
     "output_type": "display_data"
    },
    {
     "data": {
      "application/vnd.jupyter.widget-view+json": {
       "model_id": "a2c1320840e1495989e33d7ba7fb54f9",
       "version_major": 2,
       "version_minor": 0
      },
      "text/plain": [
       "Summarizing Chunks:   0%|          | 0/1 [00:00<?, ?it/s]"
      ]
     },
     "metadata": {},
     "output_type": "display_data"
    },
    {
     "data": {
      "application/vnd.jupyter.widget-view+json": {
       "model_id": "5c146e755c074614bce8727de9c764c5",
       "version_major": 2,
       "version_minor": 0
      },
      "text/plain": [
       "Summarizing Chunks:   0%|          | 0/11 [00:00<?, ?it/s]"
      ]
     },
     "metadata": {},
     "output_type": "display_data"
    },
    {
     "data": {
      "application/vnd.jupyter.widget-view+json": {
       "model_id": "25b93e4602554f00b2c61f2ad354a393",
       "version_major": 2,
       "version_minor": 0
      },
      "text/plain": [
       "Summarizing Chunks:   0%|          | 0/2 [00:00<?, ?it/s]"
      ]
     },
     "metadata": {},
     "output_type": "display_data"
    },
    {
     "data": {
      "application/vnd.jupyter.widget-view+json": {
       "model_id": "4e784403e0004807af1356eed2584212",
       "version_major": 2,
       "version_minor": 0
      },
      "text/plain": [
       "Summarizing Chunks:   0%|          | 0/5 [00:00<?, ?it/s]"
      ]
     },
     "metadata": {},
     "output_type": "display_data"
    },
    {
     "data": {
      "application/vnd.jupyter.widget-view+json": {
       "model_id": "086413e1f7c046268119313578f181e1",
       "version_major": 2,
       "version_minor": 0
      },
      "text/plain": [
       "Summarizing Chunks:   0%|          | 0/10 [00:00<?, ?it/s]"
      ]
     },
     "metadata": {},
     "output_type": "display_data"
    },
    {
     "data": {
      "application/vnd.jupyter.widget-view+json": {
       "model_id": "04362686b9cd404b90deb5d80ee3b966",
       "version_major": 2,
       "version_minor": 0
      },
      "text/plain": [
       "Summarizing Chunks:   0%|          | 0/4 [00:00<?, ?it/s]"
      ]
     },
     "metadata": {},
     "output_type": "display_data"
    },
    {
     "data": {
      "application/vnd.jupyter.widget-view+json": {
       "model_id": "5dfad61885d14df4a7d9e541fd923019",
       "version_major": 2,
       "version_minor": 0
      },
      "text/plain": [
       "Summarizing Chunks:   0%|          | 0/2 [00:00<?, ?it/s]"
      ]
     },
     "metadata": {},
     "output_type": "display_data"
    },
    {
     "data": {
      "application/vnd.jupyter.widget-view+json": {
       "model_id": "165b158bcaff426b86d397e7ce6c5799",
       "version_major": 2,
       "version_minor": 0
      },
      "text/plain": [
       "Summarizing Chunks:   0%|          | 0/6 [00:00<?, ?it/s]"
      ]
     },
     "metadata": {},
     "output_type": "display_data"
    },
    {
     "data": {
      "application/vnd.jupyter.widget-view+json": {
       "model_id": "4168f0ab450e421d8cfc21e38f26c161",
       "version_major": 2,
       "version_minor": 0
      },
      "text/plain": [
       "Summarizing Chunks:   0%|          | 0/13 [00:00<?, ?it/s]"
      ]
     },
     "metadata": {},
     "output_type": "display_data"
    },
    {
     "data": {
      "application/vnd.jupyter.widget-view+json": {
       "model_id": "b94ecb5a285449609794f88c7c2b6856",
       "version_major": 2,
       "version_minor": 0
      },
      "text/plain": [
       "Summarizing Chunks:   0%|          | 0/7 [00:00<?, ?it/s]"
      ]
     },
     "metadata": {},
     "output_type": "display_data"
    },
    {
     "data": {
      "application/vnd.jupyter.widget-view+json": {
       "model_id": "03d509bb85204ca2b9517b65b5a9b132",
       "version_major": 2,
       "version_minor": 0
      },
      "text/plain": [
       "Summarizing Chunks:   0%|          | 0/16 [00:00<?, ?it/s]"
      ]
     },
     "metadata": {},
     "output_type": "display_data"
    },
    {
     "data": {
      "application/vnd.jupyter.widget-view+json": {
       "model_id": "8ce183104ce24054a3a0f55bcc6b5dea",
       "version_major": 2,
       "version_minor": 0
      },
      "text/plain": [
       "Summarizing Chunks:   0%|          | 0/8 [00:00<?, ?it/s]"
      ]
     },
     "metadata": {},
     "output_type": "display_data"
    },
    {
     "data": {
      "application/vnd.jupyter.widget-view+json": {
       "model_id": "bc5856c81d414b0db643c697cb3beade",
       "version_major": 2,
       "version_minor": 0
      },
      "text/plain": [
       "Summarizing Chunks:   0%|          | 0/6 [00:00<?, ?it/s]"
      ]
     },
     "metadata": {},
     "output_type": "display_data"
    },
    {
     "data": {
      "application/vnd.jupyter.widget-view+json": {
       "model_id": "6f794ea84c4f48f483b6214296e6e856",
       "version_major": 2,
       "version_minor": 0
      },
      "text/plain": [
       "Summarizing Chunks:   0%|          | 0/7 [00:00<?, ?it/s]"
      ]
     },
     "metadata": {},
     "output_type": "display_data"
    },
    {
     "data": {
      "application/vnd.jupyter.widget-view+json": {
       "model_id": "5d2da7f6923d4ded978d0e4e1ae1a4f0",
       "version_major": 2,
       "version_minor": 0
      },
      "text/plain": [
       "Summarizing Chunks:   0%|          | 0/25 [00:00<?, ?it/s]"
      ]
     },
     "metadata": {},
     "output_type": "display_data"
    },
    {
     "data": {
      "application/vnd.jupyter.widget-view+json": {
       "model_id": "64902b75f1ce4f86a216a73cbc483bad",
       "version_major": 2,
       "version_minor": 0
      },
      "text/plain": [
       "Summarizing Chunks:   0%|          | 0/7 [00:00<?, ?it/s]"
      ]
     },
     "metadata": {},
     "output_type": "display_data"
    },
    {
     "data": {
      "application/vnd.jupyter.widget-view+json": {
       "model_id": "aaaee9b84a9a48f39f692cbef9eeb058",
       "version_major": 2,
       "version_minor": 0
      },
      "text/plain": [
       "Summarizing Chunks:   0%|          | 0/4 [00:00<?, ?it/s]"
      ]
     },
     "metadata": {},
     "output_type": "display_data"
    },
    {
     "data": {
      "application/vnd.jupyter.widget-view+json": {
       "model_id": "ebee62bee76d4d7b87df8a1d456f1914",
       "version_major": 2,
       "version_minor": 0
      },
      "text/plain": [
       "Summarizing Chunks:   0%|          | 0/4 [00:00<?, ?it/s]"
      ]
     },
     "metadata": {},
     "output_type": "display_data"
    }
   ],
   "source": [
    "from transformers import BartTokenizer, BartForConditionalGeneration\n",
    "\n",
    "tokenizer = BartTokenizer.from_pretrained('facebook/bart-large-cnn')\n",
    "model = BartForConditionalGeneration.from_pretrained('facebook/bart-large-cnn')\n",
    "\n",
    "final_summaries = {}\n",
    "for topic, text in tqdm(lexrank_summaries.items(), desc=\"Summarizing Topics\"):\n",
    "    chunks = chunk_text(text, tokenizer)\n",
    "    summaries = summarize_chunks(chunks, model, tokenizer)\n",
    "    final_summary = \" \".join(summaries)\n",
    "    final_summaries[topic] = final_summary\n"
   ]
  },
  {
   "cell_type": "code",
   "execution_count": 168,
   "metadata": {},
   "outputs": [
    {
     "data": {
      "text/plain": [
       "{0: 'The World Health Organization announced the Novel Coronavirus SARS-CoV-2 COVID-19 as a pandemic outbreak on the 11th of March, 20201. Since the WHO has warned about the beginning of the pandemic in March, basic protective equipment and safety protocols have not been always available in many medical institutions. healthcare workers are experiencing unprecedented pressure from stressors including but not limited to enormous workload, virus exposure, and inadequate PPE. The study followed a group of workers who were continuously and exclusively engaged in the treatment of patients with COVID-19 in Central Italy. The main stressors were prolonged periods of work in isolation, high workloads, compassion fatigue, and a lack of time for physical activity, meditation, or relaxation. Most of the workers who had contracted the infection were completely asymptomatic. SARS-CoV-2 machine learning smartphone application is vital in most outbreaks. Users learn how to perform valid tests through demonstration videos or blood sampling schematics included in the app. Use of the app by health authorities using fully anonymized location data could produce live disease maps. RDTs detected both total antibodies or IgG and IgM in blood, serum, or plasma.',\n",
       " 1: \"Cancer is frequent in dogs and is by far their most common cause of death. 46 million dogs are newly diagnosed with cancer per year in the US in a population of under 90 million. The burden of cancer in dogs increases with age: up to 50 of dogs over 10 years of age will develop cancer during the remainder of their lives. Liquid biopsy solutions promise to usher in a new era for veterinary medicine, enabling personalized cancer care for pets. Cancer is a disease of the genome, as it is directly caused by genomic alterations. Of the more than 20,000 human genes, fewer than 1,500 have been implicated in cancer development. Cancer-related alterations can be either somatic acquired after birth, and present in only a subset of cells in the body or germline inherited. , canine cancer genomes have been shown to exhibit similar TMBs in published studies, with a median of 1.98 mutationsMb in canine osteosarcoma 83. The ability to non-invasively measure TMB from a blood sample could gain clinical relevance as immunotherapies become increasingly utilized in the management of canine cancers. Dogs represent a powerful model system for the study of human cancers. Human and canine genomes have a high degree of homology estimated at around 85 31. Some cancers that are common in dogs are rare in humans e.g., osteosarcoma, T-cell lymphoma 83, 119, 120, and vice versa. DNA 175, 176 since then, significant efforts have been devoted to developing molecular tests to detect the presence of cancer-derived alterations in the blood 161, 177, and use the information for cancer detection, characterization, treatment, and monitoring. Many documented instances of NIPT results incidentally identifying maternal cancer, highlighting plasma as a common repository for both fetal-derived and cancer- derived cfDNA fragments 188, 189, suggesting the potential of using plasma cfDNA to screen for asymptomatic cancers.  liquid biopsy can be conveniently performed from a routine blood collection drawn during the initial visit when cancer is first suspected. This technology may support cancer screening in lower-risk canine populations as well, comparable to how NIPT technology expanded beyond high-risk cases to encompass all pregnancies in humans. Liquid biopsy approaches have the potential to comprehensively evaluate the genomic signature of a patient's cancer directly from blood the final common pathway for ctDNA derived from all tumor subclones in the patient's body. Liquid biopsy-based MRD testing for canine patients could be used to inform the clinician about the relative risk of recurrence following curative-intent interventions. Liquid biopsy would represent a complementary tool to better understand the evolution of the tumor, and its non-invasive nature could pave the way for liquid biopsy to become a routine monitoring test during cancer treatment.  genomic revolution has already had a marked impact on cancer care for human patients and is poised to revolutionize veterinary medicine in the coming years. The introduction of high-quality, clinically validated pan-cancer liquid biopsy tests into the realm of veterinary medicine has the potential to substantially impact every step along the clinical journey of a canine cancer patient. The timing of university spring breaks had enormous impacts on the travel patterns of university students during the onset of the COVID-19 pandemic. college student travel during spring break may spread viral infections to the surrounding community even in the absence of a pandemic using smartphone location data.  remote forensic psychological assessment methods in the mental health and legal community. Measures also need to be taken to ensure the security of data transmission and storage, including compliance with relevant laws. Heilbrun et al., 2020 point out the need to plan for worst case scenarios in advance.\",\n",
       " 2: '15 ARTDs have been linked previously to restriction of virus replication. The artificial protease substrate pGEX4T1-nsP3nsP4-site-polylinker-EGFP was created. DNA plasmids encoding the respective replicon 515 variants were first linearized with NdeI cap-analog m. RNA was digested by addition of 519 TURBO DNase and RNA was precipitated using the lithium chloride precipitation protocol. Several orthoreoviruses, which seem to have originated in fruit bats, have been identified as causative agents for respiratory tract infection RTI in Malaysia and Indonesia. Pulau virus, which was isolated from Pteropus hypomelanus urine samples from Tioman Island, an island locates off the eastern shore of Malaysia 8 and Xi River virus 7, were genetically and antigenetically related to Nelson Bay virus. Miyazaki-Bali2007 was found to be most closely related to HK2362907, HK4688609, and HK5084210 based on the phylogenetic analyses with S2- and S4-segments 2C, although all the 4 viruses including Miyazaki- Bali2007 originated from Indonesia. Human-to-human transmission of the first orthoreovirus of bat origin, Nelson Bay, was isolated from the heart-headed flying fox poliocephalus in 1968. 6 reports describing RTI in humans being caused by the viruses with similar characteristics 46, 20 this is the sixth report describing a patient infected with an orthoreovirus classified to the species of Nelson Bay orthorovirus. No evidence of human-to-human transmission of the virus among the family members and hospital caregivers, who were in contact with the patient. Dengue is a mandatory notifiable Open Access Correspondence: pangvhotmail.com 3 Tahir Foundation Building, National University Singapore, 12 Science Drive 2, 10-01, Singapore 117549, Singapore Full list of author information is available at the end of the article disease in many countries under the recommendation of the International Health Regulation.',\n",
       " 3: 'We found that granule cell neurons GCN of the cerebellum and cortical neurons CN from the cerebral cortex are differentially permissive for WNV infection in humans. The percentage of cells infected by WNV was greater in CN compared to GCN at baseline or after IFN-β pre-treatment. We observed an enrichment of genes that have been linked to antiviral activity in GCN. , a higher basal expression of host defense genes makes GCN more poised than CN for antiviral action in response to IFN-β, and ultimately impacts the induced level expression of ISGs. The lower susceptibility of GCN to viral replication compared to CN at baseline is not likely attributed to differences in virus entry, but rather to higher expression of genes with an IFN signature. Genes associated with host defense pathway are more highly expressed in GCN. Stat1 and IFN-dependent signaling signature was expressed in uninfected GCN at higher levels compared to CN. The distinct basal expression of immunityrelated GTPases may contribute to regional susceptibility of the brain of Toxoplasma gondii. IFN-β iSGs were subcloned into FCIV vector 50 generous gift from Y lentivirus particles were generated. Three days post-transduction, neurons were infected at an MOI of 1 WNV-NY and VEEV. Differential gene expression of Ifi27, Irg1, Rsad2, and Stat1 in the cerebellum and cortex of naïve wild-type mice. We previously demonstrated that IAV suppresses SG formation in infected cells at later times postinfection due to the accumulation of three viral proteins with SG-suppressing activity: nonstructural protein 1 NS1, nucleoprotein NP, and polymerase acidic X PA-X 22, 23 treatment of IAV-infected cells with the eukaryotic translation initiation factor 4A eIF4A inhibitors pateamine A and silvestrol induced SG formation and impeded IAV replication. We identified two FDA-approved thiopurine analogs that selectively triggered SG formation. These molecules selectively disrupted the processing and accumulation of viral glycoproteins by activating the UPR. All three arms of the UPR PERK, IRE1, and ATF6 are intact in the A549 cells that we use to model IAV infection. 5-FU, which had no effect on viral replication over the 24-h time course in these cells, likewise had no effects on the accumulation of IAV proteins. TM treatment impairs the bulk processing of secreted and transmembrane proteins, which causes ER stress and UPR activation. 6-TG and 6-TGo have very little impact on the rates of global new protein synthesis as well as the synthesis and trafficking of a model host cell glycoprotein. Despite strongly blocking the accumulation of IAV HA and NA proteins iAV glycoproteins are translocated into the ER, where they are modified with N-linked glycans and organize into oligomeric complexes. 6-TG and 6-TGo treatment elicited similar levels of UPR in both infected and uninfected cells. UPR induction was triggered by the transcriptional induction of genes downstream of all three arms of the UPR and the accumulation of BiP protein. IAV blocks new host mRNA processing and protein synthesis through host shutoff mechanisms mediated by viral NS1 and polymerase acidic X PA-X proteins 46 despite these viral mechanisms of suppression of host stress responses, 6-TG treatment induced SGs. A549 cells were seeded on glass coverslips and cultured overnight prior to IAV-CA07 infection at an MOI of 1 or mock infection at the indicated times postinfection. 50 cells were stained with goat polyclonal antibody to influenza A virus catalog number ab20841; Abcam anti-G3BP1 catalog number 611126; BD Biosciences, mouse anti-PABP catalog number 10E10; Santa Cruz, rabbit anti-TIAR catalog number 8509;Santa Cruz, and anti-eIF3A catalog number 3411; Cell Signaling, followed by Alexa-coupled donkey secondary antibodies Thermo Fisher Scientific at a 1:1,000 dilution. Total RNA was isolated from treated A549 cells with the RNeasy kit Qiagen. Autologous ADMSCs induce biological effects in the regeneration and protection of articular cartilage in osteoarthritis. ADSCs have the paracrine effects in terms of expressing a variety of different growth factors, signaling factors, exosomes, and micro-RNA to facilitate repair and healing of damaged tissue. The aim of the first experiment was to identify autologous rat ADSCs by morphological and specific characterization. ADSCs have a broad capacity to differentiate specialized cell types including neural, cartilage, bone, and others. SW therapy has been reported to promote mesenchymal stem cells MSCs proliferation and differentiation for tissue repairing. ADSC2 SW treatment was the most effective treatment among all treatment groups p 0.001. Inflammation-induced BMP-2 and B MP-6 were modulated by ADSCs and SW therapy, resulting in cartilage regeneration in OA. The results were demonstrated using a horseradish peroxidase HRP-3-, 3-diaminobenzidine DAB cell and tissue staining kit.',\n",
       " 4: 'CJPH social media aims to engage our followers to act as a hub of relevant information Fuller and Potvin 2020 we decided to harness the new potential of our social media platforms by leaning into the pandemic these posts were replaced by two separate categories: featured COVID-19 researcher of the week and past CJPH publications with an infectious disease theme. Information coupled with misinformation, rumours, and conspiracy theories were rapidly disseminated through social media.',\n",
       " 5: 'iBS etiology is still not well understood, however strictly connected with altered: i intestinal motility, ii visceral sensitivity, ii mucosal immune function, and iv microbiota. infection fumigatus possesses virulence characteristics such as small spores conidia, a fast growth at body temperature and the production of specific proteins, carbohydrates and secondary metabolites. This is prevented by the fast and efficient clearance of conidia by the innate immune system within a few hours 7, 9. The fungal parameters s1 germination time of a swollen conidium and h1 hyphal growth rate are most decisive for infection outcome since they explain more than 50 of the variance in the objective function. At lower doses immune cell parameters like the number of resident neutrophils N0 or rate of hyphal killing h2 are important. At higher doses parameters of AEC, such as conidia phagocytosis s4 or cytokine release c2 are more important for the infection outcome. A nidulans is not the leading cause of invasive aspergillosis in humans 56, it is likely that this species lacks immune evasion mechanisms in comparison to A fumigatus to hide and reside in human AEC from other immune cells. The number of AEC per alveolus is higher than the number of AM or neutrophils at early stages of infections.',\n",
       " 6: \"HF is an emerging epidemic with more than 26 million patients worldwide and is steadily increasing in prevalence and costs. HT is highly associated with HF in all regions, but most commonly in Latin America, the Caribbean, Eastern Europe, and sub-Saharan Africa. The Thorax Center Paramaribo TCP, the reference center for cardiac care in Suriname, is developing a comprehensive HF program to improve the delivery of healthcare to HF patients. HIV is associated with increased risk of end-stage organ disease. HIV D R transplantation may be an opportunity to reverse social stigma, while recognizing that HIV remains the leading morbidity and mortality cause of maternal and maternal mortality worldwide. The results may be explained by the nature of the database no actual follow-up of patients nor does the database have outpatient monitoring data. , hypertension, and vasoconstriction thus, prompt HbV infusion might help stabilize the patients hemodynamics and enable their transportation to secondary or tertiary facilities. Prompt Hbv infusion may help stabilize a patient's hemodynamics. It might also help stabilize their blood pressure and allow them to be transported.\",\n",
       " 7: 'nitrogen dioxide NO2 is an important chemical component in the troposphere and is the main pollutant in the formation of nitric acid rain, acid fog, and photochemical smog. nO2 mainly comes from emissions from urban traffic and heavy chemical industries, biomass combustion, soil release, and lightning, among which NO2 in winter is mainly released from anthropogenic activities. A standardized socioeconomic activity index SSEI on a weekly scale is established using the highest pre-holiday weekly average concentration in the region in that year as a reference. The lowest NO2 values often lag slightly behind the pollutant reduction process Zhang et al in contrast to 2019. The study compares the differences between the epidemic period Fig relative to the 2020 epidemic period. The SSEI rises week by week from the 4th week onwards as the effectiveness of epidemic prevention gradually emerges. Economic hotspots such as the BTH and YRD also showed similar trends. OMI-NO2 data has a good response to the monitoring of NO2 concentration during major events.',\n",
       " 8: 'According to the importance of rapid tests in the sensing and diagnosis of COVID-19, different efforts have been made in the development of electrochemical sensors with fast responses. The first smartphone-based rapid and accurate sensor for electrochemical determination of SARS-CoV-2 without RNA amplification was developed by Miripour et al. EISCAP belongs to the family of EG-FEDs and represents a biochemically sensitive capacitor. Single EISCAP sensors modified with particular recognition elements have been developed and successfully proved for the detection of pH 16, concentration of ions 17, enzyme-substrate reactions 18,19,20,21, charged biomolecules nucleic acids, proteins, biomarkers, nanoparticlemolecule hybrids 22,23,24,25,26,27,28,29, plant virus particles 30.  silicon nanowires grown by the CVD method also have worse sensitivity, which is affected by the chemical groups on the sensor surface. there are many chemical groups suspended on the surface of the silicon Nanowire grown by CVD based on VLS mechanism additionally, due to bad lattice quality, siliconnanowires growing by the VLS method have bad sensitivity.',\n",
       " 9: 'professional burnout is an important issue for health care systems. Young oncologists in their first 5 years of practice are a special risk population. Low perceived health status and a desire to leave medicine or change specialty are significantly associated with burnout. A good worklife balance, access to support services, and adequate vacation time may reduce burnout levels. Study was designed to study the effect of the pandemic on young oncologists. Survey consisted of 23 questions on employment status, COVID-19 data, health care and training activities, and three psychological questionnaires Professional Quality of Life Scale-30 ProQOL-30,16 Generalized Anxiety Disorder-7 GAD-7,17 and Patient Health Questionnaire-9 PHQ-918 this scale helps to screen for depression and grade severity of symptoms. This study reveals even more worrisome data on the physical and mental health of young Spanish oncologists than similar studies carried out in other countries. We believe that these differences are largely due to the dramatic situation that Spain found itself in during the first wave of the pandemic, which saw a mortality rate of 62.1100 000 inhabitants. It is essential that young oncologist do not miss training in their specialty or in the safe management of infected patients recognition and remuneration of young doctors who have been in the front line during the pand epidemic should also be reconsidered.',\n",
       " 10: \"NPs and PAs represent rheumatology colleagues who can extend the reach of the delivery of rheumatic disease care. Routine monitoring of continued medication efficacy as well as for toxicity could occur in a setting managed by APPs, including pharmacists. The Singapore model utilizes a NP or PA, or a pharmacist, each of whom have prescribing abilities for disease modifying anti-rheumatic drugs. The woman's therapy with remdesivir was stopped, and she started receiving treatment with atropine. She was scheduled to receive treatment for coronavirus disease-2019 COVID-19 on admission day 2. She suffered hypotension, QTc interval prolongation and worsening of QRS complex widening during treatment.\",\n",
       " 11: 'No national guidelines exist for integrating early childhood development in malnutrition treatments. Parents of children with developmental delays endure more stress than parents of typically developing children. Poor parental mental health can lead to negative parenting practices, exacerbating child behaviors. Every 2 in 5 pregnant women and half of new mothers report mental health issues in low-and-middle-income countries. On the eve of independence in 1962, malnutrition was the largest single cause of death in Jamaica for children under one. Although child malnutrition rates have rapidly declined in the island since 1962, today pockets of high child malnutrition exist alongside rising levels of childhood obesity. Jamaica like so many other countries in the Global South is experiencing a double burden of malnutrition; that is, the coexistence of undernutrition due to insufficient intake of energy and other nutrients and obesity. Child malnutrition was studied and problematised long before Jamaica gained independence and was part of broader regional and imperial-wide investigations into nutrition. Jamaica had long been reliant on the importation of large quantities of food, a dependency that dated back to the formation of sugar plantations in the 17th century. Sugar planters reserved some land on their estates for slaves to cultivate their own food and supplemented their slaves diet with imported foods. After the War, the importance of food crops for local consumption was quickly forgotten. The food bill increased from Jamaican dollars J 43.3 million in 1968 to J60.2 million in 1971 and rose even further after the oil crisis Ministry of Agriculture, 1973. In the space of 20 months food prices had nearly doubled so that half the population spent at least 60 per cent of their income on food. From the mid-1970s onwards, the GoJ had to scale back various policies that benefited the nutritional standard of the poor. Under agreements with agencies like the IMF, the price controls on certain food items were repealed and CHAs were no longer able to hand out supplementary food. Also, as stipulated by lenders, the Jamaican dollar was devalued and this with the removal of food subsidies led to a massive hike in food prices. In many other developing countries, fiscal austerity programmes adopted at the insistence of international lenders led to an increase in child malnutrition. The PNP government in the 1990s tried to improve the nutritional status of children by increasing the number of food stamps for families with malnourished children. It also offered a food aid programme to supplement the diets of those on food stamps. The devaluation of the Jamaican dollar in January 1990 led to an increase in the consumer price index for food the low-cost basket of food items for a household of five increased by some 220 per cent between 1995 and 1996. The 200809 crisis has significantly affected food access and availability. In the 1990s overweight and obesity levels for children started to rise and they now far exceed malnutrition levels. The neoliberal path taken by the GoJ since the 1980s to meet conditions imposed by international lenders have not only done much to increase food insecurity. The approach to child malnutrition in post-independence Jamaica shifted from a medicalised approach, focussing on treatment of severe cases, to a more holistic approach that combined treatment with prevention. The problem is far more complex than conventionally understood child malnutrition. Jamaica and other Caribbean SIDS have witnessed the emergence of multi-sectoral civil society coalitions in recent years.',\n",
       " 12: 'there are no conflicts of interest. the author has declared no potential conflicts of interests. there is no conflict of interest between the author and the publisher of this article. The author has no financial interest in this article or in any of the companies associated with it. There is no potential conflict of interests between this article and any of its publishers.',\n",
       " 13: 'Oral complications, whether acute or chronic, can occur during or after cancer treatment. More than 30-35 of cancer patients will experience mucositis, altered taste, xerostomia, sensitive gums, dental caries, speaking difficulties, and jaw pain. Each health professional engaged in the cancer care continuum ought to be aware of such specific oral health adverse reactions.  chemotherapy-induced myelosuppression (CIM) commonly manifests as anemia, neutropenia, thrombocytopenia and lymphopenia. CIM is currently managed with chemotherapy dose reductions and delays, in addition to rescue interventions that stimulate or mobilize white cells growth factors. Despite the use of these interventions, however, clinically significant CIM continues to be a major acute toxicity of cytotoxic chemotherapy. 64 of participants recalled chemotherapy dose delays, reductions, discontinuations, andor changes due to myelosuppression. Fig results were similar across the three tumor types. participant-reported impact of myelo-suppression was significantly higher among participants aged below 50 years compared with those aged at least 50 years.',\n",
       " 14: \"Each author should have participated sufficiently in the work to take public responsibility for appropriate portions of the manuscript contents. allowing one's name to appear as an author without contributing significantly to the study is considered a breach of appropriate authorship and publication ethics. no individual other than the authors listed below should have contributed substantially to the preparation and revision of the manuscripts table 3 contains references from 41 onwards not cited elsewhere in the manuscript the funders had no role in design and conduct of the study; collection, management, analysis, and interpretation of the data.\",\n",
       " 15: 'The increasing number of cyclopentanoid natural products and their interesting biological activity has stirred considerable interest into synthesis of such compounds penstemide was isolated from the methanol extracts of Penstemon deutus Dongl the prolonged reaction time, however, caused transposition of the tertiary hydroxy group to yield the desired C6 hydroxylated compounds.',\n",
       " 16: \"artificial Intelligence includes approaches and techniques like machine learning, machine reasoning, and robotics in this review. The main concern will be given towards machine learning as it is the approach that is being applied using different techniques and algorithms in various healthcare activities. The aim of the paper is to discuss the involvement of machine learning algorithms in the healthcare sector to perform computational decision making. Machine learning approaches are used in cancer prediction and prognosis with the various machine learning approaches. These approaches are mostly connected with computational and computational knowledge and identify the applications of these algorithms. In the past years, many machine learning techniques were developed for cancer detection and classification and their process could be analysed in three stages which are preprocessing, feature extraction and feature extraction. Machine learning algorithms play a vital role when trying to automatically segment and classify microscopic images to detect leukaemia. There have been various machine learning algorithms used for leukemia detection such as KNN, SVM, NB, radial basis function network RBFN, and multilayer perceptron MLP. A machine learning approach to identify cardiologic diseases includes preprocessing, feature selection, cross validation method, machine learning classifiers, and classifier performance evaluation. Machine learning has become ubiquitous and indispensable when it comes to solving complex problems in many areas in biomedicine. Machine learning is used for various tasks such as to predict protein structure, function from genetic sequences, discern optimal diets from patients clinical and microbiome profile, and so on. Even disease predictions in healthcare have been made possible through machine learning approaches.  machine learning algorithms need high-quality data in high quantities to reach acceptable performance levels if the dataset is biased, it can affect the performance and the generalizability of the algorithm. biomedical text mining technology is important as the amount of unstructured and semistructured biomedical literature data is rapidly growing. machine learning is not capable of solving any fundamental problems of causal inference in the observational dataset. Machine learning approaches are involved in healthcare tasks such as predicting or diagnosing a disease, identifying hidden diseases, providing clinical decision support, and even recognizing whether a drug is suitable as a treatment to the given disease. Using machine learning approaches, the EHRs of patients are processed and analysed to identify any future health risks that could possibly occur to start with. It is better to give concern towards the performance of machine learning algorithms to identify best performing algorithms. Machine learning approaches could analyse large biological and material datasets to identify various relationships which exist between the data in addition to it. These machine learning algorithms can be combined with the equipment that is being used to design such prosthetic devices so that the devices can be customized and designed based on the patient's requirement. The incorporation of machine learning with biology and biomedicine should be performed with maximum care and monitoring research studies. The wrapper method uses machine learning in order to select the best and the most suited subset of features. CNN is used in biomedical image analysis commonly when considering the challenges. There are several open-source machine learning libraries in various languages which could be used to assist in the development process when implementing intelligent biological applications. Data analytics is being applied in the healthcare sector to improve the healthcare services by predicting the future expectations based on a patient's medical history. Machine learning algorithms, which is a subsection of artificial intelligence, have inspired the field of computational biology. Many fields of biomedicine have published their own guidelines on how to evaluate machine learning algorithms. The need for independent test sets for the evaluation of machine learning algorithms in health and life science applications has brought with it the confusion that the hold-out would be preferable to the CV-based error estimation. The recommendation is to divide the data into three non-overlapping sets: 1 a training set to train the classifiers with various hyperparameters, 2 a validation set to decide which of the trained classifiers to use, and 3 a test set to the test the accuracy of the selected classifier. This paper aimed to give practical information about how to assess the performance of machine learning approaches, giving special attention to biomedical applications. It is worthwhile to re-emphasise that good performance is only one of the items in the list of requirements towards successful uptake of machinelearning algorithms in practice. usability, seamless integration into existing processes and infrastructures, and explainability are all components that are of similar importance.\",\n",
       " 17: \"china's response to the major NTS crisis such as the COVID-19 pandemic at the end of 2019 called for a focus on the relation between China's NTS and its foreign policy. Overanalyzing China's military actions and motives as related to diplomacy from the perspective of traditional military security entails risks. China has tried to enhance the PLA's capability to carry out crisis management. Is it possible and reasonable to insist that China join in the trilateral arms control negotiation that the United States has tried to convene? What kind of roles has China played in the international nuclear order, and how might it contribute to arms control and the non-proliferation process in the future? Is it possible, and if so, how might states reduce the risk of a dangerous strategic arms race in this region?\",\n",
       " 18: \"Medication administration process is complex and influenced by interruptions, multi-tasking and responding to patient's care needs. Over half 54.4 of the 237 million medication errors estimated to have occurred in England each year taking place at the administration stage. 7.6 of these were associated with moderate or severe harm. MedEye is a medication scanner, used at the bedside prior to administering medications. Medication administration errors were grouped into three main categories: 'timing' errors administrations that were early or late by between 1-2 h or over 2 h, 'omission' errors and 'other' errors, the latter including: wrong patient, wrong administration equipment used, wrong dose, wrong route, wrong medication, documentation error, administration without order, failure to recognise drug-drug interaction, patient had a documented allergy to medication, directions monitoring error. We fitted a binomial logit mixed effect model for each error type a two-factor fixed effect variable period', with values before' and after' was included to capture the effect of the implementation of the Medeye System. We did not identify a significant impact of MedEye on the overall rate of timing errors but did note a significant decrease with nurse time on duty. MedEye was trialled in one of the largest NHS trusts in England. Patients were screened and enrolled between April 2018 and July 2019. All patients were screened for eligibility and patients in the study excluded children. Written informed consent was obtained after identification, medical history, and social history. The majority of patients in this program did not have any type of health insurance, and we referred them to clinics that accepted the state's special funding for outpatientbased opioid treatment physicians after initiation. A total of 31 patients did not complete the program 294 of 324 in total, 26 8.0 patients had a lapse event during the study period. Staff at FORB sites are trained to follow SAVE ME stimulate, airway, ventilate, evaluate, medication, evaluate protocols for overdose prevention, recognition, and response. The BC FORB program is one of many innovative responses to the illicit drug crisis in BC and has contributed to hundreds of overdose reversals in community settings.\",\n",
       " 19: \"sarcopenia is a progressive, generalized skeletal muscle illness characterized by accelerated loss of muscle mass and function. Secondary sarcopenia occurs if other factors, including malignancy or organ failure, are evident in addition to the aging process. In elderly populations, sarc Openia has different etiologies and management. Many older people are unwilling to exercise frequently due to unfavorable conditions for exercise, such as the emergence of COVID 19 and resultant lockdowns. Time efficiency using a low exercise volume and high intensities might be a key feature of exercise protocols for the prevention or treatment of osteosarcopenia in summary, the authors concluded that there has been no evidence of negative exercise effects. The study found that RET was found to be an effective treatment option in relieving depressive symptoms in elderly patients with sarcopenia, particularly in those with Alzheimer's disease. There have been few studies investigating the effects of exercise on subjects with sarc Openia or neurological diseases. Future investigations are needed to identify the underlying neurobiological mechanisms and investigate whether the results can be replicated. KAATSU RT could safely increase muscle strength and size in patients undergoing cardiac surgery n 21, age 69.6 12.6 years Table 6. Researchers found that anterior mid-thigh thickness, SMI, walking speed, and knee extender strength improved after 3 months of KAAT SU RT treatments.  exercise improves aerobic capacity VO2 peak, anaerobic threshold, 6-min walk distance, muscle mass, and quality-of-life for both compensated and decompensated liver disease patients in 11 studies. There was noticeable heterogeneity in chronic liver disease and after liver transplantation, exercise can improve key components of physical frailty functionalaerobic capacity, sarcopenia, as well as quality- of-life in large controlled clinical trials. The impact of exercise on subjects suffering from sarcopenia with a specific morbidity is worthy of examination. The effects of temporary breaks in exercise routines, e.g., due to the intermittent nature of an exercise program, lack of time or simple reluctance, might be a frequent situation that compromises older adults' lives. The syndrome might be easier to diagnose with female athletes than with male athletes. Amenorrhea is perceived as a general sign of fitness by fellow athletes coaches. Fear and shame 4 Fear of being seen as less feminine 1 Taboo to discuss menstrual cycle in general 1 Performance is priority 13 Aiming for low fat percentage and beƩer performance 2 The lower the fat percentage, the be\\xa0fitter\\xa0the performance. The IOC recommended improving awareness of RED-S among athletes, coaches, mentors, and sports organizations. rED-S also has negative effects on athletic performance, which can include decreased muscle strength, decreased endurance, and increased risk of injury. The main reasons that female athletes with amenorrhea do not seek help were 1 normalization of amenorrhoe, 2 not experiencing the absence of a menstrual cycle as a problem, 3 experienced shame and taboo around the subject, 4 prioritisation of sports performance, and 5 denial of the problem. European Society of Cardiology recommend electrocardiogram ECG screening as part of a pre-participation examination PPE of young competitive athletes prior to participation in 2005. Evidence-base to support inclusion of ECG for reducing incidence of SCA and SCD in young athletes has not undergone systematic review. There is very low-quality evidence ECG screening decreases risk of sudden cardiac death in young athletes and military members. Few data are available to answer the question of the effectiveness of ECG Screening in preventing SCAD in young Athletes. No difference was identified between screened and non-screened athletes in data synthesis.\",\n",
       " 20: 'Glaucoma is the third leading cause of global blindness, behind cataract and uncorrected refractive error. VFF has been proven effective in detecting scotomas due to cytomegalovirus retinitis, diabetic retinopathy, and glaucomA 1012. This study aims to empirically derive a recommended test stimulus for VFF. iPad and other personal mobile devices may be a favourable media to enable quick, accurate testing. cataract surgery is one of the most commonly performed surgical procedures, with an increasing surgical rate worldwide. Dry eye disease and glaucoma represent two highly-frequent chronic ocular disorders affecting a significant proportion of the world population. Online surgical planning software Veracity Surgical, Zeiss, Oberkochen, Germany. Data and formulas required for cataract preoperative planning are stored on a single cloud-based platform. Patients with visually significant comorbidities corneal, retina, optic nerve disease were excluded if both eyes were to undergo surgery. No significant differences were noted for refractive accuracy between the IOL chosen using traditional documentation vs online software. The use of the online planning system used in this study also reduced the time required for surgical planning by an average of 88 8 minutes per eye for postrefractive cases.',\n",
       " 21: 'although the role smoking plays in the risk of contracting COVID-19 remains controversial1-4, smoking is likely associated with more severe outcomes of the disease. monitoring the impact of the pandemic on tobacco use behaviors is important for formulating future tobacco control policies. Few reports have examined the changes in heated tobacco product HTP and electronic cigarette e-cigarette use since the CO VID-19 outbreak in the US, UK, Australia, Canada and other countries. Twenty-two percent cigarette users decreased use while only 8.1 increased use, resulting in a net decrease of 14.3 percentage points the vast majority of users of HTP 92.3 and e-cigarette 91.4 reported no change in consumption. The main reasons for decreased cigarette use were longer stay at home 63.2, health considerations 52.6, mask-wearing 47.4 or financial issues 15.8 increased cigarette use.',\n",
       " 22: \"The impact of colonialism and neo-colonialism on the structure of the state and political and social economy of countries across Africa has been discussed exhaustively by eminent scholars. The colonial state, having never been formally bureaucratised, was not sufficiently emancipated from society to enable the public service to operate independently of the constraints of social pressure and the ties of ethnicity and kinship Chabal Daloz, 1999. The term 'governance' has become a mantra in the development business which is presented as a new truth which must be hammered into the benighted minds of African policy makers. There is a disjuncture between the formalistic elements of good governance which include strong institutional oversight mechanism and pre-existing and deeply embedded cultural and administrative practices which shape the way in which the public sector is run. Academics in many tertiary institutions in Africa struggle both to conduct research on public policy and governance and to publish their findings. This is due to a lack of mentorship, and especially a shortage of research funding. Governments are reluctant to support research which might expose weakness in their own administrative and regulatory oversight systems. The management of research institutes themselves may encourage self-censure by researchers for fear of raising the ire of governing elites. The status of teaching and research on public policy and governance in Africa remains a vestige of the colonial era and the increasing influence of neoliberalism. What is called for is a concerted, collaborative effort across institutions both within and between countries across the African continent. This will require the development of a broad research agenda by public administration scholars throughout Africa. Crowdsourcing has the potential to accelerate research due to the amount of work that can be concentrated on a single challenge in a short period, which makes it can be a promising tool in health, and in global health in particular. Most literature on crowdsourcing services assumes that a given task is independently completed by individual workers thus, it is critical to analyze cooperative behaviors among independent workers to jointly complete a task in the crowdsourcing service setting. We propose a fair profit allocation policy for a workers coalition in crowds sourcing services. Van Den Eede is mediating between instrumentalism and determinism, accounting for agency in pragmatic interactions and larger power-laden structures. We need to be prepared to provide critical perspectives on emerging algorithmic, nano-, and other technologies that stretch our sense-making capacities in more ways than one.\",\n",
       " 23: \"subpial type III cortical lesions have emerged as an important component of multiple sclerosis MS pathology. The extent of cortical injury is now considered to be a major contributor to disease progression in MS. We assessed the relationship between meningeal inflammation, the extent of subpial cortical demyelination, and the state of subcortical WM lesional activity. We found that T and B cell infiltrates were selectively enriched in areas of the meninges that were adjacent to subpial lesion areas compared with NAGM in the MS group with a high count of meningeal lymphocytes. The density of T cells and B cells was not associated with donor clinical metadata age of death, mean disease duration, or cortical gray matter demyelination at autopsy. ial gray matter that did not stain positive for myelin in MS donors with high versus low CD20 B cell meningeal count k Spearman's correlation coefficient. The density of T and B cells directly correlates with the extent of subpial GMLs as well as active and mixed activeinactive WMLs in progressive MS. artments in the same brains and suggested that the majority of the secondary diversification events affinity maturation and class switch are occurring within the draining cervical lymph node. Damage to myelin and axons in active and mixed activeinactive WMLs could trigger retrograde degeneration propagating backward toward cortical neurons, resulting in demyelination and neurodegeneration. Future studies will be important to better understand the mechanisms of cortical injury in progressive MS and how these may be targeted. Invisible symptoms of MS include fatigue, mood changes, cognitive changes, physical and emotional pain, spasticity, bowelbladder dysfunction, sexual dysfunction, and vision changes. Despite their high prevalence amongst people living with MS, awareness of these invisible symptoms remains low. New programs, such as the Multiple Sclerosis Partners Advancing Technology and Health Solutions MS PATHS program, hope to use technological advancements to capture information on invisible symptoms in routine MS care. Sleep disorders in people living with MS include insomnia, restless leg syndrome, periodic limb movement disorders, and sleep-related breathing disorders. Cognitive impairments are reported to affect up to 70 of people with MS. At least 80 of peopleliving with MS experience some degree of bladder dysfunction. Men with MS are most likely to experience erectile dysfunction, ejaculatory dysfunction andor orgasmic dysfunction 50, reduced libido 39, and anorgasmia 37 7577. vision problems are inversely correlated with health-related QoL in people living with MS. Screening tools, paired with a detailed clinical interview, can be utilized to identify invisible symptoms in people living with MS. Screening for invisible symptoms can allow for early implementation of interventions that can help improve QoL for people livingwith MS. MS PATHS program uses iPad-based device, called the Multiple Sclerosis Performance Test MSPT. Building networks of trusted friends and family can help alleviate both stigma and social isolation experienced by people living with MS. Non-pharmacological ways to manage these symptoms may include bladderpelvic training, dietary adjustments, exercise, meditation, music therapy, andor support groups. People living with MS can use a journal or mobile applications apps to document symptoms between appointments, keep notes, and share information with their care team apps have become increasingly sophisticated and specialized in recent years, with options available not only to monitor symptoms but to manage them as well. Online resources are also available to guide patients as they educate themselves about managing their invisible symptoms. ACP wrote and deployed a large-scale internet-based survey to determine the real-world impact of the COVID19 pandemic on PwMS. The USA has more COVID-19 cases than any other country worldwide. Participants were members of ACP's iConquerMS research network who have previously provided informed consent to participate in surveys. Less than 1 percent of our participants had COVID-19, the high impact of CO VID-19 on health behaviors, MS care access, alterations in DMT use, and impact on work are notable in several locations. Even these weeks of disruption to care may have impacts to PwMS for many months to come in the form of changing immunosuppressive drug doses, deferred or avoided laboratory monitoring of existing treatment. N.1306-04704.N-1306.04703. N-1307-04702. N.1308-04703, N-1301-04706. N.-1307.04704, N.-1301.04702, N.1300.04705. N -1306.-04704\\xa0N-1307.04706, N\\xa01308.04707, N-.13081.04708. N-.1408.057. N+.1409.077.\",\n",
       " 24: \"Tuberculosis TB represents an urgent health priority, especially in high-burden countries, where 90 of cases are registered. Despite drug treatments continue to improve, reports of multidrug resistance tuberculosis MDR-TB and extensively drug-resistance tuberculosis XDR- TB are increasing worldwide, reducing the treatment success rate at unacceptably low levels. One of the main challenges in developing a new TB vaccine is understanding who should be vaccinated. The WHO has proposed two sets of preferred product characteristics to guide vaccine candidate's development. One addressing adolescents and adults, the other targeting neonates children show lower rates of TB notifications, lower proportions of smear-positive pulmonary TB. The concept of targeting both the latent and the active state of the pathogen is not a novelty in TB vaccine design. Most adjuvants effective in TB animal models, including the ones in clinical development, rely on vaccine adjuvant-delivery system VADS. VADS has been considered unsuitable for vaccines against intracellular pathogens, like Mtb, because of its low ability to induce Th1-cellular immunity. Tuberculosis TB is a communicable, disease caused by Mycobacterium tuberculosis, the diagnosis and treatment of which is a burden, particularly in developing countries, which bear the greater burden of the disease. While primary TB has been extensively studied in humans and animals, post-primary TB is seldom recognized or studied clinical trials are essential to answer this question. The plasma of 21 individuals with active TB, 16 individuals with latent TB, and 10 healthy 199 controls were analyzed using the Olink inflammation proximity extension assay during data processing. The turquoise module out of the four modules had a significantly stronger 253 correlation with active tuberculosis. The 12-marker plasma signature 333 associated with active TB and with low cross-reactivity to other bacterialviral lower 334 respiratory infections and sarcoidosis. We have shown that the signature is differentially expressed in independent TB datasets and it is not expressed in patients with other lower respiratory infections. The signature could be helpful in identifying 433 TB disease progression or cure. Garay-Baquero et al., analyzed more than 5000 peptides using Mass spectrometry on 529 a relatively small discovery cohort 10 individuals with active TB and 10 healthy controls 530 44 they identified 46 proteins to be overexpressed in active TB. CFHR5, LRG1, CRP, LBP, and SAA1, 534 performed well with an AUC 0.8 in both settings for active TB vs ORD.\",\n",
       " 25: \" physiological data in physiological computing include the electroencephalogram EEG, electrocorticogram ECoG, electrocardiogram ECG, eye movement, blood pressure BP, electrodermal activity EDA, respiration RSP, skin temperature, etc. A BCI system establishes a direct communication pathway between the brain and an extern device, e.g., a computer or a robot. We illustrate the main characteristics of each sensor, how measurements can be obtained from each of them, and the peculiarities of these sensors. The basic technologies used by each sensor are briefly presented, including common characteristics, features, and qualitative techniques for their characterization the tables present the most complete articles in terms of the parameters that we took into consideration. , there have been many advances in understanding microbend sensors and investigating how to increase the dynamic range and improve sensitivity to the measurement parameter of interest. Among the great advantages of microbEND sensors are mechanical and optical efficiency that allow for low part count and low cost and easy mechanical assembly. These are fail-safe sensors, as they produce a calibrated output signal in its correct function or when fail completely. Figure 6 shows different configurations of as much an extrinsic as an intrinsic FPI sensors type. Figure 7 showed some most common configurations on the fiber MZI sensors type, the changes in the microstructure of the fiber are by taper, joints with other fibers, and displacements of the cores between one or more fibers or with multicore fibers. Figure 8 shows the most common locations for easy acquisition of cardiac pulse and blood pressure biosensors 2021, 11, x FOR PEER REVIEW. In most of the articles that were analyzed, a clear tendency to use SMFs for the characterization of OF sensors to measure temperature was observed. The sensitivity of results changes according to the other elements and techniques used for the creation of the respective sensor. A good research study exposed a fiber sensor with possible applications in biomedicine, immunology, and biophysics. A fibe sensor was found with possible applications for strain, temperature, and curvature the entries continue with a humidity and temperature sensor characterized with only an LPFG created by an argon laser source. Large and complex studies were observed that leave the door open for possible diversification and mass production of these sensors. Study 86 showed an optical balistocardiogram technique to measure cardiac and respiratory activity noninvasively. They used an optical FBG device with a germanium-doped SMF placed on the thorax. This allowed continuous sampling of the motion caused by breathing in the chest and abdomen of the human body. Figure 15 shows various representations of smart textiles with OF sensors. Figure 16 shows a noninvasive device for respiratory monitoring through a fiber with two FBG, which measures nasal airflow. Figure 17 shows an FBG sensor to measure respiration and cardiac pulse during MRI examinations. Figure 18 shows a smart textile, composed of 12 FBG sensors to measure trunk movements, including breathing. HR sensor made with a POF with three different configurations of the same fiber-which were straight, sinusoidal, and spiral-shaped. Tests on the human hand, chest, and neck under fast, normal, and slow HR conditions-highlighted the photo elastic properties of the fiber 104  60. Through an FBG sensor they managed to obtain measurements of the human pulse and respiration. An OF sensor of FPI for medical use blood pressure that works with white light. A prototype sensor to measure Doppler blood flow velocity through a SMF. A sensor that measures waves in the deformations of the body surface that turned out to be pulse waves that were generated with the contractions and expansions of the arteries. There is a growing demand for medical devices for constantly monitoring vital signs, health, and stability as a means to prevent deterioration of the patient's condition or the illness. This leads to the need for medical sensor application technology in real-time, at low cost, and that is commercially viable, that compete with devices commercial electronics. Fiber optic sensors in conjunction with new technologies provides a solid structure for the design of new sensors. The best in terms of operating ranges 6, 60 61 62 are those that only measure the ranges proposed for human temperature 36.5 C and 37.3 C, since many are able to detect very high temperatures. Fiber optic sensors for monitoring vital signs allow the technology enclosed in them to design prototypes for use in various healthcare facilities. Smartwatches can record single-lead ECG in 30 s using two positive and negative electrodes. No study has quantitatively evaluated the quality of recorded tracings by smartwatch compared to standard ECG. The smartwatch used in this study was the Apple Watch Series 4 watch OS 5.1.2 the smartwatch ECG recording speed was set to a speed of 25 mms and an amplitude of 10 mVmm. The device was paired to an Apple iPhone 7 via Bluetooth for eligible patients. Smartwatch ECGs were obtained immediately after the standard ECG without any change in patient condition. The mean heart rate calculated from standard ECGs was 77.04 14.41 beats per minute bpm, for smart watch ECGs it was 77,52 15.09 bpm. This study is one of the first studies compared the smartwatch ECG with the standard ECG in a real-world setting. The ability of smartwatches to record ECG was confirmed by FDA in 2018. The findings of this study suggest that patients will be able to record their own 3-lead ECGs without needing to attach additional cables to their bodies by using a smartwatch in any situation.  ECG is somewhat similar to what has already happened to other personal health monitoring devices, such as home glucose and blood pressure monitors. The process of recording ECG with the smartwatch was supervised by the researchers therefore, ECG tracings obtained from smartwatch without such supervision may not have the same degree of feasibility or quality. A more sensible reaction to the advent of smart devices with medical functions is to contribute to improving their utility and performance.\",\n",
       " 27: \"obstructive sleep apnea OSA is a highly prevalent chronic medical condition among Veterans enrolled in the Veterans Health Administration VA. The VA Office of Rural Health TeleSleep program, which focuses on VA's 2.8 million rural Veterans, aims to bring sleep care to rural Veterans. Telehealth is associated with improved patient outcomes and satisfaction, increased patientprovider communication, and can be cost-effective. Veterans overwhelmingly reported that telehealth facilitated access to sleep care because it alleviated the dual barriers of distance and travel time in addition to travel and associated cost. Most rural participants indicated they would choose video visits over traveling to see sleep providers in person. Veterans provided positive feedback about their experience seeing sleep providers through video appointments and REVAMP's secure messaging feature. Sleep is a physiological and behavioral state essential to life, considered to play an essential role in the homeostasis, immune system, maintaining performance, muscle restoration, energy metabolism, cognitive function, and neural plasticity. Sleep deprivation has a negative impact on physical and cognitive performance, reduced alertness, reduced cognitive performance and increased risk of stroke, diabetes, cancer, osteoporosis, cardiovascular disease. Sleep is an important component for the maintenance of a functional immune system. Sleep deprivation and circadian misalignment can affect the immune system and how this interaction can be a risk during the pandemic. Sleep disorders, including OSA, can be related with immunological and inflammatory factors involved in the morbimortality of SARS. 2 sleep disorders, as OSA can aggravate, hypothetically, the systemic and lung inflammation that can occur during viral infections, and perhaps, including COVID-19. Further studies targeting the relationships between OSA and CO VID-19 are warranted to provide additional evidence regarding the role of this sleep breathing disorder in the course of SARS-CoV-2 infection. The American Academy of Sleep Medicine has issued mitigation strategies to help sleep medicine clinicians in their professional activities during the spread of the virus. , which is an important component of mental health interventions during COVID-19 pandemic. insomnia severity is independently associated with elevated suicidal ideation and should, thus, be carefully monitored non-pharmacological approaches, such as cognitive-behavioral therapy for insomnia, are highly effective and recommended as first line treatments. Sleep disturbances may facilitate SARS-CoV-2 infection in shift-workers, due to the fact of shift-work result in sleep restriction SR, and contribute to the risk of developing sleep disturbances.  exercise is considered an important nonpharmacological method to treat sleep disorders 133, 134, anxiety 135, and some chronic diseases 136. factors such as duration, volume, intensity, and type of exercise influencing its effect 134 135. telemedicine: previous studies have demonstrated that telehealth can be effective in public health emergencies and major disasters 155, and it has been widely adopted during the COVID-19 pandemic 156  remote consultations and appointments have become more frequent in all areas, including in sleep medicine. COVID-19 pandemic has been associated with significant circadian rhythm changes. A disruption of the circadian rhythm has the potential to decrease the response of the immune system and increase the risk of infection. The pandemic period should be seen as a time for learning and reflection.\",\n",
       " 28: 'The Smart Applications REFerence ontology SAREF has been created. It is designed to encompass the information that smart devices need to exchange in order to have meaningful interactions. This experiment will take data from 33 smart devices in a smart home and transforms it into a knowledge graph. The Knowledge Engine allows multiple IoT devices to exchange knowledge.  behaviour recognition in ubiquitous computing and urban field is a popular subject of analysis in our system. Huge amounts of data are collected by the sensor network, which requires efficient data management sensor networks are enablers for IoT. Basic-cameraTrolley-BLetwork provides the identification is based on signals from the environment. Kafka is an efficient platform, which enables the mass sending of different types of data streams. The identification process can adopt various forms, mainly by the analyses of biometrical data coming from cameras, namely facial recognition, but also via fingerprint readers located on shopping trolleys iA agent processes the data obtained data and informs GA agent about the new location of the client it classifies and updates information about the client in the main customer database it performs the in-depth analysis of the obtained biometric data related to a particular client this agent, on the basis of the data collected, takes a decision about assigning the client to the proper real queue. The system works according to the paradigm of pervasive and ubiquitous computing. Its main task is to recognise clients who appear in the monitored area, understand their behaviour, take into account the historical data related to objects and propose particular actions. It meets the requirements for systems processing large amounts of sensory data, based on a sensor network, so as to get a context-aware system. Traditional searching techniques are not appropriate and sufficient for IoT-based applications. Sensing-as-a-service model is one of the greatest priorities in IoT today. Machine learning can help to improve efficiency and reduce costs by pursuing those data. Scalability: Scalability in wireless sensor network WSN actually refers to scaling a network with a range of high node numbers.  cluster head CH 13 cH collects data from all the sensors within its cluster and then transmits data to the sink threat detection and prevention: It is crucial to improve the process of threat Detection and prevention in IoT. 15.4 or Bluetooth 802.15.1 can be used for designing the nodes to sample vital signs and transferring relevant data to a personal server.',\n",
       " 29: 'This is the first time that a divided attention paradigm has been employed in the context of multipletarget search or human foraging. The goal of the current study was to determine whether having to divert attention away from the primary task of detecting targets to monitor other aspects of the display would also lead to a change in run behaviour to our knowledge. The online task used in the current study involes a dualtask design where two challenging continuous attentional tasks are pitted against one another. hunted participants were required to monitor for the approach of four wolf objects, and to take avoiding action to prevent a collision. The distracted group could, on the other hand ignore the wolves as they posed no threat to them overall. 48 participants completed the foraging game online. The 4 wolf objects were positioned as seen in Fig. 40 targets were yellow and blue disks and the 40 distractors were red and green disks during Conjunction foraging. Participants self-selected the experiment via their https: proli fic block order was fixed, as this factor had not been found to qualitatively affect the pattern of foraging results in our previous work. We found little evidence of fully exhaustive category selection during Conjunction foraging in the online task, even for participants in the distracted group specifically, when foraging tempo is quite slow-in the current Experiment 1 average inter-target times are all 600 ms Fig in the General Discussion we suggest some additional ways in which the predictability andor behaviour of predator objects could be modified in order to increase perceived risk. Study looked at how simulated risk of predation affects patterns of human foraging in an online scenario in Experiment 1. We used an established FeatureConjunction manipulation to vary the difficulty of target selection and required hunted participants to physically avoid the approach of predator objects in Experiment 2. In Experiment 3, we varied the value and the prevalence of target items to examine potential trade-offs between risk and reward. We found little evidence that patterns of run behaviour within our multi-target foraging task were disrupted by the need to attend to additional predator elements. This confirms findings from the human search literature, reviewed in the Introduction, where performing a secondary task while searching has often been achieved with minimal cost. The task demands of our online game would seem to place the scope of our findings firmly within the domain of human search performance rather than animal predation. -relative to an animal being hunted in the wildexploring other ways to simulate danger andor increasing the costs associated with failure may well prove fruitful. This was our first experience in designing a task and collecting data specifically for an online setting, an adventure undertaken directly as a consequence of the COVID-19 pandemic that closed many labs during 2020.',\n",
       " 30: \"Physical inactivity PA adversely affects older adults, with 60-70 of those aged over 75 years not sufficiently active for good health. We set up the CHARIOT COVID-19 Rapid response study CCRR. We hypothesised that imposed social restrictions would negatively impact on PA levels of older adults. Change in PA after lockdown would be modified by certain lifestyle and social factors. iPAQ data were cleaned according to the IPAQ data cleaning protocol, 18 and the Metabolic Equivalent of Task MET minutes per week, calculated for each activity and total activity. Paired t-tests were used to compare the distributions of mean PA levels pre-and post-lockdown measures of association with explanatory variables. Multivariable models were constructed for the outcome of MET minutes after lockdown, adjusting a priori each explanatory variable in turn for age, sex and ethnicity. A causal diagram was constructed to separate the overall causal effects of marital status, loneliness and living alone on physical activity. There was no strong association with anxiety scores mean change in PA from before lockdown was associated with both depression and anxiety. Increased age, increased BMI, frailty, current smoking, and a change to a less healthy diet were also significantly associated with a reduction in PA. Those divorced, single or widowed, living alone, shielding or reporting increased frequency of loneliness did significantly less PA after lockdown. Study found no significant difference in PA during lockdown with anxiety symptoms, at odds with previous studies. A decrease in PA was associated with other detrimental health behaviours, including unhealthy diet and smoking a similar tendency of clustering of unhealthy behaviours during the COVID-19 pandemic was noted in a cohort of patients in Spain. Physical inactivity adversely affects older adults, with 60-70 of those aged over 75 years not sufficiently physically active for good health. We hypothesised that imposed social restrictions would negatively impact on PA levels of older adults. Change in PA after the introduction of lockdown would be modified by certain demographic, lifestyle and social factors, with a focus on markers of social isolation and perceived loneliness. A causal diagram was constructed using DAGitty 27 supplementary file 1: figure S3 to aid adjustment for confounders. Multivariable models were then constructed based on the causal diagram for loneliness, adjusting for age, sex, ethnicity, older adult volunteers 60-80 years of age. 7,320 participants responded and completed the survey of these respondents, 6,219 completed IPAQ data both before and after introduction of lockdown measures. Social isolation and loneliness are associated with poorer physical performance. There were significantly lower levels of PA and a significant decrease in activity when compared to before lockdown. A decrease in PA was associated with other detrimental health behaviours, including unhealthy diet and smoking. This may be due to the specific demographic features of our cohort, but the possibility of alcohol consumption being associated with social interaction in this group cannot be excluded. There are differences in demography between the CCRR cohort and the general population of the UK. Results from self-reporting tools for PA only weakly correlate with those from objective measures, such as accelerometers and pedometers 56-59. Recall bias and seasonal changes in physical activity may also have impacted on the results. Figure S4 : Box-plot of distribution of MET minutes per week before and after the introduction of lockdown for 6,219 participants with completed IPAQ data. Figures S5 and S6: Linear regression models ofMET minutes as dependent variable, against survey completion month as explanatory variable showed no significant association. Give the eligibility criteria, and the sources and methods of selection of participants describe methods of follow-up. For each variable of interest, give sources of data and details of methods of assessment measurement describe comparability of assessment methods if there is more than one group 6-7 describe any efforts to address potential sources of bias. Explain how the study size was arrived at. The study will be conducted in eight villages with documented ongoing onchocerciasis 140 transmission and high epilepsy incidence in the Mbam and Sanaga river valleys of Cameroon. This will be a prospective, community-based, cluster randomized trial that will last three years. The aim of the study is to implement the SC intervention as a complementary strategy to CDTI along rivers near endemic villages. The study will be conducted in eight villages with documented ongoing onchocerciasis 140 transmission and high epilepsy incidence in the Mbam and Sanaga river valleys of Cameroon. Blackfly biting rates will be compared between the study arms at different time points, 384 and also longitudinally using linear mixed models to assess the effects of SC over time. Microfilarial prevalence is also unlikely to change drastically due to transmission reductions in 466 the SC arm of the study. Increasing levels of resistance to antibiotics are a serious threat to global health, and, if no action is taken, are projected to cause 10 million excess deaths by 2050. Africa is particularly vulnerable to the challenges posed by AMR.  consortium addresses the social and biological drivers of antibiotic drug-resistance in Kenya, Tanzania and Uganda. Research will focus on four key elements of the ABR problem in UTI: the therapy landscape, the pathogen, the patient, and the community. Study will provide insights on ABR emergence that may be applicable to other diseases and contexts. HATUA's activity will take place in Kenya, Uganda and Tanzania and multidisciplinary teams will sequentially survey in three study areas SA in each country. The locations are socio-demographically distinct: 1 Urban, economically advanced settings that potentially increase affordability and access to ABs; 2 Remote villages in poorer areas, where poverty, physical isolation and lower access toABs possibly lead to potential drivers. 3 Pastoralist and neglected network -areas with highly mobile pastoralist communities, and high levels of animal-human interaction fostering a zoonotic link. In each SA we will recruit adult and child outpatients min 90 of the total sample, that a doctor identifies as suffering with UTI-like symptoms e.g burning irritation during urination, dysuria, pyuria in level 5 hospitals. We will also recruit inpatients max 10 for non-pregnant child patients aged under 18 years data, will be provided by an accompanying parent or guardian. A questionnaire will be administered to a competent adult member of the household to capture sanitation and hygiene, socio-demographics, economic and poverty dimensions, household health seeking behaviour, and livestock keeping practices. Environmental sampling of soil, animal faecal samples and other materials in the immediate proximity of the home will be conducted to enrich the quantitative data. A sub-sample of UTI patients will be purposively selected for qualitative IDIs based on their having drug-resistant UTI pathogens or reporting complex patient treatment pathways 10 per SA, 90 in total. We will analyse the geospatial data collected on AB providers. We will describe the spatial distribution and density of drug dispensing outlets in both formal and informal healthcare settings. urine samples from 1800 culture-confirmed UTI patients will be analysed to investigate the burden of disease and resistance aST will be conducted on an agreed set of clinically relevant ABs along with special phenotypes. HATUA is a multi-re consortium that investigates the diverse drivers of drug-resistance in urinary tract infections in East Africa. HATUA will lay a strong foundation for a regional surveillance initiative, and will provide a vital resource for regional AMR policy formulation. Results have great potential to inform policy, improve clinical practice and build capacity for pathogen surveillance in the region. Antibiotic drug-resistance is the focus of this study increasing levels of resistance to antibiotics. Africa is particularly vulnerable to the challenges posed by AMR since the continent suffers the highest morbidity and mortality arising from infectious diseases and the least developed laboratory infrastructure. The Holistic Approach to Unravelling Antibacterial Resistance HATUA brings together expertise in microbiology, pathogen genomics, epidemiology, human geography, anthropology, sociology, computational biology and statistics. 'One health' paradigm must grapple with how infectious disease processes are products of both biological and social relations. 'New materialist' approaches provide an ideal framework for conceptualising ABR as a complex assemblage of human and non-human entities operating at various scales. HATUA is to describe and investigate the social and biological drivers of patients' treatment seeking pathways, or patient pathways, and how these relate to patterns of ABR. HATUA's activity will take place in Kenya, Uganda and Tanzania and multidisciplinary teams will sequentially survey in three study areas SA in each country. At the heart of the HATUA study will be a linked data set of 1800 patients 600 per country, 200 per site with culture-confirmed UTI. The locations are socio-demographically distinct: 1 Urban, economically advanced settings that potentially increase affordability and access to ABs; 2 Remote villages in poorer areas, where poverty, physical isolation and lower access toABs possibly lead to potential drivers. Clinic attendees are an important patient subset as these are the individuals specifically for whom clinicians must make patient management and treatment decisions. All patients will be asked to consent to being followed up if they test positive for a UTI eligible outpatients with culture-confirmed UTI will be re-contacted for a follow-up to their homes. Geospatial mapping of observed AB providers in the local community e.g from hospitals and clinics, to retail pharmacies and informal drug sellers, to veterinary drug shops. Main research questions and corresponding analyses are designed within five inter-linked WS wS1: The Therapy Landscape this WS will investigate how ABs are provided and utilised in our study areas. wS5: Interdisciplinary synthesis in this WS we will integrate and synthesise the data collected in WS 1-4 to explore how population and individual level behaviours and processes contribute to the risk of ABR. All patient samples will be non-invasive by urine stool collection only the principal language of recruitment and administration of the informed consent document ICD and the questionnaire will be the language used in hospitals. All data will be kept strictly confidential and numeric IDs will be used in place of names on all of the data collection instruments at each new step of data collection. Participants will be informed of confidentiality procedures during the consent process. HATUA is a three-year Global Context Consortia Award MRS0047851, funded by the National Institute for Health Research NIHR, Medical Research Council MRC, and the Department of Health and Social Care DHSC. The funders had no role in study design, data collection and analysis, decision to publish, or preparation of the manuscript.\",\n",
       " 31: 'Autism spectrum disorder ASD represents a group of neurodevelopmental disorders characterized by impairments in communication and social behavior. Children with ASD, were significantly worse during the COVID-19 outbreak and stay-at-home period compared to normal conditions. irritability levels of children with ASD during home confinement will vary according to the severity of autism symptoms under home confinement. There is a direct relationship between irritability in children with autism and autism symptoms. Children with ASD have irregular sleep patterns, are physically less active, lack personal space at home, and have much longer screen times compared to children without ASD. The COVID-19 pandemic itself, a period in which parents are at increased risk for anxiety and depression, is yet another factor adversely affecting children 21 The data regarding the high rate of irritability in children and adolescents with a diagnosis of ASD have varied lack of self-help skills. Glia cells play a key role in the development of the brain. The ratio of glia cells to neurons in the brain appears to be roughly 1:1. Autism may be related to the release of cytokines during infections such as Covid-19 autistic disabilities may result from too few or too many removed connections post-infection. There is increasing evidence that the etiology of autism is related to disorders of the IGF1IGFRIRS1PI3KAKTmTOR intracellular signaling pathway in contradistinction, phosphorylated AKT is decreased in the autistic brain. The level of IGF-1 in the newborn appears to be the most pertinent untreated autistic children between birth and 4 years of age have lower levels of this growth factor in their cerebrospinal fluid. Autism is largely an irreversible condition once it can be recognized explicitly through psychological testing. The behavior traits characteristic of autism are believed to be the results of brain dysconnectivity developed during the infantile and early childhood years eLISA quantitation of deficient serum IGF-1 in umbilical cord blood collected at delivery may foster early initiation of specific nutrient supplementation. The longer a group of babies were breast-fed, the less frequent was the occurrence of autism later. Vitamin D supplementation of gravid mothers with prior autistic children significantly reduced the chance of bearing another affected child. Influenza vaccination should be administered seasonally to all non-allergic women contemplating a new pregnancy. Research to solve the autism enigma is urgently needed for both humanitarian and medical reasons. The currently entertained model incorporating glia cells, myelination, dysconnectivity, and IGF-1 could explain atypical connectivity. No study has reported an antepartum or postpartum method which prevents or diminishes the development of classical autism in the infant other than prolonged breastfeeding from birth exclusively.',\n",
       " 32: ' appendicitis is one of the most common causes of acute abdominal pain in children and adults. Non-operative therapy for uncomplicated appendiciti is of great interest in the surgical community. A recent study found that 26.5 of patients on antibiotic therapy needed an appendicectomy within 1 year, resulting in 23.8 lower treatment effectiveness than the surgical group. This will be the first study conducting a cost-utility analysis of antibiotic therapy versus appendiectomy. The aim of this study was to carry out a CUA comparing appendic surgery to an antibiotic-only treatment approach. The cost of an appendicectomy procedure was taken from Clement et al 2020, who investigated costs for laparoscopic surgery in the NHS. In the study, the probability of complications occurring after surgery was much higher than for those who underwent anappendicectomy after antibiotic therapy failure. The negative ICER is far below the threshold, as the expected benefit of the antibiotic treatment is larger than the one of the appendiectomy. First treatment approach has better health outcomes and is less costly for the NHS than an appendicectomy therefore, NICE should consider its implementation as a first-line treatment for acute uncomplicated appendicitis. There have been no cost-utility analyses of antibiotic therapy versus laparoscopic appendicectomies from a UK perspective. There is a considerable debate around the non-operative treatment of appendicitis. The majority of respondents do not routinely use NOTA within their practice. There is significant heterogeneity among surgeons regarding on how to correctly define a negative appendicectomy and the role of routine radiological imaging.',\n",
       " 33: 'Plastic pollution has become an increasing concern on the global stage, remote accumulation sites like Midway Atoll, Henderson Island, and the ocean gyres have captured both public attention and scientific interest 13 It has been estimated that a significant fraction of marine plastic originates from cities and communities on land. A recent citizen science study of macroplastics in Denmark found higher litter densities in areas of human use like roadside ditches, parks, and rural roadsides. Less than 2 of the items logged across the sites were plastic bottles or caps, with plastic bottles 0.7 found at a lower frequency across the site groupings compared to bottle caps 1.2. In contrast to films and multilayer films, polyethylene terephthalate PET, the predominant polymer in plastic bottles sold in stores, is a more recyclable and thus more valuable polymer because of this material value. Landfills contain huge amounts of pollutants derived from industrial and municipal solids numerous attempts have been made to develop efficient techniques for leachate treatment. Semiconductor-induced photocatalysis has attracted significant attention because it produces large number of active radicals for eliminating recalcitrant organic pollutants. Leachate promotes surface reactions between the adsorbed ozone and pollutants. most studies have dealt with the degradation of single components in leachate. Leachate is a form of organic acid. It is produced by the decomposition of organic compounds in the presence of water.'}"
      ]
     },
     "execution_count": 168,
     "metadata": {},
     "output_type": "execute_result"
    }
   ],
   "source": [
    "final_summaries"
   ]
  },
  {
   "cell_type": "code",
   "execution_count": 169,
   "metadata": {},
   "outputs": [],
   "source": [
    "df_final_summaries = pd.DataFrame.from_dict(final_summaries, orient='index')\n",
    "df_final_summaries.to_csv('../final_summaries.csv', index=False)"
   ]
  }
 ],
 "metadata": {
  "kernelspec": {
   "display_name": "Python 3",
   "language": "python",
   "name": "python3"
  },
  "language_info": {
   "codemirror_mode": {
    "name": "ipython",
    "version": 3
   },
   "file_extension": ".py",
   "mimetype": "text/x-python",
   "name": "python",
   "nbconvert_exporter": "python",
   "pygments_lexer": "ipython3",
   "version": "3.9.0"
  }
 },
 "nbformat": 4,
 "nbformat_minor": 2
}
