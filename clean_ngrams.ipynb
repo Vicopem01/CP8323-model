{
 "cells": [
  {
   "cell_type": "code",
   "execution_count": 1,
   "metadata": {},
   "outputs": [],
   "source": [
    "import pickle\n",
    "with open(\"../all_ngrams.pkl\", \"rb\") as input_file:\n",
    "    all_ngrams = pickle.load(input_file)"
   ]
  },
  {
   "cell_type": "code",
   "execution_count": 3,
   "metadata": {},
   "outputs": [],
   "source": [
    "from nltk.corpus import stopwords\n",
    "from string import punctuation\n",
    "\n",
    "exclude_ngrams = [(\"et\", \"al\"), (\"et\"), (\"al\")]\n",
    "\n",
    "# Updated filter function with an additional parameter for exclusions\n",
    "def filter_ngrams(ngrams, exclude_ngrams):\n",
    "    filtered_ngrams = []\n",
    "    for ngram in ngrams:\n",
    "        # Ensure ngram is iterable; skip if not\n",
    "        if not isinstance(ngram, (list, tuple)):\n",
    "            continue\n",
    "        \n",
    "        # Filter out stopwords and punctuation from the ngram\n",
    "        filtered_ngram = tuple(word for word in ngram if word.lower() not in stop_words and word not in punctuation)\n",
    "        \n",
    "        # Convert ngram to lowercase for comparison with exclusions\n",
    "        ngram_lower = tuple(word.lower() for word in filtered_ngram)\n",
    "        \n",
    "        # Only add non-empty n-grams and not in exclude list\n",
    "        if filtered_ngram and ngram_lower not in exclude_ngrams:\n",
    "            filtered_ngrams.append(filtered_ngram)\n",
    "    return filtered_ngrams\n",
    "\n",
    "# Ensure stop_words is a set of stopwords\n",
    "stop_words = set(stopwords.words('english'))\n",
    "\n",
    "# Call the function with the exclude_ngrams list\n",
    "filtered_ngrams = filter_ngrams(all_ngrams, exclude_ngrams)\n"
   ]
  },
  {
   "cell_type": "code",
   "execution_count": null,
   "metadata": {},
   "outputs": [],
   "source": [
    "import pickle\n",
    "with open(\"../all_ngrams.pkl\", \"wb\") as input_file:\n",
    "    pickle.dump(filtered_ngrams, input_file)"
   ]
  }
 ],
 "metadata": {
  "kernelspec": {
   "display_name": "Python 3",
   "language": "python",
   "name": "python3"
  },
  "language_info": {
   "codemirror_mode": {
    "name": "ipython",
    "version": 3
   },
   "file_extension": ".py",
   "mimetype": "text/x-python",
   "name": "python",
   "nbconvert_exporter": "python",
   "pygments_lexer": "ipython3",
   "version": "3.9.11"
  }
 },
 "nbformat": 4,
 "nbformat_minor": 2
}
