{
 "cells": [
  {
   "cell_type": "code",
   "execution_count": 1,
   "metadata": {},
   "outputs": [
    {
     "name": "stderr",
     "output_type": "stream",
     "text": [
      "c:\\Users\\yaoji\\AppData\\Local\\Programs\\Python\\Python39\\lib\\site-packages\\tqdm\\auto.py:21: TqdmWarning: IProgress not found. Please update jupyter and ipywidgets. See https://ipywidgets.readthedocs.io/en/stable/user_install.html\n",
      "  from .autonotebook import tqdm as notebook_tqdm\n"
     ]
    },
    {
     "name": "stdout",
     "output_type": "stream",
     "text": [
      "WARNING:tensorflow:From C:\\Users\\yaoji\\AppData\\Roaming\\Python\\Python39\\site-packages\\keras\\src\\losses.py:2976: The name tf.losses.sparse_softmax_cross_entropy is deprecated. Please use tf.compat.v1.losses.sparse_softmax_cross_entropy instead.\n",
      "\n"
     ]
    },
    {
     "name": "stderr",
     "output_type": "stream",
     "text": [
      "Some weights of DistilBertForQuestionAnswering were not initialized from the model checkpoint at distilbert/distilbert-base-uncased and are newly initialized: ['qa_outputs.bias', 'qa_outputs.weight']\n",
      "You should probably TRAIN this model on a down-stream task to be able to use it for predictions and inference.\n"
     ]
    }
   ],
   "source": [
    "from transformers import AutoTokenizer, AutoModelForQuestionAnswering, TrainingArguments, Trainer\n",
    "\n",
    "tokenizer = AutoTokenizer.from_pretrained(\"distilbert/distilbert-base-uncased\")\n",
    "\n",
    "model = AutoModelForQuestionAnswering.from_pretrained(\"distilbert/distilbert-base-uncased\")"
   ]
  },
  {
   "cell_type": "code",
   "execution_count": 2,
   "metadata": {},
   "outputs": [
    {
     "data": {
      "text/html": [
       "<div>\n",
       "<style scoped>\n",
       "    .dataframe tbody tr th:only-of-type {\n",
       "        vertical-align: middle;\n",
       "    }\n",
       "\n",
       "    .dataframe tbody tr th {\n",
       "        vertical-align: top;\n",
       "    }\n",
       "\n",
       "    .dataframe thead th {\n",
       "        text-align: right;\n",
       "    }\n",
       "</style>\n",
       "<table border=\"1\" class=\"dataframe\">\n",
       "  <thead>\n",
       "    <tr style=\"text-align: right;\">\n",
       "      <th></th>\n",
       "      <th>Topic</th>\n",
       "      <th>TaggedSentence</th>\n",
       "      <th>Answer</th>\n",
       "      <th>Question</th>\n",
       "      <th>Label</th>\n",
       "      <th>Abstractive Summary</th>\n",
       "    </tr>\n",
       "  </thead>\n",
       "  <tbody>\n",
       "    <tr>\n",
       "      <th>0</th>\n",
       "      <td>-1</td>\n",
       "      <td>The [HL] development [HL] of highly immunogeni...</td>\n",
       "      <td>development</td>\n",
       "      <td>What is critical for controlling the COVID-19 ...</td>\n",
       "      <td>pandemic_covid19_infection</td>\n",
       "      <td>The development of highly immunogenic and safe...</td>\n",
       "    </tr>\n",
       "    <tr>\n",
       "      <th>1</th>\n",
       "      <td>-1</td>\n",
       "      <td>The development of highly immunogenic and safe...</td>\n",
       "      <td>immunogenic vaccines</td>\n",
       "      <td>The development of highly immunogenic and safe...</td>\n",
       "      <td>pandemic_covid19_infection</td>\n",
       "      <td>The development of highly immunogenic and safe...</td>\n",
       "    </tr>\n",
       "    <tr>\n",
       "      <th>2</th>\n",
       "      <td>-1</td>\n",
       "      <td>The development of highly immunogenic and safe...</td>\n",
       "      <td>be critical</td>\n",
       "      <td>What will the development of highly immunogeni...</td>\n",
       "      <td>pandemic_covid19_infection</td>\n",
       "      <td>The development of highly immunogenic and safe...</td>\n",
       "    </tr>\n",
       "    <tr>\n",
       "      <th>3</th>\n",
       "      <td>-1</td>\n",
       "      <td>No one [HL] type [HL] of vaccine will likely f...</td>\n",
       "      <td>type</td>\n",
       "      <td>What type of vaccine will likely fill the glob...</td>\n",
       "      <td>pandemic_covid19_infection</td>\n",
       "      <td>The development of highly immunogenic and safe...</td>\n",
       "    </tr>\n",
       "    <tr>\n",
       "      <th>4</th>\n",
       "      <td>-1</td>\n",
       "      <td>No one type of [HL] vaccine [HL] will likely f...</td>\n",
       "      <td>vaccine</td>\n",
       "      <td>What type of vaccine will likely fill the glob...</td>\n",
       "      <td>pandemic_covid19_infection</td>\n",
       "      <td>The development of highly immunogenic and safe...</td>\n",
       "    </tr>\n",
       "    <tr>\n",
       "      <th>...</th>\n",
       "      <td>...</td>\n",
       "      <td>...</td>\n",
       "      <td>...</td>\n",
       "      <td>...</td>\n",
       "      <td>...</td>\n",
       "      <td>...</td>\n",
       "    </tr>\n",
       "    <tr>\n",
       "      <th>1425</th>\n",
       "      <td>155</td>\n",
       "      <td>Half of our [HL] patients [HL] had comorbiditi...</td>\n",
       "      <td>patients</td>\n",
       "      <td>How many patients had comorbidities?</td>\n",
       "      <td>covid19_fever_pneumonia</td>\n",
       "      <td>The first Covid-19 listed studies with pediatr...</td>\n",
       "    </tr>\n",
       "    <tr>\n",
       "      <th>1426</th>\n",
       "      <td>155</td>\n",
       "      <td>Half of our patients [HL] had [HL] comorbiditi...</td>\n",
       "      <td>had</td>\n",
       "      <td>Half of our patients had what type of comorbid...</td>\n",
       "      <td>covid19_fever_pneumonia</td>\n",
       "      <td>The first Covid-19 listed studies with pediatr...</td>\n",
       "    </tr>\n",
       "    <tr>\n",
       "      <th>1427</th>\n",
       "      <td>155</td>\n",
       "      <td>The long-[HL] term impact [HL] of neurological...</td>\n",
       "      <td>term impact</td>\n",
       "      <td>What is uncertain about the long term impact o...</td>\n",
       "      <td>covid19_fever_pneumonia</td>\n",
       "      <td>The first Covid-19 listed studies with pediatr...</td>\n",
       "    </tr>\n",
       "    <tr>\n",
       "      <th>1428</th>\n",
       "      <td>155</td>\n",
       "      <td>The long-term impact of [HL] neurological dama...</td>\n",
       "      <td>neurological damage</td>\n",
       "      <td>What is uncertain about the long-term impact o...</td>\n",
       "      <td>covid19_fever_pneumonia</td>\n",
       "      <td>The first Covid-19 listed studies with pediatr...</td>\n",
       "    </tr>\n",
       "    <tr>\n",
       "      <th>1429</th>\n",
       "      <td>155</td>\n",
       "      <td>The long-term impact of neurological damage in...</td>\n",
       "      <td>remains uncertain</td>\n",
       "      <td>The long-term impact of neurological damage in...</td>\n",
       "      <td>covid19_fever_pneumonia</td>\n",
       "      <td>The first Covid-19 listed studies with pediatr...</td>\n",
       "    </tr>\n",
       "  </tbody>\n",
       "</table>\n",
       "<p>1430 rows × 6 columns</p>\n",
       "</div>"
      ],
      "text/plain": [
       "      Topic                                     TaggedSentence  \\\n",
       "0        -1  The [HL] development [HL] of highly immunogeni...   \n",
       "1        -1  The development of highly immunogenic and safe...   \n",
       "2        -1  The development of highly immunogenic and safe...   \n",
       "3        -1  No one [HL] type [HL] of vaccine will likely f...   \n",
       "4        -1  No one type of [HL] vaccine [HL] will likely f...   \n",
       "...     ...                                                ...   \n",
       "1425    155  Half of our [HL] patients [HL] had comorbiditi...   \n",
       "1426    155  Half of our patients [HL] had [HL] comorbiditi...   \n",
       "1427    155  The long-[HL] term impact [HL] of neurological...   \n",
       "1428    155  The long-term impact of [HL] neurological dama...   \n",
       "1429    155  The long-term impact of neurological damage in...   \n",
       "\n",
       "                    Answer                                           Question  \\\n",
       "0              development  What is critical for controlling the COVID-19 ...   \n",
       "1     immunogenic vaccines  The development of highly immunogenic and safe...   \n",
       "2              be critical  What will the development of highly immunogeni...   \n",
       "3                     type  What type of vaccine will likely fill the glob...   \n",
       "4                  vaccine  What type of vaccine will likely fill the glob...   \n",
       "...                    ...                                                ...   \n",
       "1425              patients               How many patients had comorbidities?   \n",
       "1426                   had  Half of our patients had what type of comorbid...   \n",
       "1427           term impact  What is uncertain about the long term impact o...   \n",
       "1428   neurological damage  What is uncertain about the long-term impact o...   \n",
       "1429     remains uncertain  The long-term impact of neurological damage in...   \n",
       "\n",
       "                           Label  \\\n",
       "0     pandemic_covid19_infection   \n",
       "1     pandemic_covid19_infection   \n",
       "2     pandemic_covid19_infection   \n",
       "3     pandemic_covid19_infection   \n",
       "4     pandemic_covid19_infection   \n",
       "...                          ...   \n",
       "1425     covid19_fever_pneumonia   \n",
       "1426     covid19_fever_pneumonia   \n",
       "1427     covid19_fever_pneumonia   \n",
       "1428     covid19_fever_pneumonia   \n",
       "1429     covid19_fever_pneumonia   \n",
       "\n",
       "                                    Abstractive Summary  \n",
       "0     The development of highly immunogenic and safe...  \n",
       "1     The development of highly immunogenic and safe...  \n",
       "2     The development of highly immunogenic and safe...  \n",
       "3     The development of highly immunogenic and safe...  \n",
       "4     The development of highly immunogenic and safe...  \n",
       "...                                                 ...  \n",
       "1425  The first Covid-19 listed studies with pediatr...  \n",
       "1426  The first Covid-19 listed studies with pediatr...  \n",
       "1427  The first Covid-19 listed studies with pediatr...  \n",
       "1428  The first Covid-19 listed studies with pediatr...  \n",
       "1429  The first Covid-19 listed studies with pediatr...  \n",
       "\n",
       "[1430 rows x 6 columns]"
      ]
     },
     "execution_count": 2,
     "metadata": {},
     "output_type": "execute_result"
    }
   ],
   "source": [
    "import pandas as pd\n",
    "df = pd.read_csv('../question_answer_pair_2.csv')\n",
    "df_context = pd.read_csv('../abstractive_summaries.csv')\n",
    "merged_df = pd.merge(df, df_context, on='Topic', how='left')\n",
    "merged_df"
   ]
  },
  {
   "cell_type": "code",
   "execution_count": 3,
   "metadata": {},
   "outputs": [],
   "source": [
    "merged_df = merged_df.rename(columns={\"Answer\": \"answers\", \"Question\" : \"question\", \"Abstractive Summary\" : \"context\"})\n",
    "\n",
    "# Convert the updated DataFrame to a list of dictionaries for question-answering\n",
    "qa_data_cleaned = merged_df[['question', 'answers', 'context']]"
   ]
  },
  {
   "cell_type": "code",
   "execution_count": 4,
   "metadata": {},
   "outputs": [
    {
     "name": "stderr",
     "output_type": "stream",
     "text": [
      "C:\\Users\\yaoji\\AppData\\Local\\Temp\\ipykernel_24440\\2725166270.py:1: SettingWithCopyWarning: \n",
      "A value is trying to be set on a copy of a slice from a DataFrame.\n",
      "Try using .loc[row_indexer,col_indexer] = value instead\n",
      "\n",
      "See the caveats in the documentation: https://pandas.pydata.org/pandas-docs/stable/user_guide/indexing.html#returning-a-view-versus-a-copy\n",
      "  qa_data_cleaned['answers'] = qa_data_cleaned['answers'].astype(str)\n",
      "C:\\Users\\yaoji\\AppData\\Local\\Temp\\ipykernel_24440\\2725166270.py:2: SettingWithCopyWarning: \n",
      "A value is trying to be set on a copy of a slice from a DataFrame.\n",
      "Try using .loc[row_indexer,col_indexer] = value instead\n",
      "\n",
      "See the caveats in the documentation: https://pandas.pydata.org/pandas-docs/stable/user_guide/indexing.html#returning-a-view-versus-a-copy\n",
      "  qa_data_cleaned['question'] = qa_data_cleaned['question'].astype(str)\n",
      "C:\\Users\\yaoji\\AppData\\Local\\Temp\\ipykernel_24440\\2725166270.py:3: SettingWithCopyWarning: \n",
      "A value is trying to be set on a copy of a slice from a DataFrame.\n",
      "Try using .loc[row_indexer,col_indexer] = value instead\n",
      "\n",
      "See the caveats in the documentation: https://pandas.pydata.org/pandas-docs/stable/user_guide/indexing.html#returning-a-view-versus-a-copy\n",
      "  qa_data_cleaned['context'] = qa_data_cleaned['context'].astype(str)\n"
     ]
    }
   ],
   "source": [
    "qa_data_cleaned['answers'] = qa_data_cleaned['answers'].astype(str)\n",
    "qa_data_cleaned['question'] = qa_data_cleaned['question'].astype(str)\n",
    "qa_data_cleaned['context'] = qa_data_cleaned['context'].astype(str)"
   ]
  },
  {
   "cell_type": "code",
   "execution_count": 5,
   "metadata": {},
   "outputs": [
    {
     "name": "stderr",
     "output_type": "stream",
     "text": [
      "C:\\Users\\yaoji\\AppData\\Local\\Temp\\ipykernel_24440\\775699054.py:10: SettingWithCopyWarning: \n",
      "A value is trying to be set on a copy of a slice from a DataFrame.\n",
      "Try using .loc[row_indexer,col_indexer] = value instead\n",
      "\n",
      "See the caveats in the documentation: https://pandas.pydata.org/pandas-docs/stable/user_guide/indexing.html#returning-a-view-versus-a-copy\n",
      "  qa_data_cleaned['answers'] = qa_data_cleaned.apply(lambda row: {'text': [row['answers']], 'answer_start': [find_answer_start(row['context'], row['answers'])]}, axis=1)\n"
     ]
    },
    {
     "data": {
      "text/html": [
       "<div>\n",
       "<style scoped>\n",
       "    .dataframe tbody tr th:only-of-type {\n",
       "        vertical-align: middle;\n",
       "    }\n",
       "\n",
       "    .dataframe tbody tr th {\n",
       "        vertical-align: top;\n",
       "    }\n",
       "\n",
       "    .dataframe thead th {\n",
       "        text-align: right;\n",
       "    }\n",
       "</style>\n",
       "<table border=\"1\" class=\"dataframe\">\n",
       "  <thead>\n",
       "    <tr style=\"text-align: right;\">\n",
       "      <th></th>\n",
       "      <th>question</th>\n",
       "      <th>answers</th>\n",
       "      <th>context</th>\n",
       "    </tr>\n",
       "  </thead>\n",
       "  <tbody>\n",
       "    <tr>\n",
       "      <th>0</th>\n",
       "      <td>What is critical for controlling the COVID-19 ...</td>\n",
       "      <td>{'text': ['development'], 'answer_start': [4]}</td>\n",
       "      <td>The development of highly immunogenic and safe...</td>\n",
       "    </tr>\n",
       "    <tr>\n",
       "      <th>1</th>\n",
       "      <td>The development of highly immunogenic and safe...</td>\n",
       "      <td>{'text': ['immunogenic vaccines'], 'answer_sta...</td>\n",
       "      <td>The development of highly immunogenic and safe...</td>\n",
       "    </tr>\n",
       "    <tr>\n",
       "      <th>2</th>\n",
       "      <td>What will the development of highly immunogeni...</td>\n",
       "      <td>{'text': ['be critical'], 'answer_start': [61]}</td>\n",
       "      <td>The development of highly immunogenic and safe...</td>\n",
       "    </tr>\n",
       "    <tr>\n",
       "      <th>3</th>\n",
       "      <td>What type of vaccine will likely fill the glob...</td>\n",
       "      <td>{'text': ['type'], 'answer_start': [119]}</td>\n",
       "      <td>The development of highly immunogenic and safe...</td>\n",
       "    </tr>\n",
       "    <tr>\n",
       "      <th>4</th>\n",
       "      <td>What type of vaccine will likely fill the glob...</td>\n",
       "      <td>{'text': ['vaccine'], 'answer_start': [47]}</td>\n",
       "      <td>The development of highly immunogenic and safe...</td>\n",
       "    </tr>\n",
       "    <tr>\n",
       "      <th>...</th>\n",
       "      <td>...</td>\n",
       "      <td>...</td>\n",
       "      <td>...</td>\n",
       "    </tr>\n",
       "    <tr>\n",
       "      <th>1425</th>\n",
       "      <td>How many patients had comorbidities?</td>\n",
       "      <td>{'text': ['patients'], 'answer_start': [49]}</td>\n",
       "      <td>The first Covid-19 listed studies with pediatr...</td>\n",
       "    </tr>\n",
       "    <tr>\n",
       "      <th>1426</th>\n",
       "      <td>Half of our patients had what type of comorbid...</td>\n",
       "      <td>{'text': ['had'], 'answer_start': [108]}</td>\n",
       "      <td>The first Covid-19 listed studies with pediatr...</td>\n",
       "    </tr>\n",
       "    <tr>\n",
       "      <th>1427</th>\n",
       "      <td>What is uncertain about the long term impact o...</td>\n",
       "      <td>{'text': ['term impact'], 'answer_start': [224]}</td>\n",
       "      <td>The first Covid-19 listed studies with pediatr...</td>\n",
       "    </tr>\n",
       "    <tr>\n",
       "      <th>1428</th>\n",
       "      <td>What is uncertain about the long-term impact o...</td>\n",
       "      <td>{'text': ['neurological damage'], 'answer_star...</td>\n",
       "      <td>The first Covid-19 listed studies with pediatr...</td>\n",
       "    </tr>\n",
       "    <tr>\n",
       "      <th>1429</th>\n",
       "      <td>The long-term impact of neurological damage in...</td>\n",
       "      <td>{'text': ['remains uncertain'], 'answer_start'...</td>\n",
       "      <td>The first Covid-19 listed studies with pediatr...</td>\n",
       "    </tr>\n",
       "  </tbody>\n",
       "</table>\n",
       "<p>1430 rows × 3 columns</p>\n",
       "</div>"
      ],
      "text/plain": [
       "                                               question  \\\n",
       "0     What is critical for controlling the COVID-19 ...   \n",
       "1     The development of highly immunogenic and safe...   \n",
       "2     What will the development of highly immunogeni...   \n",
       "3     What type of vaccine will likely fill the glob...   \n",
       "4     What type of vaccine will likely fill the glob...   \n",
       "...                                                 ...   \n",
       "1425               How many patients had comorbidities?   \n",
       "1426  Half of our patients had what type of comorbid...   \n",
       "1427  What is uncertain about the long term impact o...   \n",
       "1428  What is uncertain about the long-term impact o...   \n",
       "1429  The long-term impact of neurological damage in...   \n",
       "\n",
       "                                                answers  \\\n",
       "0        {'text': ['development'], 'answer_start': [4]}   \n",
       "1     {'text': ['immunogenic vaccines'], 'answer_sta...   \n",
       "2       {'text': ['be critical'], 'answer_start': [61]}   \n",
       "3             {'text': ['type'], 'answer_start': [119]}   \n",
       "4           {'text': ['vaccine'], 'answer_start': [47]}   \n",
       "...                                                 ...   \n",
       "1425       {'text': ['patients'], 'answer_start': [49]}   \n",
       "1426           {'text': ['had'], 'answer_start': [108]}   \n",
       "1427   {'text': ['term impact'], 'answer_start': [224]}   \n",
       "1428  {'text': ['neurological damage'], 'answer_star...   \n",
       "1429  {'text': ['remains uncertain'], 'answer_start'...   \n",
       "\n",
       "                                                context  \n",
       "0     The development of highly immunogenic and safe...  \n",
       "1     The development of highly immunogenic and safe...  \n",
       "2     The development of highly immunogenic and safe...  \n",
       "3     The development of highly immunogenic and safe...  \n",
       "4     The development of highly immunogenic and safe...  \n",
       "...                                                 ...  \n",
       "1425  The first Covid-19 listed studies with pediatr...  \n",
       "1426  The first Covid-19 listed studies with pediatr...  \n",
       "1427  The first Covid-19 listed studies with pediatr...  \n",
       "1428  The first Covid-19 listed studies with pediatr...  \n",
       "1429  The first Covid-19 listed studies with pediatr...  \n",
       "\n",
       "[1430 rows x 3 columns]"
      ]
     },
     "execution_count": 5,
     "metadata": {},
     "output_type": "execute_result"
    }
   ],
   "source": [
    "import pandas as pd\n",
    "\n",
    "# Assuming df is your pandas DataFrame\n",
    "\n",
    "# Define a function to find the start position of the answer in the context\n",
    "def find_answer_start(context, answer):\n",
    "    return context.find(answer)\n",
    "\n",
    "# Adjust the 'answers' column to match the expected structure\n",
    "qa_data_cleaned['answers'] = qa_data_cleaned.apply(lambda row: {'text': [row['answers']], 'answer_start': [find_answer_start(row['context'], row['answers'])]}, axis=1)\n",
    "\n",
    "# Show the updated DataFrame\n",
    "qa_data_cleaned"
   ]
  },
  {
   "cell_type": "code",
   "execution_count": 6,
   "metadata": {},
   "outputs": [],
   "source": [
    "def preprocess_function(examples):\n",
    "    questions = [q.strip() for q in examples[\"question\"]]\n",
    "    inputs = tokenizer(\n",
    "        questions,\n",
    "        examples[\"context\"],\n",
    "        max_length=384,\n",
    "        truncation=\"only_second\",\n",
    "        return_offsets_mapping=True,\n",
    "        padding=\"max_length\",\n",
    "    )\n",
    "\n",
    "    offset_mapping = inputs.pop(\"offset_mapping\")\n",
    "    answers = examples[\"answers\"]\n",
    "    start_positions = []\n",
    "    end_positions = []\n",
    "\n",
    "    for i, offset in enumerate(offset_mapping):\n",
    "        answer = answers[i]\n",
    "        start_char = answer[\"answer_start\"][0]\n",
    "        end_char = answer[\"answer_start\"][0] + len(answer[\"text\"][0])\n",
    "        sequence_ids = inputs.sequence_ids(i)\n",
    "\n",
    "        # Find the start and end of the context\n",
    "        idx = 0\n",
    "        while sequence_ids[idx] != 1:\n",
    "            idx += 1\n",
    "        context_start = idx\n",
    "        while sequence_ids[idx] == 1:\n",
    "            idx += 1\n",
    "        context_end = idx - 1\n",
    "\n",
    "        # If the answer is not fully inside the context, label it (0, 0)\n",
    "        if offset[context_start][0] > end_char or offset[context_end][1] < start_char:\n",
    "            start_positions.append(0)\n",
    "            end_positions.append(0)\n",
    "        else:\n",
    "            # Otherwise it's the start and end token positions\n",
    "            idx = context_start\n",
    "            while idx <= context_end and offset[idx][0] <= start_char:\n",
    "                idx += 1\n",
    "            start_positions.append(idx - 1)\n",
    "\n",
    "            idx = context_end\n",
    "            while idx >= context_start and offset[idx][1] >= end_char:\n",
    "                idx -= 1\n",
    "            end_positions.append(idx + 1)\n",
    "\n",
    "    inputs[\"start_positions\"] = start_positions\n",
    "    inputs[\"end_positions\"] = end_positions\n",
    "    return inputs"
   ]
  },
  {
   "cell_type": "code",
   "execution_count": 7,
   "metadata": {},
   "outputs": [
    {
     "name": "stderr",
     "output_type": "stream",
     "text": [
      "Map:   0%|          | 0/1144 [00:00<?, ? examples/s]"
     ]
    },
    {
     "name": "stderr",
     "output_type": "stream",
     "text": [
      "Map: 100%|██████████| 1144/1144 [00:00<00:00, 3788.06 examples/s]\n",
      "Map: 100%|██████████| 286/286 [00:00<00:00, 3466.41 examples/s]\n"
     ]
    }
   ],
   "source": [
    "from datasets import Dataset\n",
    "data_dicts = qa_data_cleaned.to_dict('records')\n",
    "dataset = Dataset.from_pandas(pd.DataFrame(data_dicts))\n",
    "dataset = dataset.train_test_split(test_size=0.2)\n",
    "\n",
    "tokenized_dataset = dataset.map(preprocess_function, batched=True, remove_columns=['question', 'answers', 'context'])"
   ]
  },
  {
   "cell_type": "code",
   "execution_count": 8,
   "metadata": {},
   "outputs": [],
   "source": [
    "from torch.utils.data import DataLoader\n",
    "from transformers import DataCollatorWithPadding\n",
    "\n",
    "# Initialize the data collator\n",
    "data_collator = DataCollatorWithPadding(tokenizer=tokenizer, return_tensors=\"pt\")\n",
    "\n",
    "# Assuming `tokenized_dataset` is your DatasetDict after applying preprocess_function\n",
    "\n",
    "# Convert the 'train' and 'test' splits to PyTorch DataLoader\n",
    "train_dataloader = DataLoader(\n",
    "    tokenized_dataset[\"train\"],\n",
    "    shuffle=True,\n",
    "    batch_size=16,\n",
    "    collate_fn=data_collator,\n",
    ")\n",
    "\n",
    "validation_dataloader = DataLoader(\n",
    "    tokenized_dataset[\"test\"],\n",
    "    shuffle=True,\n",
    "    batch_size=16,\n",
    "    collate_fn=data_collator,\n",
    ")"
   ]
  },
  {
   "cell_type": "code",
   "execution_count": 10,
   "metadata": {},
   "outputs": [],
   "source": [
    "from transformers import AutoModelForQuestionAnswering, TrainingArguments, Trainer\n",
    "\n",
    "training_args = TrainingArguments(\n",
    "    output_dir=\"my_awesome_qa_model\",\n",
    "    evaluation_strategy=\"epoch\",\n",
    "    learning_rate=2e-5,\n",
    "    per_device_train_batch_size=16,\n",
    "    per_device_eval_batch_size=16,\n",
    "    num_train_epochs=10,\n",
    "    weight_decay=0.0001,\n",
    "    push_to_hub=False,\n",
    ")\n",
    "\n",
    "trainer = Trainer(\n",
    "    model=model,\n",
    "    args=training_args,\n",
    "    train_dataset=tokenized_dataset[\"train\"],\n",
    "    eval_dataset=tokenized_dataset[\"test\"],\n",
    "    tokenizer=tokenizer,\n",
    "    data_collator=data_collator,\n",
    ")\n",
    "\n"
   ]
  },
  {
   "cell_type": "code",
   "execution_count": 11,
   "metadata": {},
   "outputs": [
    {
     "name": "stderr",
     "output_type": "stream",
     "text": [
      "                                                  \n",
      " 10%|█         | 72/720 [07:53<54:56,  5.09s/it]"
     ]
    },
    {
     "name": "stdout",
     "output_type": "stream",
     "text": [
      "{'eval_loss': 3.167964458465576, 'eval_runtime': 39.494, 'eval_samples_per_second': 7.242, 'eval_steps_per_second': 0.456, 'epoch': 1.0}\n"
     ]
    },
    {
     "name": "stderr",
     "output_type": "stream",
     "text": [
      "                                                   \n",
      " 20%|██        | 144/720 [15:44<48:37,  5.07s/it]"
     ]
    },
    {
     "name": "stdout",
     "output_type": "stream",
     "text": [
      "{'eval_loss': 2.5376968383789062, 'eval_runtime': 39.402, 'eval_samples_per_second': 7.259, 'eval_steps_per_second': 0.457, 'epoch': 2.0}\n"
     ]
    },
    {
     "name": "stderr",
     "output_type": "stream",
     "text": [
      "                                                   \n",
      " 30%|███       | 216/720 [23:33<42:33,  5.07s/it]"
     ]
    },
    {
     "name": "stdout",
     "output_type": "stream",
     "text": [
      "{'eval_loss': 2.396631956100464, 'eval_runtime': 39.34, 'eval_samples_per_second': 7.27, 'eval_steps_per_second': 0.458, 'epoch': 3.0}\n"
     ]
    },
    {
     "name": "stderr",
     "output_type": "stream",
     "text": [
      "                                                   \n",
      " 40%|████      | 288/720 [31:22<36:45,  5.10s/it]"
     ]
    },
    {
     "name": "stdout",
     "output_type": "stream",
     "text": [
      "{'eval_loss': 2.4326701164245605, 'eval_runtime': 39.312, 'eval_samples_per_second': 7.275, 'eval_steps_per_second': 0.458, 'epoch': 4.0}\n"
     ]
    },
    {
     "name": "stderr",
     "output_type": "stream",
     "text": [
      "                                                   \n",
      " 50%|█████     | 360/720 [39:11<30:29,  5.08s/it]"
     ]
    },
    {
     "name": "stdout",
     "output_type": "stream",
     "text": [
      "{'eval_loss': 2.5335865020751953, 'eval_runtime': 39.301, 'eval_samples_per_second': 7.277, 'eval_steps_per_second': 0.458, 'epoch': 5.0}\n"
     ]
    },
    {
     "name": "stderr",
     "output_type": "stream",
     "text": [
      "                                                   \n",
      " 60%|██████    | 432/720 [47:00<24:20,  5.07s/it]"
     ]
    },
    {
     "name": "stdout",
     "output_type": "stream",
     "text": [
      "{'eval_loss': 2.621722936630249, 'eval_runtime': 39.4769, 'eval_samples_per_second': 7.245, 'eval_steps_per_second': 0.456, 'epoch': 6.0}\n"
     ]
    },
    {
     "name": "stderr",
     "output_type": "stream",
     "text": [
      " 69%|██████▉   | 500/720 [53:49<22:06,  6.03s/it]  Checkpoint destination directory my_awesome_qa_model\\checkpoint-500 already exists and is non-empty.Saving will proceed but saved results may be invalid.\n"
     ]
    },
    {
     "name": "stdout",
     "output_type": "stream",
     "text": [
      "{'loss': 2.1486, 'learning_rate': 6.111111111111112e-06, 'epoch': 6.94}\n"
     ]
    },
    {
     "name": "stderr",
     "output_type": "stream",
     "text": [
      "                                                 \n",
      " 70%|███████   | 504/720 [54:50<18:39,  5.18s/it]"
     ]
    },
    {
     "name": "stdout",
     "output_type": "stream",
     "text": [
      "{'eval_loss': 2.8128652572631836, 'eval_runtime': 40.008, 'eval_samples_per_second': 7.149, 'eval_steps_per_second': 0.45, 'epoch': 7.0}\n"
     ]
    },
    {
     "name": "stderr",
     "output_type": "stream",
     "text": [
      "                                                   \n",
      " 80%|████████  | 576/720 [1:02:50<12:37,  5.26s/it]"
     ]
    },
    {
     "name": "stdout",
     "output_type": "stream",
     "text": [
      "{'eval_loss': 2.965693473815918, 'eval_runtime': 41.07, 'eval_samples_per_second': 6.964, 'eval_steps_per_second': 0.438, 'epoch': 8.0}\n"
     ]
    },
    {
     "name": "stderr",
     "output_type": "stream",
     "text": [
      "                                                   \n",
      " 90%|█████████ | 648/720 [1:10:43<06:17,  5.25s/it]"
     ]
    },
    {
     "name": "stdout",
     "output_type": "stream",
     "text": [
      "{'eval_loss': 2.981513500213623, 'eval_runtime': 39.548, 'eval_samples_per_second': 7.232, 'eval_steps_per_second': 0.455, 'epoch': 9.0}\n"
     ]
    },
    {
     "name": "stderr",
     "output_type": "stream",
     "text": [
      "                                                   \n",
      "100%|██████████| 720/720 [1:18:28<00:00,  6.54s/it]"
     ]
    },
    {
     "name": "stdout",
     "output_type": "stream",
     "text": [
      "{'eval_loss': 3.0148515701293945, 'eval_runtime': 39.368, 'eval_samples_per_second': 7.265, 'eval_steps_per_second': 0.457, 'epoch': 10.0}\n",
      "{'train_runtime': 4708.2905, 'train_samples_per_second': 2.43, 'train_steps_per_second': 0.153, 'train_loss': 1.8048279444376627, 'epoch': 10.0}\n"
     ]
    },
    {
     "name": "stderr",
     "output_type": "stream",
     "text": [
      "\n"
     ]
    },
    {
     "data": {
      "text/plain": [
       "TrainOutput(global_step=720, training_loss=1.8048279444376627, metrics={'train_runtime': 4708.2905, 'train_samples_per_second': 2.43, 'train_steps_per_second': 0.153, 'train_loss': 1.8048279444376627, 'epoch': 10.0})"
      ]
     },
     "execution_count": 11,
     "metadata": {},
     "output_type": "execute_result"
    }
   ],
   "source": [
    "trainer.train()"
   ]
  },
  {
   "cell_type": "code",
   "execution_count": 13,
   "metadata": {},
   "outputs": [],
   "source": [
    "import torch\n",
    "torch.save(model.state_dict(), '../model/model_weights_5.pth')"
   ]
  },
  {
   "cell_type": "code",
   "execution_count": 14,
   "metadata": {},
   "outputs": [
    {
     "name": "stderr",
     "output_type": "stream",
     "text": [
      "Some weights of DistilBertForQuestionAnswering were not initialized from the model checkpoint at distilbert/distilbert-base-uncased and are newly initialized: ['qa_outputs.bias', 'qa_outputs.weight']\n",
      "You should probably TRAIN this model on a down-stream task to be able to use it for predictions and inference.\n"
     ]
    },
    {
     "data": {
      "text/plain": [
       "DistilBertForQuestionAnswering(\n",
       "  (distilbert): DistilBertModel(\n",
       "    (embeddings): Embeddings(\n",
       "      (word_embeddings): Embedding(30522, 768, padding_idx=0)\n",
       "      (position_embeddings): Embedding(512, 768)\n",
       "      (LayerNorm): LayerNorm((768,), eps=1e-12, elementwise_affine=True)\n",
       "      (dropout): Dropout(p=0.1, inplace=False)\n",
       "    )\n",
       "    (transformer): Transformer(\n",
       "      (layer): ModuleList(\n",
       "        (0-5): 6 x TransformerBlock(\n",
       "          (attention): MultiHeadSelfAttention(\n",
       "            (dropout): Dropout(p=0.1, inplace=False)\n",
       "            (q_lin): Linear(in_features=768, out_features=768, bias=True)\n",
       "            (k_lin): Linear(in_features=768, out_features=768, bias=True)\n",
       "            (v_lin): Linear(in_features=768, out_features=768, bias=True)\n",
       "            (out_lin): Linear(in_features=768, out_features=768, bias=True)\n",
       "          )\n",
       "          (sa_layer_norm): LayerNorm((768,), eps=1e-12, elementwise_affine=True)\n",
       "          (ffn): FFN(\n",
       "            (dropout): Dropout(p=0.1, inplace=False)\n",
       "            (lin1): Linear(in_features=768, out_features=3072, bias=True)\n",
       "            (lin2): Linear(in_features=3072, out_features=768, bias=True)\n",
       "            (activation): GELUActivation()\n",
       "          )\n",
       "          (output_layer_norm): LayerNorm((768,), eps=1e-12, elementwise_affine=True)\n",
       "        )\n",
       "      )\n",
       "    )\n",
       "  )\n",
       "  (qa_outputs): Linear(in_features=768, out_features=2, bias=True)\n",
       "  (dropout): Dropout(p=0.1, inplace=False)\n",
       ")"
      ]
     },
     "execution_count": 14,
     "metadata": {},
     "output_type": "execute_result"
    }
   ],
   "source": [
    "model = AutoModelForQuestionAnswering.from_pretrained(\"distilbert/distilbert-base-uncased\")\n",
    "model.load_state_dict(torch.load('../model/model_weights_5.pth'))\n",
    "model.eval()"
   ]
  },
  {
   "cell_type": "code",
   "execution_count": 15,
   "metadata": {},
   "outputs": [
    {
     "data": {
      "image/png": "[encoded data removed]",
      "text/plain": [
       "<Figure size 640x480 with 1 Axes>"
      ]
     },
     "metadata": {},
     "output_type": "display_data"
    }
   ],
   "source": [
    "train_losses = [log['loss'] for log in trainer.state.log_history if 'loss' in log and 'eval_loss' not in log]\n",
    "eval_losses = [log['eval_loss'] for log in trainer.state.log_history if 'eval_loss' in log]\n",
    "eval_metrics = [log for log in trainer.state.log_history if 'eval_loss' in log]  # Includes all eval metrics\n",
    "\n",
    "import matplotlib.pyplot as plt\n",
    "\n",
    "# Plot training loss\n",
    "plt.plot(train_losses, label='Training Loss')\n",
    "\n",
    "# Since evaluation might happen less frequently, you might want to note these points specifically\n",
    "epochs = range(1, len(eval_losses) + 1)\n",
    "plt.plot(epochs, eval_losses, 'bo-', label='Evaluation Loss')\n",
    "\n",
    "plt.title('Training and Evaluation Loss')\n",
    "plt.xlabel('Step' if len(train_losses) > len(epochs) else 'Epoch')\n",
    "plt.ylabel('Loss')\n",
    "plt.legend()\n",
    "plt.show()\n"
   ]
  },
  {
   "cell_type": "code",
   "execution_count": 18,
   "metadata": {},
   "outputs": [],
   "source": [
    "question = \"What causes the creation of new routes for drug trafficking?\"\n",
    "context = \"More than 35 million people worldwide are currently addicted to drugs. COVID-19 has created new routes for drug trafficking that increase the risk of drug addiction, making it vital to address this problem. The aim is to effectively protect the physical health of PWUD and prevent the combination of COVID-19 and the physiological and psychological effects of drugs from affecting relapse behaviour.\""
   ]
  },
  {
   "cell_type": "code",
   "execution_count": 19,
   "metadata": {},
   "outputs": [
    {
     "data": {
      "text/plain": [
       "{'score': 0.4343598783016205, 'start': 71, 'end': 79, 'answer': 'COVID-19'}"
      ]
     },
     "execution_count": 19,
     "metadata": {},
     "output_type": "execute_result"
    }
   ],
   "source": [
    "from transformers import pipeline\n",
    "\n",
    "question_answerer = pipeline(\"question-answering\", model=model, tokenizer=tokenizer)\n",
    "question_answerer(question=question, context=context)"
   ]
  }
 ],
 "metadata": {
  "kernelspec": {
   "display_name": "Python 3",
   "language": "python",
   "name": "python3"
  },
  "language_info": {
   "codemirror_mode": {
    "name": "ipython",
    "version": 3
   },
   "file_extension": ".py",
   "mimetype": "text/x-python",
   "name": "python",
   "nbconvert_exporter": "python",
   "pygments_lexer": "ipython3",
   "version": "3.9.11"
  }
 },
 "nbformat": 4,
 "nbformat_minor": 2
}
